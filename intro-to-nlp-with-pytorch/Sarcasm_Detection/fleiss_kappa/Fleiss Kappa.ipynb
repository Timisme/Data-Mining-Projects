{
 "cells": [
  {
   "cell_type": "markdown",
   "metadata": {},
   "source": [
    "# Fleiss Kappa\n",
    "\n",
    "Interpretation\n",
    "> It can be interpreted as expressing the extent to which the observed amount of agreement among raters exceeds what would be expected if all raters made their ratings completely randomly.\n",
    "\n",
    "The raters can rate different items whereas for Cohen's they need to rate the exact same items\n",
    "> Fleiss' kappa specifically allows that although there are a fixed number of raters (e.g., three), different items may be rated by different individuals\n",
    "\n",
    "\\begin{equation*}\n",
    "\\kappa =  \\frac{\\bar p - \\bar p_e}{1-\\bar p_e}\n",
    "\\end{equation*}\n",
    "\n",
    "# Worked Example\n",
    "\n",
    "In the following example, 3 raters (n) assign 5 \"subject\" (N) to a total of 2 categories (k). The categories are presented in the columns, while the subjects are presented in the rows. Each cell lists the number of raters who assigned the indicated (row) subject to the indicated (column) category.\n",
    "\n",
    "| nij   | yes     | no   | Pi     |\n",
    "|-------|---------|------|---------\n",
    "| 1     | 3       | 0    | 0.2    | \n",
    "| 2     | 1       | 2    | 0      | \n",
    "| 3     | 2       | 1    | 0      | \n",
    "| 4     | 0       | 3    | 0.2    | \n",
    "| 5     | 2       | 1    | 0      | \n",
    "| Total | 8       | 7    | 0.4    |\n",
    "| pj    | 0.53    | 0.46 | 0.15   |\n",
    "\n",
    "\n",
    "N = 5, n = 3, k = 2 (yes/no)\n",
    "\n",
    "For example the first row (P_1):\n",
    "```\n",
    "P_1 = (3 ** 2 + 0 ** 2 - 5) / (5 * 4) = 4/20 = 1/5\n",
    "```\n",
    "\n",
    "```\n",
    "P_2 = (1 ** 2 + 2 ** 2 - 5) / (5 * 4) = 0\n",
    "```\n",
    "\n",
    "And the first columns (p_1):\n",
    "```\n",
    "p_1 = 8 / (5 * 2) = 8/15 = 4/5 = 0.53\n",
    "```\n",
    "\n",
    "Go through the worked example [here](https://www.wikiwand.com/en/Fleiss'_kappa#/Worked_example) if this is not clear.\n",
    "\n",
    "Now you can calculate Kappa:\n",
    "```\n",
    "P_bar = (1 / 5) * (0.2+0+0+0.2+0) = 0.08\n",
    "P_bar_e = 0.53 ** 2 + 0.46 ** 2 = 0.28 + 0.21 = 0.49\n",
    "```\n",
    "\n",
    "At this point we have everything we need and `kappa` is calculated:\n",
    "```\n",
    "kappa = (0.08 - 0.49) / (1 - 0.49) = -0.41/0.51 = -0.8\n"
   ]
  },
  {
   "cell_type": "markdown",
   "metadata": {},
   "source": [
    "# Interpretation\n",
    "\n",
    " - < 0\tPoor agreement\n",
    " - 0.01 – 0.20\tSlight agreement\n",
    " - 0.21 – 0.40\tFair agreement\n",
    " - 0.41 – 0.60\tModerate agreement\n",
    " - 0.61 – 0.80\tSubstantial agreement\n",
    " - 0.81 – 1.00\tAlmost perfect agreement"
   ]
  },
  {
   "cell_type": "code",
   "execution_count": 1,
   "metadata": {},
   "outputs": [],
   "source": [
    "N = 26709"
   ]
  },
  {
   "cell_type": "code",
   "execution_count": 2,
   "metadata": {},
   "outputs": [],
   "source": [
    "import csv\n",
    "import sys\n",
    "# number of raters n\n",
    "n = 3\n",
    "\n",
    "# category assignment (yes/no)\n",
    "k = 2\n",
    "\n",
    "# total number of tweets\n",
    "N = 26709\n",
    "\n",
    "# Proportion of all assignments to Yes\n",
    "p_yes = 0\n",
    "sum_of_yes_per_tweet = 0\n",
    "\n",
    "# Proportion of all assignments to No\n",
    "p_no = 0\n",
    "sum_of_no_per_tweet = 0\n",
    "\n",
    "total_extent = 0\n",
    "sarcasm_corpus = 0\n",
    "non_sarcasm_corpus = 0"
   ]
  },
  {
   "cell_type": "code",
   "execution_count": 3,
   "metadata": {},
   "outputs": [],
   "source": [
    "## Construct a table\n",
    "\n",
    "f = open(\"fleiss_kappa.csv\", 'wt')\n",
    "fleiss_kappa_writer = csv.writer(f)\n",
    "i = 0\n",
    "list_of_tuples = []\n",
    "with open(\"rated.csv\", 'r',encoding='utf-8', errors='ignore') as csvfile:\n",
    "    reader = csv.reader(csvfile)\n",
    "    for tweet,r1,r2,r3 in reader:\n",
    "      if tweet and r1 and r2 and r3:\n",
    "         i += 1\n",
    "         yes_per_tweet = 0\n",
    "         no_per_tweet = 0\n",
    "         if(r1.lower() == \"yes\"):\n",
    "            yes_per_tweet +=1\n",
    "         if(r2.lower() == \"yes\"):\n",
    "            yes_per_tweet += 1\n",
    "         if(r3.lower() == \"yes\"):\n",
    "            yes_per_tweet += 1\n",
    "         if((r1.lower() == \"no\") or (r1.lower() == \"not sure\")):\n",
    "            no_per_tweet += 1\n",
    "         if((r2.lower() == \"no\") or (r2.lower() == \"not sure\")):\n",
    "            no_per_tweet += 1\n",
    "         if((r3.lower() == \"no\") or (r3.lower() == \"not sure\")):\n",
    "            no_per_tweet += 1\n",
    "\n",
    "         tuple = (i,yes_per_tweet,no_per_tweet)\n",
    "         list_of_tuples.append(tuple)\n",
    "         fleiss_kappa_writer.writerow([i,yes_per_tweet,no_per_tweet])"
   ]
  },
  {
   "cell_type": "code",
   "execution_count": 4,
   "metadata": {},
   "outputs": [
    {
     "name": "stdout",
     "output_type": "stream",
     "text": [
      "Proportion of all assignments to the YES category (p_yes):  0.501079536236225\n",
      "Proportion of all assignments to the NO category (p_no):  0.498920463763775\n",
      "Overall extent of agreement(p_mean):  0.5013665805534948\n",
      "Mean proportion of agreement(p_expected):  0.5000023307969708\n",
      "KAPPA:  0.0027285122322641907\n"
     ]
    }
   ],
   "source": [
    "# Calculate Fleiss Kappa to find out how good is the agreement among raters\n",
    "\n",
    "sum_of_all_yes = 0\n",
    "sum_of_all_no = 0\n",
    "\n",
    "list_of_P_i = []\n",
    "for tweet,n_yes,n_no in list_of_tuples:\n",
    "   sum_of_all_yes += n_yes\n",
    "   sum_of_all_no += n_no\n",
    "   list_of_P_i.append( (1/(float(n)*(n-1))) * (((n_yes**2) + (n_no**2)) - n) )\n",
    "\n",
    "p_yes = (1/(float(N) * n)) * sum_of_all_yes\n",
    "p_no = (1/(float(N) * n)) * sum_of_all_no\n",
    "\n",
    "\n",
    "print(\"Proportion of all assignments to the YES category (p_yes): \",p_yes)\n",
    "print(\"Proportion of all assignments to the NO category (p_no): \" ,p_no)\n",
    "\n",
    "sum_of_all_p_i = 0\n",
    "for p in list_of_P_i:\n",
    "   sum_of_all_p_i += p\n",
    "\n",
    "p_dash = (sum_of_all_p_i/float(N))\n",
    "print(\"Overall extent of agreement(p_mean): \", p_dash)\n",
    "p_expected = (p_yes**2) + (p_no**2)\n",
    "\n",
    "print(\"Mean proportion of agreement(p_expected): \", p_expected)\n",
    "\n",
    "kappa = (p_dash - p_expected)/(1-p_expected)\n",
    "print(\"KAPPA: \",kappa)\n",
    "\n"
   ]
  },
  {
   "cell_type": "markdown",
   "metadata": {},
   "source": [
    "# Exercise - work out Fleiss Kappa for the following chart\n",
    "\n",
    "\n",
    "| nij   | yes     | no   | Pi     |\n",
    "|-------|---------|------|---------\n",
    "| 1     | 3       | 0    |        | \n",
    "| 2     | 0       | 3    |        | \n",
    "| 3     | 3       | 0    |        | \n",
    "| 4     | 0       | 3    |        | \n",
    "| 5     | 2       | 1    |        | \n",
    "| Total |         |      |        |\n",
    "| pj    |         |      |        |\n",
    "\n",
    "N = 5, n = 3, k = 2 (yes/no)"
   ]
  },
  {
   "cell_type": "markdown",
   "metadata": {},
   "source": [
    "# Solution\n",
    "\n",
    "N=5, n=3, k=2\n",
    "\n",
    "P_1 (square and add rows) = (3**2 + 0**2)-3/3*2 = 9-3/6 = 1\n",
    "P_2 = 1\n",
    "P_3 = 1\n",
    "P_4 = 1\n",
    "P_5 = (2**2 + 1**2)-3/3*2 = 2/6 = 1/3\n",
    "\n",
    "P = (1+1+1+1+1/3)/5 = 13/15 = 0.86\n",
    "\n",
    "Pe yes = (3+0+3+0+2)/(3*5) = 8/15\n",
    "Pe no = (0+3+0+3+1)/(3*5) = 7/15\n",
    "\n",
    "Pe = (8/15)**2 + (7/15)**2 = 0.49\n",
    "\n",
    "K = P-Pe/1-Pe = 0.86-0.49/1-0.49 ~= 0.73 = 73% substantial agreement\n"
   ]
  },
  {
   "cell_type": "code",
   "execution_count": 14,
   "metadata": {},
   "outputs": [
    {
     "name": "stdout",
     "output_type": "stream",
     "text": [
      "1.0 1.0 1.0 1.0 0.3333333333333333\n",
      "0.8666666666666666\n"
     ]
    }
   ],
   "source": [
    "p_1 = ((3**2 + 0**2)-3)/(3*2)\n",
    "p_2 = ((0**2 + 3**2)-3)/(3*2)\n",
    "p_3 = ((3**2 + 0**2)-3)/(3*2)\n",
    "p_4 = ((0**2 + 3**2)-3)/(3*2)\n",
    "p_5 = ((2**2 + 1**2)-3)/(3*2)\n",
    "print(p_1,p_2,p_3,p_4,p_5)\n",
    "\n",
    "p_bar = (p_1+p_2+p_3+p_4+p_5)/5\n",
    "print(p_bar)"
   ]
  },
  {
   "cell_type": "code",
   "execution_count": 10,
   "metadata": {},
   "outputs": [
    {
     "name": "stdout",
     "output_type": "stream",
     "text": [
      "0.28444444444444444\n"
     ]
    }
   ],
   "source": [
    "Pe_yes = ((3+0+3+0+2)/(5*3))**2\n",
    "print(Pe_yes)"
   ]
  },
  {
   "cell_type": "code",
   "execution_count": 11,
   "metadata": {},
   "outputs": [
    {
     "name": "stdout",
     "output_type": "stream",
     "text": [
      "0.2177777777777778\n"
     ]
    }
   ],
   "source": [
    "Pe_no = ((0+3+0+3+1)/(5*3))**2\n",
    "print(Pe_no)"
   ]
  },
  {
   "cell_type": "code",
   "execution_count": 13,
   "metadata": {},
   "outputs": [
    {
     "name": "stdout",
     "output_type": "stream",
     "text": [
      "0.5022222222222222\n"
     ]
    }
   ],
   "source": [
    "Pe = Pe_yes + Pe_no\n",
    "print(Pe)"
   ]
  },
  {
   "cell_type": "code",
   "execution_count": 16,
   "metadata": {},
   "outputs": [
    {
     "name": "stdout",
     "output_type": "stream",
     "text": [
      "0.732142857142857\n"
     ]
    }
   ],
   "source": [
    "Kappa = (p_bar-Pe)/(1-Pe) \n",
    "print(Kappa)"
   ]
  },
  {
   "cell_type": "code",
   "execution_count": null,
   "metadata": {},
   "outputs": [],
   "source": []
  }
 ],
 "metadata": {
  "kernelspec": {
   "display_name": "Python 3.5",
   "language": "python",
   "name": "python3"
  },
  "language_info": {
   "codemirror_mode": {
    "name": "ipython",
    "version": 3
   },
   "file_extension": ".py",
   "mimetype": "text/x-python",
   "name": "python",
   "nbconvert_exporter": "python",
   "pygments_lexer": "ipython3",
   "version": "3.5.5"
  }
 },
 "nbformat": 4,
 "nbformat_minor": 2
}
