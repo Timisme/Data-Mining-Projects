{
 "cells": [
  {
   "cell_type": "code",
   "execution_count": 1,
   "metadata": {},
   "outputs": [],
   "source": [
    "import pandas as pd \n",
    "import numpy as np\n",
    "import matplotlib.pyplot as plt\n",
    "from sklearn.tree import DecisionTreeClassifier, plot_tree\n",
    "from sklearn.model_selection import cross_val_score, train_test_split\n",
    "from sklearn.metrics import precision_recall_fscore_support\n",
    "from sklearn.naive_bayes import MultinomialNB, BernoulliNB\n",
    "from sklearn import preprocessing"
   ]
  },
  {
   "cell_type": "code",
   "execution_count": 70,
   "metadata": {},
   "outputs": [
    {
     "name": "stdout",
     "output_type": "stream",
     "text": [
      "原始資料columns數: 44\n",
      "篩選後columns數: 25\n"
     ]
    }
   ],
   "source": [
    "pd.set_option(\"display.max_columns\",100)\n",
    "df = pd.read_csv('Coffee-modified.csv')\n",
    "# df = pd.read_csv('arabica_data_cleaned.csv')\n",
    "\n",
    "print('原始資料columns數: {}'.format(len(df.columns)))\n",
    "\n",
    "# df.drop(axis= 1, columns= ['Owner','Farm.Name','Mill','Company','Producer','Certification.Address','Certification.Contact'], inplace= True)\n",
    "\n",
    "\n",
    "norm_cols = ['Species','Country.of.Origin','Number.of.Bags',\"Bag.Weight\",\"Harvest.Year\",\"Variety\",\"Processing.Method\"]\n",
    "flavor_cols = [\"Aroma\",\"Flavor\",\"Aftertaste\",\"Acidity\",\"Body\",\"Balance\",\"Uniformity\",\"Clean.Cup\",\"Sweetness\",\"Total.Cup.Points\",\"Moisture\",\"Category.One.Defects\",\"Quakers\",\"Category.Two.Defects\",\"Certification.Body\",\"altitude_low_meters\",\"altitude_high_meters\",\"altitude_mean_meters\"]\n",
    "cols = norm_cols + flavor_cols\n",
    "# print('column length: {}'.format(len(cols)))\n",
    "\n",
    "df = df[cols]\n",
    "# print(df.info())\n",
    "# print(df.describe())\n",
    "print('篩選後columns數: {}'.format(len(df.columns)))"
   ]
  },
  {
   "cell_type": "code",
   "execution_count": 3,
   "metadata": {},
   "outputs": [],
   "source": [
    "# df.loc[df['altitude_mean_meters']>5000]"
   ]
  },
  {
   "cell_type": "code",
   "execution_count": 4,
   "metadata": {},
   "outputs": [],
   "source": [
    "# df.loc[df['unit_of_measurement']=='ft']"
   ]
  },
  {
   "cell_type": "code",
   "execution_count": 5,
   "metadata": {},
   "outputs": [],
   "source": [
    "# df.nunique()"
   ]
  },
  {
   "cell_type": "code",
   "execution_count": 6,
   "metadata": {
    "scrolled": true
   },
   "outputs": [],
   "source": [
    "# df.info()"
   ]
  },
  {
   "cell_type": "markdown",
   "metadata": {},
   "source": [
    "# Preprocessing "
   ]
  },
  {
   "cell_type": "markdown",
   "metadata": {},
   "source": [
    "## Drop nan"
   ]
  },
  {
   "cell_type": "code",
   "execution_count": 7,
   "metadata": {},
   "outputs": [],
   "source": [
    "df.dropna(inplace= True)"
   ]
  },
  {
   "cell_type": "code",
   "execution_count": 8,
   "metadata": {},
   "outputs": [],
   "source": [
    "# df[df['altitude_mean_meters']>10000]"
   ]
  },
  {
   "cell_type": "code",
   "execution_count": 9,
   "metadata": {},
   "outputs": [],
   "source": [
    "df.drop(df[df['altitude_mean_meters']>10000].index,inplace=True)"
   ]
  },
  {
   "cell_type": "code",
   "execution_count": 10,
   "metadata": {},
   "outputs": [],
   "source": [
    "df = df.reset_index(drop= True)"
   ]
  },
  {
   "cell_type": "code",
   "execution_count": 11,
   "metadata": {},
   "outputs": [
    {
     "data": {
      "text/html": [
       "<div>\n",
       "<style scoped>\n",
       "    .dataframe tbody tr th:only-of-type {\n",
       "        vertical-align: middle;\n",
       "    }\n",
       "\n",
       "    .dataframe tbody tr th {\n",
       "        vertical-align: top;\n",
       "    }\n",
       "\n",
       "    .dataframe thead th {\n",
       "        text-align: right;\n",
       "    }\n",
       "</style>\n",
       "<table border=\"1\" class=\"dataframe\">\n",
       "  <thead>\n",
       "    <tr style=\"text-align: right;\">\n",
       "      <th></th>\n",
       "      <th>Species</th>\n",
       "      <th>Country.of.Origin</th>\n",
       "      <th>Number.of.Bags</th>\n",
       "      <th>Bag.Weight</th>\n",
       "      <th>Harvest.Year</th>\n",
       "      <th>Variety</th>\n",
       "      <th>Processing.Method</th>\n",
       "      <th>Aroma</th>\n",
       "      <th>Flavor</th>\n",
       "      <th>Aftertaste</th>\n",
       "      <th>Acidity</th>\n",
       "      <th>Body</th>\n",
       "      <th>Balance</th>\n",
       "      <th>Uniformity</th>\n",
       "      <th>Clean.Cup</th>\n",
       "      <th>Sweetness</th>\n",
       "      <th>Total.Cup.Points</th>\n",
       "      <th>Moisture</th>\n",
       "      <th>Category.One.Defects</th>\n",
       "      <th>Quakers</th>\n",
       "      <th>Category.Two.Defects</th>\n",
       "      <th>Certification.Body</th>\n",
       "      <th>altitude_low_meters</th>\n",
       "      <th>altitude_high_meters</th>\n",
       "      <th>altitude_mean_meters</th>\n",
       "    </tr>\n",
       "  </thead>\n",
       "  <tbody>\n",
       "    <tr>\n",
       "      <td>0</td>\n",
       "      <td>Arabica</td>\n",
       "      <td>Ethiopia</td>\n",
       "      <td>300</td>\n",
       "      <td>60 kg</td>\n",
       "      <td>2014</td>\n",
       "      <td>Other</td>\n",
       "      <td>Washed / Wet</td>\n",
       "      <td>8.75</td>\n",
       "      <td>8.67</td>\n",
       "      <td>8.5</td>\n",
       "      <td>8.58</td>\n",
       "      <td>8.42</td>\n",
       "      <td>8.42</td>\n",
       "      <td>10.0</td>\n",
       "      <td>10.0</td>\n",
       "      <td>10.0</td>\n",
       "      <td>89.92</td>\n",
       "      <td>0.12</td>\n",
       "      <td>0</td>\n",
       "      <td>0</td>\n",
       "      <td>1.0</td>\n",
       "      <td>METAD Agricultural Development plc</td>\n",
       "      <td>1950.0</td>\n",
       "      <td>2200.0</td>\n",
       "      <td>2075.0</td>\n",
       "    </tr>\n",
       "    <tr>\n",
       "      <td>1</td>\n",
       "      <td>Arabica</td>\n",
       "      <td>Ethiopia</td>\n",
       "      <td>300</td>\n",
       "      <td>60 kg</td>\n",
       "      <td>2014</td>\n",
       "      <td>Other</td>\n",
       "      <td>Washed / Wet</td>\n",
       "      <td>8.25</td>\n",
       "      <td>8.5</td>\n",
       "      <td>8.25</td>\n",
       "      <td>8.5</td>\n",
       "      <td>8.42</td>\n",
       "      <td>8.33</td>\n",
       "      <td>10.0</td>\n",
       "      <td>10.0</td>\n",
       "      <td>10.0</td>\n",
       "      <td>88.83</td>\n",
       "      <td>0.12</td>\n",
       "      <td>0</td>\n",
       "      <td>0</td>\n",
       "      <td>2.0</td>\n",
       "      <td>METAD Agricultural Development plc</td>\n",
       "      <td>1950.0</td>\n",
       "      <td>2200.0</td>\n",
       "      <td>2075.0</td>\n",
       "    </tr>\n",
       "    <tr>\n",
       "      <td>2</td>\n",
       "      <td>Arabica</td>\n",
       "      <td>Ethiopia</td>\n",
       "      <td>50</td>\n",
       "      <td>60 kg</td>\n",
       "      <td>2014</td>\n",
       "      <td>Other</td>\n",
       "      <td>Natural / Dry</td>\n",
       "      <td>8.08</td>\n",
       "      <td>8.58</td>\n",
       "      <td>8.5</td>\n",
       "      <td>8.5</td>\n",
       "      <td>7.67</td>\n",
       "      <td>8.42</td>\n",
       "      <td>10.0</td>\n",
       "      <td>10.0</td>\n",
       "      <td>10.0</td>\n",
       "      <td>88.25</td>\n",
       "      <td>0.1</td>\n",
       "      <td>0</td>\n",
       "      <td>0</td>\n",
       "      <td>4.0</td>\n",
       "      <td>METAD Agricultural Development plc</td>\n",
       "      <td>1795.0</td>\n",
       "      <td>1850.0</td>\n",
       "      <td>1822.5</td>\n",
       "    </tr>\n",
       "  </tbody>\n",
       "</table>\n",
       "</div>"
      ],
      "text/plain": [
       "   Species Country.of.Origin Number.of.Bags Bag.Weight Harvest.Year Variety  \\\n",
       "0  Arabica          Ethiopia            300      60 kg         2014   Other   \n",
       "1  Arabica          Ethiopia            300      60 kg         2014   Other   \n",
       "2  Arabica          Ethiopia             50      60 kg         2014   Other   \n",
       "\n",
       "  Processing.Method Aroma Flavor Aftertaste Acidity  Body  Balance  \\\n",
       "0      Washed / Wet  8.75   8.67        8.5    8.58  8.42     8.42   \n",
       "1      Washed / Wet  8.25    8.5       8.25     8.5  8.42     8.33   \n",
       "2     Natural / Dry  8.08   8.58        8.5     8.5  7.67     8.42   \n",
       "\n",
       "   Uniformity  Clean.Cup  Sweetness Total.Cup.Points Moisture  \\\n",
       "0        10.0       10.0       10.0            89.92     0.12   \n",
       "1        10.0       10.0       10.0            88.83     0.12   \n",
       "2        10.0       10.0       10.0            88.25      0.1   \n",
       "\n",
       "  Category.One.Defects Quakers  Category.Two.Defects  \\\n",
       "0                    0       0                   1.0   \n",
       "1                    0       0                   2.0   \n",
       "2                    0       0                   4.0   \n",
       "\n",
       "                   Certification.Body  altitude_low_meters  \\\n",
       "0  METAD Agricultural Development plc               1950.0   \n",
       "1  METAD Agricultural Development plc               1950.0   \n",
       "2  METAD Agricultural Development plc               1795.0   \n",
       "\n",
       "   altitude_high_meters  altitude_mean_meters  \n",
       "0                2200.0                2075.0  \n",
       "1                2200.0                2075.0  \n",
       "2                1850.0                1822.5  "
      ]
     },
     "execution_count": 11,
     "metadata": {},
     "output_type": "execute_result"
    }
   ],
   "source": [
    "df.head(3)"
   ]
  },
  {
   "cell_type": "code",
   "execution_count": 12,
   "metadata": {},
   "outputs": [],
   "source": [
    "# df.info()"
   ]
  },
  {
   "cell_type": "code",
   "execution_count": 13,
   "metadata": {},
   "outputs": [],
   "source": [
    "# df['Aroma'] = df['Aroma'].apply(lambda x: float(x))"
   ]
  },
  {
   "cell_type": "code",
   "execution_count": 14,
   "metadata": {},
   "outputs": [],
   "source": [
    "# for col in df.select_dtypes(include=['object']).columns:\n",
    "#     print('--------------------------------------------------')\n",
    "#     print(col+'\\n')\n",
    "#     print(df[col].value_counts())"
   ]
  },
  {
   "cell_type": "markdown",
   "metadata": {},
   "source": [
    "## 將數值型data從Obj轉成float"
   ]
  },
  {
   "cell_type": "code",
   "execution_count": 15,
   "metadata": {},
   "outputs": [],
   "source": [
    "df_obj = df.select_dtypes(include=['object'])\n",
    "for col in df_obj.columns:\n",
    "    try:\n",
    "        df[col] = df[col].apply(lambda x: float(x))\n",
    "    except:\n",
    "        pass"
   ]
  },
  {
   "cell_type": "code",
   "execution_count": 16,
   "metadata": {
    "scrolled": true
   },
   "outputs": [],
   "source": [
    "# df.info()"
   ]
  },
  {
   "cell_type": "code",
   "execution_count": 17,
   "metadata": {},
   "outputs": [
    {
     "data": {
      "text/html": [
       "<div>\n",
       "<style scoped>\n",
       "    .dataframe tbody tr th:only-of-type {\n",
       "        vertical-align: middle;\n",
       "    }\n",
       "\n",
       "    .dataframe tbody tr th {\n",
       "        vertical-align: top;\n",
       "    }\n",
       "\n",
       "    .dataframe thead th {\n",
       "        text-align: right;\n",
       "    }\n",
       "</style>\n",
       "<table border=\"1\" class=\"dataframe\">\n",
       "  <thead>\n",
       "    <tr style=\"text-align: right;\">\n",
       "      <th></th>\n",
       "      <th>Number.of.Bags</th>\n",
       "      <th>Aroma</th>\n",
       "      <th>Flavor</th>\n",
       "      <th>Aftertaste</th>\n",
       "      <th>Acidity</th>\n",
       "      <th>Body</th>\n",
       "      <th>Balance</th>\n",
       "      <th>Uniformity</th>\n",
       "      <th>Clean.Cup</th>\n",
       "      <th>Sweetness</th>\n",
       "      <th>Total.Cup.Points</th>\n",
       "      <th>Moisture</th>\n",
       "      <th>Category.One.Defects</th>\n",
       "      <th>Quakers</th>\n",
       "      <th>Category.Two.Defects</th>\n",
       "      <th>altitude_low_meters</th>\n",
       "      <th>altitude_high_meters</th>\n",
       "      <th>altitude_mean_meters</th>\n",
       "    </tr>\n",
       "  </thead>\n",
       "  <tbody>\n",
       "    <tr>\n",
       "      <td>count</td>\n",
       "      <td>966.000000</td>\n",
       "      <td>966.000000</td>\n",
       "      <td>966.000000</td>\n",
       "      <td>966.000000</td>\n",
       "      <td>966.000000</td>\n",
       "      <td>966.000000</td>\n",
       "      <td>966.000000</td>\n",
       "      <td>966.000000</td>\n",
       "      <td>966.000000</td>\n",
       "      <td>966.000000</td>\n",
       "      <td>966.000000</td>\n",
       "      <td>966.000000</td>\n",
       "      <td>966.000000</td>\n",
       "      <td>966.000000</td>\n",
       "      <td>966.000000</td>\n",
       "      <td>966.000000</td>\n",
       "      <td>966.000000</td>\n",
       "      <td>966.000000</td>\n",
       "    </tr>\n",
       "    <tr>\n",
       "      <td>mean</td>\n",
       "      <td>156.462733</td>\n",
       "      <td>7.564710</td>\n",
       "      <td>7.508623</td>\n",
       "      <td>7.380890</td>\n",
       "      <td>7.519700</td>\n",
       "      <td>7.500145</td>\n",
       "      <td>7.495031</td>\n",
       "      <td>9.869410</td>\n",
       "      <td>9.850166</td>\n",
       "      <td>9.931605</td>\n",
       "      <td>82.087308</td>\n",
       "      <td>0.094607</td>\n",
       "      <td>0.403727</td>\n",
       "      <td>0.138716</td>\n",
       "      <td>3.734990</td>\n",
       "      <td>1307.583131</td>\n",
       "      <td>1345.476688</td>\n",
       "      <td>1326.529910</td>\n",
       "    </tr>\n",
       "    <tr>\n",
       "      <td>std</td>\n",
       "      <td>125.582523</td>\n",
       "      <td>0.296996</td>\n",
       "      <td>0.316369</td>\n",
       "      <td>0.327359</td>\n",
       "      <td>0.302431</td>\n",
       "      <td>0.268210</td>\n",
       "      <td>0.338882</td>\n",
       "      <td>0.451225</td>\n",
       "      <td>0.758806</td>\n",
       "      <td>0.429759</td>\n",
       "      <td>2.616160</td>\n",
       "      <td>0.043931</td>\n",
       "      <td>1.972491</td>\n",
       "      <td>0.717950</td>\n",
       "      <td>5.459427</td>\n",
       "      <td>465.630701</td>\n",
       "      <td>477.307921</td>\n",
       "      <td>467.073563</td>\n",
       "    </tr>\n",
       "    <tr>\n",
       "      <td>min</td>\n",
       "      <td>1.000000</td>\n",
       "      <td>5.080000</td>\n",
       "      <td>6.170000</td>\n",
       "      <td>6.170000</td>\n",
       "      <td>5.250000</td>\n",
       "      <td>6.330000</td>\n",
       "      <td>6.080000</td>\n",
       "      <td>6.000000</td>\n",
       "      <td>0.000000</td>\n",
       "      <td>1.330000</td>\n",
       "      <td>59.830000</td>\n",
       "      <td>0.000000</td>\n",
       "      <td>0.000000</td>\n",
       "      <td>0.000000</td>\n",
       "      <td>0.000000</td>\n",
       "      <td>1.000000</td>\n",
       "      <td>1.000000</td>\n",
       "      <td>1.000000</td>\n",
       "    </tr>\n",
       "    <tr>\n",
       "      <td>25%</td>\n",
       "      <td>20.000000</td>\n",
       "      <td>7.420000</td>\n",
       "      <td>7.330000</td>\n",
       "      <td>7.170000</td>\n",
       "      <td>7.330000</td>\n",
       "      <td>7.330000</td>\n",
       "      <td>7.330000</td>\n",
       "      <td>10.000000</td>\n",
       "      <td>10.000000</td>\n",
       "      <td>10.000000</td>\n",
       "      <td>81.170000</td>\n",
       "      <td>0.100000</td>\n",
       "      <td>0.000000</td>\n",
       "      <td>0.000000</td>\n",
       "      <td>0.000000</td>\n",
       "      <td>1100.000000</td>\n",
       "      <td>1100.000000</td>\n",
       "      <td>1100.000000</td>\n",
       "    </tr>\n",
       "    <tr>\n",
       "      <td>50%</td>\n",
       "      <td>200.000000</td>\n",
       "      <td>7.580000</td>\n",
       "      <td>7.500000</td>\n",
       "      <td>7.420000</td>\n",
       "      <td>7.500000</td>\n",
       "      <td>7.500000</td>\n",
       "      <td>7.500000</td>\n",
       "      <td>10.000000</td>\n",
       "      <td>10.000000</td>\n",
       "      <td>10.000000</td>\n",
       "      <td>82.420000</td>\n",
       "      <td>0.110000</td>\n",
       "      <td>0.000000</td>\n",
       "      <td>0.000000</td>\n",
       "      <td>2.000000</td>\n",
       "      <td>1310.640000</td>\n",
       "      <td>1318.500000</td>\n",
       "      <td>1310.640000</td>\n",
       "    </tr>\n",
       "    <tr>\n",
       "      <td>75%</td>\n",
       "      <td>275.000000</td>\n",
       "      <td>7.750000</td>\n",
       "      <td>7.670000</td>\n",
       "      <td>7.580000</td>\n",
       "      <td>7.670000</td>\n",
       "      <td>7.670000</td>\n",
       "      <td>7.670000</td>\n",
       "      <td>10.000000</td>\n",
       "      <td>10.000000</td>\n",
       "      <td>10.000000</td>\n",
       "      <td>83.500000</td>\n",
       "      <td>0.120000</td>\n",
       "      <td>0.000000</td>\n",
       "      <td>0.000000</td>\n",
       "      <td>5.000000</td>\n",
       "      <td>1550.000000</td>\n",
       "      <td>1600.000000</td>\n",
       "      <td>1600.000000</td>\n",
       "    </tr>\n",
       "    <tr>\n",
       "      <td>max</td>\n",
       "      <td>600.000000</td>\n",
       "      <td>8.750000</td>\n",
       "      <td>8.670000</td>\n",
       "      <td>8.580000</td>\n",
       "      <td>8.580000</td>\n",
       "      <td>8.420000</td>\n",
       "      <td>8.580000</td>\n",
       "      <td>10.000000</td>\n",
       "      <td>10.000000</td>\n",
       "      <td>10.000000</td>\n",
       "      <td>89.920000</td>\n",
       "      <td>0.170000</td>\n",
       "      <td>31.000000</td>\n",
       "      <td>11.000000</td>\n",
       "      <td>47.000000</td>\n",
       "      <td>4287.000000</td>\n",
       "      <td>4287.000000</td>\n",
       "      <td>4287.000000</td>\n",
       "    </tr>\n",
       "  </tbody>\n",
       "</table>\n",
       "</div>"
      ],
      "text/plain": [
       "       Number.of.Bags       Aroma      Flavor  Aftertaste     Acidity  \\\n",
       "count      966.000000  966.000000  966.000000  966.000000  966.000000   \n",
       "mean       156.462733    7.564710    7.508623    7.380890    7.519700   \n",
       "std        125.582523    0.296996    0.316369    0.327359    0.302431   \n",
       "min          1.000000    5.080000    6.170000    6.170000    5.250000   \n",
       "25%         20.000000    7.420000    7.330000    7.170000    7.330000   \n",
       "50%        200.000000    7.580000    7.500000    7.420000    7.500000   \n",
       "75%        275.000000    7.750000    7.670000    7.580000    7.670000   \n",
       "max        600.000000    8.750000    8.670000    8.580000    8.580000   \n",
       "\n",
       "             Body     Balance  Uniformity   Clean.Cup   Sweetness  \\\n",
       "count  966.000000  966.000000  966.000000  966.000000  966.000000   \n",
       "mean     7.500145    7.495031    9.869410    9.850166    9.931605   \n",
       "std      0.268210    0.338882    0.451225    0.758806    0.429759   \n",
       "min      6.330000    6.080000    6.000000    0.000000    1.330000   \n",
       "25%      7.330000    7.330000   10.000000   10.000000   10.000000   \n",
       "50%      7.500000    7.500000   10.000000   10.000000   10.000000   \n",
       "75%      7.670000    7.670000   10.000000   10.000000   10.000000   \n",
       "max      8.420000    8.580000   10.000000   10.000000   10.000000   \n",
       "\n",
       "       Total.Cup.Points    Moisture  Category.One.Defects     Quakers  \\\n",
       "count        966.000000  966.000000            966.000000  966.000000   \n",
       "mean          82.087308    0.094607              0.403727    0.138716   \n",
       "std            2.616160    0.043931              1.972491    0.717950   \n",
       "min           59.830000    0.000000              0.000000    0.000000   \n",
       "25%           81.170000    0.100000              0.000000    0.000000   \n",
       "50%           82.420000    0.110000              0.000000    0.000000   \n",
       "75%           83.500000    0.120000              0.000000    0.000000   \n",
       "max           89.920000    0.170000             31.000000   11.000000   \n",
       "\n",
       "       Category.Two.Defects  altitude_low_meters  altitude_high_meters  \\\n",
       "count            966.000000           966.000000            966.000000   \n",
       "mean               3.734990          1307.583131           1345.476688   \n",
       "std                5.459427           465.630701            477.307921   \n",
       "min                0.000000             1.000000              1.000000   \n",
       "25%                0.000000          1100.000000           1100.000000   \n",
       "50%                2.000000          1310.640000           1318.500000   \n",
       "75%                5.000000          1550.000000           1600.000000   \n",
       "max               47.000000          4287.000000           4287.000000   \n",
       "\n",
       "       altitude_mean_meters  \n",
       "count            966.000000  \n",
       "mean            1326.529910  \n",
       "std              467.073563  \n",
       "min                1.000000  \n",
       "25%             1100.000000  \n",
       "50%             1310.640000  \n",
       "75%             1600.000000  \n",
       "max             4287.000000  "
      ]
     },
     "execution_count": 17,
     "metadata": {},
     "output_type": "execute_result"
    }
   ],
   "source": [
    "df.select_dtypes(include=['float']).describe()"
   ]
  },
  {
   "cell_type": "code",
   "execution_count": 18,
   "metadata": {},
   "outputs": [],
   "source": [
    "# for col in df.select_dtypes(include=['object']).columns:\n",
    "#     print('--------------------------------------------------')\n",
    "#     print(col+'\\n')\n",
    "#     print(df[col].value_counts())"
   ]
  },
  {
   "cell_type": "markdown",
   "metadata": {},
   "source": [
    "## Bag of Weight 文字處理 + 轉成float"
   ]
  },
  {
   "cell_type": "code",
   "execution_count": 19,
   "metadata": {},
   "outputs": [],
   "source": [
    "# df['Bag.Weight'].str.split(' ').values"
   ]
  },
  {
   "cell_type": "code",
   "execution_count": 20,
   "metadata": {},
   "outputs": [],
   "source": [
    "transformed_wt = []\n",
    "for wt in df['Bag.Weight'].str.split(' ').values:\n",
    "    if wt[1] =='kg':\n",
    "        transformed_wt.append(float(wt[0]))\n",
    "    elif (wt[1] == 'lb') | (wt[1]=='lbs'):\n",
    "        transformed_wt.append(float(wt[0])*0.45)\n",
    "    else:\n",
    "        print('error with', wt)"
   ]
  },
  {
   "cell_type": "code",
   "execution_count": 21,
   "metadata": {},
   "outputs": [],
   "source": [
    "df['Bag.Weight'] = transformed_wt"
   ]
  },
  {
   "cell_type": "markdown",
   "metadata": {},
   "source": [
    "## Harvest Year 處理"
   ]
  },
  {
   "cell_type": "code",
   "execution_count": 22,
   "metadata": {},
   "outputs": [],
   "source": [
    "transformed_yr = []\n",
    "for yr in df['Harvest.Year'].str.split('/').values:\n",
    "    if len(yr) == 1 :\n",
    "        transformed_yr.append(int(yr[0]))\n",
    "    elif len(yr) == 2 :\n",
    "        transformed_yr.append(int(yr[1]))\n",
    "    else:\n",
    "        print('error with', yr)"
   ]
  },
  {
   "cell_type": "code",
   "execution_count": 23,
   "metadata": {},
   "outputs": [],
   "source": [
    "df['Harvest.Year'] = transformed_yr"
   ]
  },
  {
   "cell_type": "markdown",
   "metadata": {},
   "source": [
    "-----"
   ]
  },
  {
   "cell_type": "markdown",
   "metadata": {},
   "source": [
    "## Encoder 針對連續型資料依照四分位編碼"
   ]
  },
  {
   "cell_type": "markdown",
   "metadata": {},
   "source": [
    "### 該col編碼從1到不重複之分位數的位置"
   ]
  },
  {
   "cell_type": "code",
   "execution_count": 24,
   "metadata": {},
   "outputs": [
    {
     "name": "stdout",
     "output_type": "stream",
     "text": [
      "-----finised!!!-----\n"
     ]
    }
   ],
   "source": [
    "for col in df.select_dtypes(include=['float']).columns:\n",
    "    \n",
    "    [min_, q1, q2, q3, max_] = df.describe()[col][3:].values\n",
    "    \n",
    "    unique_len = len(set(df.describe()[col][3:].values))\n",
    "    \n",
    "    labels = list(range(1,unique_len))\n",
    "\n",
    "    df[col] = pd.qcut(df[col],q=4, labels=labels, duplicates= 'drop')\n",
    "    \n",
    "print('-----finised!!!-----')"
   ]
  },
  {
   "cell_type": "code",
   "execution_count": 25,
   "metadata": {},
   "outputs": [
    {
     "data": {
      "text/html": [
       "<div>\n",
       "<style scoped>\n",
       "    .dataframe tbody tr th:only-of-type {\n",
       "        vertical-align: middle;\n",
       "    }\n",
       "\n",
       "    .dataframe tbody tr th {\n",
       "        vertical-align: top;\n",
       "    }\n",
       "\n",
       "    .dataframe thead th {\n",
       "        text-align: right;\n",
       "    }\n",
       "</style>\n",
       "<table border=\"1\" class=\"dataframe\">\n",
       "  <thead>\n",
       "    <tr style=\"text-align: right;\">\n",
       "      <th></th>\n",
       "      <th>Species</th>\n",
       "      <th>Country.of.Origin</th>\n",
       "      <th>Number.of.Bags</th>\n",
       "      <th>Bag.Weight</th>\n",
       "      <th>Harvest.Year</th>\n",
       "      <th>Variety</th>\n",
       "      <th>Processing.Method</th>\n",
       "      <th>Aroma</th>\n",
       "      <th>Flavor</th>\n",
       "      <th>Aftertaste</th>\n",
       "      <th>Acidity</th>\n",
       "      <th>Body</th>\n",
       "      <th>Balance</th>\n",
       "      <th>Uniformity</th>\n",
       "      <th>Clean.Cup</th>\n",
       "      <th>Sweetness</th>\n",
       "      <th>Total.Cup.Points</th>\n",
       "      <th>Moisture</th>\n",
       "      <th>Category.One.Defects</th>\n",
       "      <th>Quakers</th>\n",
       "      <th>Category.Two.Defects</th>\n",
       "      <th>Certification.Body</th>\n",
       "      <th>altitude_low_meters</th>\n",
       "      <th>altitude_high_meters</th>\n",
       "      <th>altitude_mean_meters</th>\n",
       "    </tr>\n",
       "  </thead>\n",
       "  <tbody>\n",
       "    <tr>\n",
       "      <td>0</td>\n",
       "      <td>Arabica</td>\n",
       "      <td>Ethiopia</td>\n",
       "      <td>4</td>\n",
       "      <td>3</td>\n",
       "      <td>2014</td>\n",
       "      <td>Other</td>\n",
       "      <td>Washed / Wet</td>\n",
       "      <td>4</td>\n",
       "      <td>4</td>\n",
       "      <td>4</td>\n",
       "      <td>4</td>\n",
       "      <td>4</td>\n",
       "      <td>4</td>\n",
       "      <td>1</td>\n",
       "      <td>1</td>\n",
       "      <td>1</td>\n",
       "      <td>4</td>\n",
       "      <td>3</td>\n",
       "      <td>1</td>\n",
       "      <td>1</td>\n",
       "      <td>1</td>\n",
       "      <td>METAD Agricultural Development plc</td>\n",
       "      <td>4</td>\n",
       "      <td>4</td>\n",
       "      <td>4</td>\n",
       "    </tr>\n",
       "    <tr>\n",
       "      <td>1</td>\n",
       "      <td>Arabica</td>\n",
       "      <td>Ethiopia</td>\n",
       "      <td>4</td>\n",
       "      <td>3</td>\n",
       "      <td>2014</td>\n",
       "      <td>Other</td>\n",
       "      <td>Washed / Wet</td>\n",
       "      <td>4</td>\n",
       "      <td>4</td>\n",
       "      <td>4</td>\n",
       "      <td>4</td>\n",
       "      <td>4</td>\n",
       "      <td>4</td>\n",
       "      <td>1</td>\n",
       "      <td>1</td>\n",
       "      <td>1</td>\n",
       "      <td>4</td>\n",
       "      <td>3</td>\n",
       "      <td>1</td>\n",
       "      <td>1</td>\n",
       "      <td>1</td>\n",
       "      <td>METAD Agricultural Development plc</td>\n",
       "      <td>4</td>\n",
       "      <td>4</td>\n",
       "      <td>4</td>\n",
       "    </tr>\n",
       "    <tr>\n",
       "      <td>2</td>\n",
       "      <td>Arabica</td>\n",
       "      <td>Ethiopia</td>\n",
       "      <td>2</td>\n",
       "      <td>3</td>\n",
       "      <td>2014</td>\n",
       "      <td>Other</td>\n",
       "      <td>Natural / Dry</td>\n",
       "      <td>4</td>\n",
       "      <td>4</td>\n",
       "      <td>4</td>\n",
       "      <td>4</td>\n",
       "      <td>3</td>\n",
       "      <td>4</td>\n",
       "      <td>1</td>\n",
       "      <td>1</td>\n",
       "      <td>1</td>\n",
       "      <td>4</td>\n",
       "      <td>1</td>\n",
       "      <td>1</td>\n",
       "      <td>1</td>\n",
       "      <td>2</td>\n",
       "      <td>METAD Agricultural Development plc</td>\n",
       "      <td>4</td>\n",
       "      <td>4</td>\n",
       "      <td>4</td>\n",
       "    </tr>\n",
       "  </tbody>\n",
       "</table>\n",
       "</div>"
      ],
      "text/plain": [
       "   Species Country.of.Origin Number.of.Bags Bag.Weight  Harvest.Year Variety  \\\n",
       "0  Arabica          Ethiopia              4          3          2014   Other   \n",
       "1  Arabica          Ethiopia              4          3          2014   Other   \n",
       "2  Arabica          Ethiopia              2          3          2014   Other   \n",
       "\n",
       "  Processing.Method Aroma Flavor Aftertaste Acidity Body Balance Uniformity  \\\n",
       "0      Washed / Wet     4      4          4       4    4       4          1   \n",
       "1      Washed / Wet     4      4          4       4    4       4          1   \n",
       "2     Natural / Dry     4      4          4       4    3       4          1   \n",
       "\n",
       "  Clean.Cup Sweetness Total.Cup.Points Moisture Category.One.Defects Quakers  \\\n",
       "0         1         1                4        3                    1       1   \n",
       "1         1         1                4        3                    1       1   \n",
       "2         1         1                4        1                    1       1   \n",
       "\n",
       "  Category.Two.Defects                  Certification.Body  \\\n",
       "0                    1  METAD Agricultural Development plc   \n",
       "1                    1  METAD Agricultural Development plc   \n",
       "2                    2  METAD Agricultural Development plc   \n",
       "\n",
       "  altitude_low_meters altitude_high_meters altitude_mean_meters  \n",
       "0                   4                    4                    4  \n",
       "1                   4                    4                    4  \n",
       "2                   4                    4                    4  "
      ]
     },
     "execution_count": 25,
     "metadata": {},
     "output_type": "execute_result"
    }
   ],
   "source": [
    "df.head(3)"
   ]
  },
  {
   "cell_type": "markdown",
   "metadata": {},
   "source": [
    "## 剩下類別型資料整理"
   ]
  },
  {
   "cell_type": "code",
   "execution_count": 26,
   "metadata": {},
   "outputs": [
    {
     "data": {
      "text/html": [
       "<div>\n",
       "<style scoped>\n",
       "    .dataframe tbody tr th:only-of-type {\n",
       "        vertical-align: middle;\n",
       "    }\n",
       "\n",
       "    .dataframe tbody tr th {\n",
       "        vertical-align: top;\n",
       "    }\n",
       "\n",
       "    .dataframe thead th {\n",
       "        text-align: right;\n",
       "    }\n",
       "</style>\n",
       "<table border=\"1\" class=\"dataframe\">\n",
       "  <thead>\n",
       "    <tr style=\"text-align: right;\">\n",
       "      <th></th>\n",
       "      <th>Species</th>\n",
       "      <th>Country.of.Origin</th>\n",
       "      <th>Variety</th>\n",
       "      <th>Processing.Method</th>\n",
       "      <th>Certification.Body</th>\n",
       "    </tr>\n",
       "  </thead>\n",
       "  <tbody>\n",
       "    <tr>\n",
       "      <td>0</td>\n",
       "      <td>Arabica</td>\n",
       "      <td>Ethiopia</td>\n",
       "      <td>Other</td>\n",
       "      <td>Washed / Wet</td>\n",
       "      <td>METAD Agricultural Development plc</td>\n",
       "    </tr>\n",
       "    <tr>\n",
       "      <td>1</td>\n",
       "      <td>Arabica</td>\n",
       "      <td>Ethiopia</td>\n",
       "      <td>Other</td>\n",
       "      <td>Washed / Wet</td>\n",
       "      <td>METAD Agricultural Development plc</td>\n",
       "    </tr>\n",
       "    <tr>\n",
       "      <td>2</td>\n",
       "      <td>Arabica</td>\n",
       "      <td>Ethiopia</td>\n",
       "      <td>Other</td>\n",
       "      <td>Natural / Dry</td>\n",
       "      <td>METAD Agricultural Development plc</td>\n",
       "    </tr>\n",
       "  </tbody>\n",
       "</table>\n",
       "</div>"
      ],
      "text/plain": [
       "   Species Country.of.Origin Variety Processing.Method  \\\n",
       "0  Arabica          Ethiopia   Other      Washed / Wet   \n",
       "1  Arabica          Ethiopia   Other      Washed / Wet   \n",
       "2  Arabica          Ethiopia   Other     Natural / Dry   \n",
       "\n",
       "                   Certification.Body  \n",
       "0  METAD Agricultural Development plc  \n",
       "1  METAD Agricultural Development plc  \n",
       "2  METAD Agricultural Development plc  "
      ]
     },
     "execution_count": 26,
     "metadata": {},
     "output_type": "execute_result"
    }
   ],
   "source": [
    "df.select_dtypes(include=['object']).head(3)"
   ]
  },
  {
   "cell_type": "code",
   "execution_count": 27,
   "metadata": {},
   "outputs": [],
   "source": [
    "# for col in df.select_dtypes(include=['object']).columns:\n",
    "#     print('--------------------------------------------------')\n",
    "#     print(col+'\\n')\n",
    "#     print(df[col].value_counts())"
   ]
  },
  {
   "cell_type": "markdown",
   "metadata": {},
   "source": [
    "-----"
   ]
  },
  {
   "cell_type": "markdown",
   "metadata": {},
   "source": [
    "# --- Ground Truth Labeling ---"
   ]
  },
  {
   "cell_type": "markdown",
   "metadata": {},
   "source": [
    "## 買的話 buy = 1 else 0"
   ]
  },
  {
   "cell_type": "code",
   "execution_count": 28,
   "metadata": {},
   "outputs": [
    {
     "data": {
      "text/html": [
       "<div>\n",
       "<style scoped>\n",
       "    .dataframe tbody tr th:only-of-type {\n",
       "        vertical-align: middle;\n",
       "    }\n",
       "\n",
       "    .dataframe tbody tr th {\n",
       "        vertical-align: top;\n",
       "    }\n",
       "\n",
       "    .dataframe thead th {\n",
       "        text-align: right;\n",
       "    }\n",
       "</style>\n",
       "<table border=\"1\" class=\"dataframe\">\n",
       "  <thead>\n",
       "    <tr style=\"text-align: right;\">\n",
       "      <th></th>\n",
       "      <th>Species</th>\n",
       "      <th>Country.of.Origin</th>\n",
       "      <th>Number.of.Bags</th>\n",
       "      <th>Bag.Weight</th>\n",
       "      <th>Harvest.Year</th>\n",
       "      <th>Variety</th>\n",
       "      <th>Processing.Method</th>\n",
       "      <th>Aroma</th>\n",
       "      <th>Flavor</th>\n",
       "      <th>Aftertaste</th>\n",
       "      <th>Acidity</th>\n",
       "      <th>Body</th>\n",
       "      <th>Balance</th>\n",
       "      <th>Uniformity</th>\n",
       "      <th>Clean.Cup</th>\n",
       "      <th>Sweetness</th>\n",
       "      <th>Total.Cup.Points</th>\n",
       "      <th>Moisture</th>\n",
       "      <th>Category.One.Defects</th>\n",
       "      <th>Quakers</th>\n",
       "      <th>Category.Two.Defects</th>\n",
       "      <th>Certification.Body</th>\n",
       "      <th>altitude_low_meters</th>\n",
       "      <th>altitude_high_meters</th>\n",
       "      <th>altitude_mean_meters</th>\n",
       "    </tr>\n",
       "  </thead>\n",
       "  <tbody>\n",
       "    <tr>\n",
       "      <td>0</td>\n",
       "      <td>Arabica</td>\n",
       "      <td>Ethiopia</td>\n",
       "      <td>4</td>\n",
       "      <td>3</td>\n",
       "      <td>2014</td>\n",
       "      <td>Other</td>\n",
       "      <td>Washed / Wet</td>\n",
       "      <td>4</td>\n",
       "      <td>4</td>\n",
       "      <td>4</td>\n",
       "      <td>4</td>\n",
       "      <td>4</td>\n",
       "      <td>4</td>\n",
       "      <td>1</td>\n",
       "      <td>1</td>\n",
       "      <td>1</td>\n",
       "      <td>4</td>\n",
       "      <td>3</td>\n",
       "      <td>1</td>\n",
       "      <td>1</td>\n",
       "      <td>1</td>\n",
       "      <td>METAD Agricultural Development plc</td>\n",
       "      <td>4</td>\n",
       "      <td>4</td>\n",
       "      <td>4</td>\n",
       "    </tr>\n",
       "    <tr>\n",
       "      <td>1</td>\n",
       "      <td>Arabica</td>\n",
       "      <td>Ethiopia</td>\n",
       "      <td>4</td>\n",
       "      <td>3</td>\n",
       "      <td>2014</td>\n",
       "      <td>Other</td>\n",
       "      <td>Washed / Wet</td>\n",
       "      <td>4</td>\n",
       "      <td>4</td>\n",
       "      <td>4</td>\n",
       "      <td>4</td>\n",
       "      <td>4</td>\n",
       "      <td>4</td>\n",
       "      <td>1</td>\n",
       "      <td>1</td>\n",
       "      <td>1</td>\n",
       "      <td>4</td>\n",
       "      <td>3</td>\n",
       "      <td>1</td>\n",
       "      <td>1</td>\n",
       "      <td>1</td>\n",
       "      <td>METAD Agricultural Development plc</td>\n",
       "      <td>4</td>\n",
       "      <td>4</td>\n",
       "      <td>4</td>\n",
       "    </tr>\n",
       "    <tr>\n",
       "      <td>2</td>\n",
       "      <td>Arabica</td>\n",
       "      <td>Ethiopia</td>\n",
       "      <td>2</td>\n",
       "      <td>3</td>\n",
       "      <td>2014</td>\n",
       "      <td>Other</td>\n",
       "      <td>Natural / Dry</td>\n",
       "      <td>4</td>\n",
       "      <td>4</td>\n",
       "      <td>4</td>\n",
       "      <td>4</td>\n",
       "      <td>3</td>\n",
       "      <td>4</td>\n",
       "      <td>1</td>\n",
       "      <td>1</td>\n",
       "      <td>1</td>\n",
       "      <td>4</td>\n",
       "      <td>1</td>\n",
       "      <td>1</td>\n",
       "      <td>1</td>\n",
       "      <td>2</td>\n",
       "      <td>METAD Agricultural Development plc</td>\n",
       "      <td>4</td>\n",
       "      <td>4</td>\n",
       "      <td>4</td>\n",
       "    </tr>\n",
       "  </tbody>\n",
       "</table>\n",
       "</div>"
      ],
      "text/plain": [
       "   Species Country.of.Origin Number.of.Bags Bag.Weight  Harvest.Year Variety  \\\n",
       "0  Arabica          Ethiopia              4          3          2014   Other   \n",
       "1  Arabica          Ethiopia              4          3          2014   Other   \n",
       "2  Arabica          Ethiopia              2          3          2014   Other   \n",
       "\n",
       "  Processing.Method Aroma Flavor Aftertaste Acidity Body Balance Uniformity  \\\n",
       "0      Washed / Wet     4      4          4       4    4       4          1   \n",
       "1      Washed / Wet     4      4          4       4    4       4          1   \n",
       "2     Natural / Dry     4      4          4       4    3       4          1   \n",
       "\n",
       "  Clean.Cup Sweetness Total.Cup.Points Moisture Category.One.Defects Quakers  \\\n",
       "0         1         1                4        3                    1       1   \n",
       "1         1         1                4        3                    1       1   \n",
       "2         1         1                4        1                    1       1   \n",
       "\n",
       "  Category.Two.Defects                  Certification.Body  \\\n",
       "0                    1  METAD Agricultural Development plc   \n",
       "1                    1  METAD Agricultural Development plc   \n",
       "2                    2  METAD Agricultural Development plc   \n",
       "\n",
       "  altitude_low_meters altitude_high_meters altitude_mean_meters  \n",
       "0                   4                    4                    4  \n",
       "1                   4                    4                    4  \n",
       "2                   4                    4                    4  "
      ]
     },
     "execution_count": 28,
     "metadata": {},
     "output_type": "execute_result"
    }
   ],
   "source": [
    "df.head(3)"
   ]
  },
  {
   "cell_type": "code",
   "execution_count": 29,
   "metadata": {},
   "outputs": [],
   "source": [
    "# df.nunique()"
   ]
  },
  {
   "cell_type": "code",
   "execution_count": 30,
   "metadata": {},
   "outputs": [],
   "source": [
    "# ------ Rules -------\n",
    "# if total grade == 4, buy\n",
    "# elif Variety == 'Bourbon' | Processing.Method == 'Pulped natural / honey', buy \n",
    "# elif Moisture <= 2 | Category.Two.Defects == 1 | altitude_mean_meters >= 3, buy \n",
    "# elif total_grade == 3, buy \n",
    "# --------------------"
   ]
  },
  {
   "cell_type": "code",
   "execution_count": 31,
   "metadata": {},
   "outputs": [],
   "source": [
    "df['Buy'] = 0\n",
    "\n",
    "for idx, row in df.iterrows():\n",
    "    if row['Total.Cup.Points'] == 4 :\n",
    "        df.loc[idx, 'Buy'] = 1\n",
    "    elif (row['Variety'] == 'Bourbon') | (row['Processing.Method'] == 'Pulped natural / honey') :\n",
    "        df.loc[idx, 'Buy'] = 1 \n",
    "    elif (row['Moisture'] <= 2) & (row['Category.Two.Defects'] == 1) & (row['altitude_mean_meters'] >= 3):\n",
    "        df.loc[idx, 'Buy'] = 1\n",
    "    elif (row['Total.Cup.Points'] == 3):\n",
    "        df.loc[idx, 'Buy'] = 1 \n",
    "#     elif (row['Total.Cup.Points'] == 3) & (row['Number.of.Bags']==4) :"
   ]
  },
  {
   "cell_type": "code",
   "execution_count": 32,
   "metadata": {},
   "outputs": [
    {
     "name": "stdout",
     "output_type": "stream",
     "text": [
      "Buy ratio : 0.641\n"
     ]
    }
   ],
   "source": [
    "print('Buy ratio : {}'.format(np.round(df['Buy'].value_counts()/len(df),3)[1]))"
   ]
  },
  {
   "cell_type": "markdown",
   "metadata": {},
   "source": [
    "---"
   ]
  },
  {
   "cell_type": "markdown",
   "metadata": {},
   "source": [
    "# 決策樹訓練\n",
    "由原本25個columns再排除咖啡豆品種, 種植年分, 品鑑機構, 種植國家 等四個columns"
   ]
  },
  {
   "cell_type": "code",
   "execution_count": 33,
   "metadata": {},
   "outputs": [],
   "source": [
    "df_candidates = df.drop(df[['Species','Harvest.Year','Certification.Body','Country.of.Origin']], axis=1)\n",
    "print('模型features數量: {} 個'.format(len(df_candidates.columns)-1))"
   ]
  },
  {
   "cell_type": "code",
   "execution_count": 35,
   "metadata": {},
   "outputs": [],
   "source": [
    "one_hot_df = pd.get_dummies(df_candidates.iloc[:,:-1],drop_first=False)"
   ]
  },
  {
   "cell_type": "code",
   "execution_count": 37,
   "metadata": {},
   "outputs": [],
   "source": [
    "df_x = one_hot_df.iloc[:,:-1]\n",
    "df_y = df.iloc[:,-1]"
   ]
  },
  {
   "cell_type": "code",
   "execution_count": 38,
   "metadata": {},
   "outputs": [],
   "source": [
    "train_x, test_x, train_y, test_y = train_test_split(df_x, df_y, test_size=0.2, shuffle=True, random_state= 42)"
   ]
  },
  {
   "cell_type": "markdown",
   "metadata": {},
   "source": [
    "## 決策樹模型建立"
   ]
  },
  {
   "cell_type": "code",
   "execution_count": 39,
   "metadata": {},
   "outputs": [],
   "source": [
    "clf = DecisionTreeClassifier(random_state= 42, criterion='gini')"
   ]
  },
  {
   "cell_type": "code",
   "execution_count": 40,
   "metadata": {},
   "outputs": [],
   "source": [
    "model = clf.fit(train_x, train_y.values)"
   ]
  },
  {
   "cell_type": "code",
   "execution_count": 82,
   "metadata": {},
   "outputs": [],
   "source": [
    "pred_y = model.predict(test_x)"
   ]
  },
  {
   "cell_type": "code",
   "execution_count": 42,
   "metadata": {},
   "outputs": [
    {
     "data": {
      "text/plain": [
       "(array([0.94936709, 0.97391304]),\n",
       " array([0.96153846, 0.96551724]),\n",
       " array([0.95541401, 0.96969697]),\n",
       " array([ 78, 116], dtype=int64))"
      ]
     },
     "execution_count": 42,
     "metadata": {},
     "output_type": "execute_result"
    }
   ],
   "source": [
    "precision_recall_fscore_support(pred_y, test_y)"
   ]
  },
  {
   "cell_type": "markdown",
   "metadata": {},
   "source": [
    "-----"
   ]
  },
  {
   "cell_type": "markdown",
   "metadata": {},
   "source": [
    "# 討論: 決策樹分類方式是否與自定義的分類方式相同?\n",
    "發現: 決策樹一開始居然是用豆子酸度分類，而我的rules中完全沒有包含酸度的特徵"
   ]
  },
  {
   "cell_type": "code",
   "execution_count": 125,
   "metadata": {},
   "outputs": [
    {
     "data": {
      "image/png": "[encoded data removed]",
      "text/plain": [
       "<Figure size 1440x720 with 1 Axes>"
      ]
     },
     "metadata": {
      "needs_background": "light"
     },
     "output_type": "display_data"
    }
   ],
   "source": [
    "plt.figure(figsize= (20, 10))\n",
    "plot_tree(model,filled = True, rounded= True, max_depth= 6, fontsize=10, feature_names= train_x.columns, class_names=['No Nuy','Buy'])\n",
    "plt.show()"
   ]
  },
  {
   "cell_type": "markdown",
   "metadata": {},
   "source": [
    "### 計算每個feature對於分類的weighted Gini Index"
   ]
  },
  {
   "cell_type": "code",
   "execution_count": 44,
   "metadata": {},
   "outputs": [],
   "source": [
    "def get_weighted_gini(col):\n",
    "    no_train_idx = train_x[train_x[col] != 1].index\n",
    "    yes_train_idx = train_x[train_x[col] == 1].index \n",
    "    \n",
    "    value_cnt_no = df.iloc[no_train_idx]['Buy'].value_counts()\n",
    "    value_cnt_yes = df.iloc[yes_train_idx]['Buy'].value_counts()\n",
    "    \n",
    "    gini_list = []\n",
    "    total_list = []\n",
    "    \n",
    "    for idx, value_cnt in enumerate([value_cnt_no, value_cnt_yes]):\n",
    "        \n",
    "        try:\n",
    "            buy_cnt = value_cnt[1]\n",
    "        except:\n",
    "            buy_cnt = 0\n",
    "        try:\n",
    "            nobuy_cnt = value_cnt[0]\n",
    "        except:\n",
    "            nobuy_cnt = 0\n",
    "            \n",
    "        total_cnt = buy_cnt + nobuy_cnt\n",
    "        \n",
    "        if total_cnt == 0:\n",
    "            continue\n",
    "            \n",
    "        gini_index = 1 - (buy_cnt/total_cnt)**2 - (nobuy_cnt/total_cnt)**2\n",
    "        gini_list.append(gini_index)\n",
    "        total_list.append(total_cnt)\n",
    "        \n",
    "#         print('gini index for col {} == {} is {}'.format(col, idx, gini_index))\n",
    "        \n",
    "    weighted_gini = 0\n",
    "    for idx in range(len(gini_list)):\n",
    "        weighted_gini += gini_list[idx]*total_list[idx]/sum(total_list)\n",
    "        \n",
    "#     print('weighted_gini:', weighted_gini)\n",
    "    return  weighted_gini"
   ]
  },
  {
   "cell_type": "markdown",
   "metadata": {},
   "source": [
    "## Parent gini"
   ]
  },
  {
   "cell_type": "code",
   "execution_count": 45,
   "metadata": {},
   "outputs": [
    {
     "name": "stdout",
     "output_type": "stream",
     "text": [
      "root parent gini index: 0.453\n"
     ]
    }
   ],
   "source": [
    "train_total = train_y.value_counts().sum()\n",
    "parent_gini = 1 - (train_y.value_counts()[0]/train_total)**2 - (train_y.value_counts()[1]/train_total)**2\n",
    "print('root parent gini index: {:.3f}'.format(parent_gini))"
   ]
  },
  {
   "cell_type": "markdown",
   "metadata": {},
   "source": [
    "## 找出best split feature based on weighted gini"
   ]
  },
  {
   "cell_type": "code",
   "execution_count": 46,
   "metadata": {},
   "outputs": [
    {
     "data": {
      "text/plain": [
       "0.3852099220215861"
      ]
     },
     "execution_count": 46,
     "metadata": {},
     "output_type": "execute_result"
    }
   ],
   "source": [
    "get_weighted_gini('Variety_Bourbon')"
   ]
  },
  {
   "cell_type": "code",
   "execution_count": 47,
   "metadata": {},
   "outputs": [
    {
     "data": {
      "text/plain": [
       "0.32700293054235374"
      ]
     },
     "execution_count": 47,
     "metadata": {},
     "output_type": "execute_result"
    }
   ],
   "source": [
    "get_weighted_gini('Acidity_1')"
   ]
  },
  {
   "cell_type": "code",
   "execution_count": 48,
   "metadata": {},
   "outputs": [
    {
     "name": "stdout",
     "output_type": "stream",
     "text": [
      "best split column with lowest gini index:  Acidity_1\n",
      "lowest gini index: 0.327\n"
     ]
    }
   ],
   "source": [
    "gini_list = []\n",
    "\n",
    "for idx, col in enumerate(train_x.columns):\n",
    "#     print(idx)\n",
    "    col_gini = get_weighted_gini(col)\n",
    "    gini_list.append(col_gini)\n",
    "# print(gini_list)\n",
    "best_idx = np.argmin(np.array(gini_list))\n",
    "print('best split column with lowest gini index: ',train_x.columns[best_idx])\n",
    "print('lowest gini index: {:.3f}'.format(gini_list[best_idx]))"
   ]
  },
  {
   "cell_type": "markdown",
   "metadata": {},
   "source": [
    "----"
   ]
  },
  {
   "cell_type": "markdown",
   "metadata": {},
   "source": [
    "# Ground Truth root node vs DT root node"
   ]
  },
  {
   "cell_type": "code",
   "execution_count": 49,
   "metadata": {},
   "outputs": [
    {
     "name": "stdout",
     "output_type": "stream",
     "text": [
      "the one with variety = Bourbon encoded 1:\n"
     ]
    },
    {
     "data": {
      "text/plain": [
       "1    170\n",
       "Name: Buy, dtype: int64"
      ]
     },
     "execution_count": 49,
     "metadata": {},
     "output_type": "execute_result"
    }
   ],
   "source": [
    "bourbon_train_idx = train_x['Variety_Bourbon'] == 1\n",
    "bourbon_train_idx = train_x[bourbon_train_idx].index \n",
    "print('the one with variety = Bourbon encoded 1:')\n",
    "df.iloc[bourbon_train_idx]['Buy'].value_counts()"
   ]
  },
  {
   "cell_type": "code",
   "execution_count": 50,
   "metadata": {},
   "outputs": [
    {
     "name": "stdout",
     "output_type": "stream",
     "text": [
      "the one with variety = Bourbon encoded 0:\n"
     ]
    },
    {
     "data": {
      "text/plain": [
       "1    334\n",
       "0    268\n",
       "Name: Buy, dtype: int64"
      ]
     },
     "execution_count": 50,
     "metadata": {},
     "output_type": "execute_result"
    }
   ],
   "source": [
    "bourbon_train_idx = train_x['Variety_Bourbon'] != 1\n",
    "bourbon_train_idx = train_x[bourbon_train_idx].index \n",
    "print('the one with variety = Bourbon encoded 0:')\n",
    "value_cnt = df.iloc[bourbon_train_idx]['Buy'].value_counts()\n",
    "buy_cnt = value_cnt[1]\n",
    "nobuy_cnt = value_cnt[0]\n",
    "total_cnt = buy_cnt + nobuy_cnt\n",
    "value_cnt"
   ]
  },
  {
   "cell_type": "code",
   "execution_count": 51,
   "metadata": {},
   "outputs": [
    {
     "name": "stdout",
     "output_type": "stream",
     "text": [
      "the one with Acidity = 1 encoded 0:\n"
     ]
    },
    {
     "data": {
      "text/plain": [
       "1    449\n",
       "0    105\n",
       "Name: Buy, dtype: int64"
      ]
     },
     "execution_count": 51,
     "metadata": {},
     "output_type": "execute_result"
    }
   ],
   "source": [
    "print('the one with Acidity = 1 encoded 0:')\n",
    "df.iloc[train_x.loc[train_x['Acidity_1']==0].index]['Buy'].value_counts()"
   ]
  },
  {
   "cell_type": "code",
   "execution_count": 52,
   "metadata": {},
   "outputs": [
    {
     "name": "stdout",
     "output_type": "stream",
     "text": [
      "the one with Acidity = 1 encoded 1:\n"
     ]
    },
    {
     "data": {
      "text/plain": [
       "0    163\n",
       "1     55\n",
       "Name: Buy, dtype: int64"
      ]
     },
     "execution_count": 52,
     "metadata": {},
     "output_type": "execute_result"
    }
   ],
   "source": [
    "print('the one with Acidity = 1 encoded 1:')\n",
    "df.iloc[train_x.loc[train_x['Acidity_1']==1].index]['Buy'].value_counts()"
   ]
  },
  {
   "cell_type": "markdown",
   "metadata": {},
   "source": [
    "---"
   ]
  },
  {
   "cell_type": "markdown",
   "metadata": {},
   "source": [
    "## 討論二：Default的 DT分類錯誤情形\n",
    "\n",
    "發現: idx= 18 分類錯誤(pred= 1, gt= 0) 因為training accuracy = 1, 代表DT完全overfit, 且DT規則中發現若濕度不等於3 則判斷為買，但rules裡面設定是moisture 大於等於3以上配合其他條件才能買？\n",
    "\n",
    "找出原因:\n",
    "\n",
    "細部了解DT對於training data劃出的Tree，並針對分類錯誤的data來看，找到問題的核心: DT對Unseen data的分辨能力較低。\n",
    "再training data中，依照DT的分法，當此咖啡豆的杯測分數低於3分，且並非bourbon，且two_defects= 1, low_mean_altitude=4(這部分也因為變數相關太高也用跟rules不同的條件分，因為low, high, mean altitude的相關性太高了)，都符合Rules設定，但DT繼續判斷咖啡豆濕度不為三後就直接分類成\"買\"，這邊的重點就是，剛好這筆test data的Moiture是4，雖然的確不為3，但是因為training data裡面不為三的咖啡豆剛好濕度都是1或2，在我設定的rule之下會直接被歸類為\"買\"，而這筆test data的溼度是training data內沒有遇到過的，DT就會以為濕度應該就會是1或2，所以造成分類錯誤。"
   ]
  },
  {
   "cell_type": "code",
   "execution_count": 93,
   "metadata": {},
   "outputs": [
    {
     "name": "stdout",
     "output_type": "stream",
     "text": [
      "第一筆分類錯誤的row idx為: 18\n",
      "預測為: 1\n",
      "ground truth為: 0\n"
     ]
    }
   ],
   "source": [
    "for idx, (pred, gt) in enumerate(zip(pred_y, test_y)):\n",
    "    if pred != gt :\n",
    "        print('第一筆分類錯誤的row idx為: {}'.format(idx))\n",
    "        print('預測為: {}\\nground truth為: {}'.format(pred, gt))\n",
    "        false_idx = idx\n",
    "        break"
   ]
  },
  {
   "cell_type": "code",
   "execution_count": 94,
   "metadata": {
    "scrolled": true
   },
   "outputs": [
    {
     "data": {
      "text/html": [
       "<div>\n",
       "<style scoped>\n",
       "    .dataframe tbody tr th:only-of-type {\n",
       "        vertical-align: middle;\n",
       "    }\n",
       "\n",
       "    .dataframe tbody tr th {\n",
       "        vertical-align: top;\n",
       "    }\n",
       "\n",
       "    .dataframe thead th {\n",
       "        text-align: right;\n",
       "    }\n",
       "</style>\n",
       "<table border=\"1\" class=\"dataframe\">\n",
       "  <thead>\n",
       "    <tr style=\"text-align: right;\">\n",
       "      <th></th>\n",
       "      <th>Number.of.Bags</th>\n",
       "      <th>Bag.Weight</th>\n",
       "      <th>Variety</th>\n",
       "      <th>Processing.Method</th>\n",
       "      <th>Aroma</th>\n",
       "      <th>Flavor</th>\n",
       "      <th>Aftertaste</th>\n",
       "      <th>Acidity</th>\n",
       "      <th>Body</th>\n",
       "      <th>Balance</th>\n",
       "      <th>Uniformity</th>\n",
       "      <th>Clean.Cup</th>\n",
       "      <th>Sweetness</th>\n",
       "      <th>Total.Cup.Points</th>\n",
       "      <th>Moisture</th>\n",
       "      <th>Category.One.Defects</th>\n",
       "      <th>Quakers</th>\n",
       "      <th>Category.Two.Defects</th>\n",
       "      <th>altitude_low_meters</th>\n",
       "      <th>altitude_high_meters</th>\n",
       "      <th>altitude_mean_meters</th>\n",
       "      <th>Buy</th>\n",
       "    </tr>\n",
       "  </thead>\n",
       "  <tbody>\n",
       "    <tr>\n",
       "      <td>18</td>\n",
       "      <td>1</td>\n",
       "      <td>3</td>\n",
       "      <td>Gesha</td>\n",
       "      <td>Washed / Wet</td>\n",
       "      <td>2</td>\n",
       "      <td>2</td>\n",
       "      <td>2</td>\n",
       "      <td>3</td>\n",
       "      <td>1</td>\n",
       "      <td>2</td>\n",
       "      <td>1</td>\n",
       "      <td>1</td>\n",
       "      <td>1</td>\n",
       "      <td>2</td>\n",
       "      <td>4</td>\n",
       "      <td>1</td>\n",
       "      <td>1</td>\n",
       "      <td>1</td>\n",
       "      <td>4</td>\n",
       "      <td>4</td>\n",
       "      <td>4</td>\n",
       "      <td>0</td>\n",
       "    </tr>\n",
       "  </tbody>\n",
       "</table>\n",
       "</div>"
      ],
      "text/plain": [
       "   Number.of.Bags Bag.Weight Variety Processing.Method Aroma Flavor  \\\n",
       "18              1          3   Gesha      Washed / Wet     2      2   \n",
       "\n",
       "   Aftertaste Acidity Body Balance Uniformity Clean.Cup Sweetness  \\\n",
       "18          2       3    1       2          1         1         1   \n",
       "\n",
       "   Total.Cup.Points Moisture Category.One.Defects Quakers  \\\n",
       "18                2        4                    1       1   \n",
       "\n",
       "   Category.Two.Defects altitude_low_meters altitude_high_meters  \\\n",
       "18                    1                   4                    4   \n",
       "\n",
       "   altitude_mean_meters  Buy  \n",
       "18                    4    0  "
      ]
     },
     "execution_count": 94,
     "metadata": {},
     "output_type": "execute_result"
    }
   ],
   "source": [
    "test_df[test_df.index==false_idx]"
   ]
  },
  {
   "cell_type": "code",
   "execution_count": 122,
   "metadata": {},
   "outputs": [],
   "source": [
    "# for idx in range(len(train_df)):\n",
    "#     comparison = train_df.iloc[idx].values == test_df.iloc[0].values\n",
    "# #     print(comparison)\n",
    "#     if comparison.all():\n",
    "#         print(idx)\n",
    "#         break"
   ]
  },
  {
   "cell_type": "markdown",
   "metadata": {},
   "source": [
    "----"
   ]
  },
  {
   "cell_type": "markdown",
   "metadata": {},
   "source": [
    "# Bernoulli Naive Bayes Classifier\n",
    " P(sample|y) = P(y) * P(x1|y) * P(x2|y) * P(x3|y) * ... * P(xn|y) "
   ]
  },
  {
   "cell_type": "code",
   "execution_count": 53,
   "metadata": {},
   "outputs": [],
   "source": [
    "df_mask = df.drop(df[['Species','Harvest.Year','Certification.Body','Country.of.Origin']],axis=1)\n"
   ]
  },
  {
   "cell_type": "code",
   "execution_count": 54,
   "metadata": {},
   "outputs": [],
   "source": [
    "B_cls = BernoulliNB()"
   ]
  },
  {
   "cell_type": "code",
   "execution_count": 55,
   "metadata": {},
   "outputs": [],
   "source": [
    "B_model = B_cls.fit(train_x, train_y)"
   ]
  },
  {
   "cell_type": "code",
   "execution_count": 56,
   "metadata": {},
   "outputs": [],
   "source": [
    "B_pred_y = B_model.predict(test_x)"
   ]
  },
  {
   "cell_type": "code",
   "execution_count": 57,
   "metadata": {},
   "outputs": [
    {
     "data": {
      "text/plain": [
       "(array([0.94936709, 0.88695652]),\n",
       " array([0.85227273, 0.96226415]),\n",
       " array([0.89820359, 0.92307692]),\n",
       " array([ 88, 106], dtype=int64))"
      ]
     },
     "execution_count": 57,
     "metadata": {},
     "output_type": "execute_result"
    }
   ],
   "source": [
    "precision_recall_fscore_support(B_pred_y, test_y)"
   ]
  },
  {
   "cell_type": "code",
   "execution_count": 58,
   "metadata": {},
   "outputs": [
    {
     "name": "stdout",
     "output_type": "stream",
     "text": [
      "idx: 3\n",
      "prob given 0 : 0.002\n",
      "prob given 1 : 0.998\n",
      "pred y: 1\n",
      "ground truth y: 0\n",
      "\n"
     ]
    }
   ],
   "source": [
    "for idx, (pred, gt) in enumerate(zip(B_pred_y, test_y)):\n",
    "    if pred != gt:\n",
    "        print('idx: {}'.format(idx))\n",
    "        print('prob given 0 : {0[0]:.3f}\\nprob given 1 : {0[1]:.3f}'.format(B_model.predict_proba(test_x)[idx])) # 0: placeholder\n",
    "        print('pred y: {}'.format(B_pred_y[idx]))\n",
    "        print('ground truth y: {}\\n'.format(test_y.iloc[idx]))\n",
    "#         print('test_x : \\n{}'.format(test_x.iloc[idx]))\n",
    "        false_idx = idx\n",
    "        break"
   ]
  },
  {
   "cell_type": "code",
   "execution_count": 59,
   "metadata": {},
   "outputs": [
    {
     "data": {
      "text/html": [
       "<div>\n",
       "<style scoped>\n",
       "    .dataframe tbody tr th:only-of-type {\n",
       "        vertical-align: middle;\n",
       "    }\n",
       "\n",
       "    .dataframe tbody tr th {\n",
       "        vertical-align: top;\n",
       "    }\n",
       "\n",
       "    .dataframe thead th {\n",
       "        text-align: right;\n",
       "    }\n",
       "</style>\n",
       "<table border=\"1\" class=\"dataframe\">\n",
       "  <thead>\n",
       "    <tr style=\"text-align: right;\">\n",
       "      <th></th>\n",
       "      <th>Number.of.Bags</th>\n",
       "      <th>Bag.Weight</th>\n",
       "      <th>Variety</th>\n",
       "      <th>Processing.Method</th>\n",
       "      <th>Aroma</th>\n",
       "      <th>Flavor</th>\n",
       "      <th>Aftertaste</th>\n",
       "      <th>Acidity</th>\n",
       "      <th>Body</th>\n",
       "      <th>Balance</th>\n",
       "      <th>Uniformity</th>\n",
       "      <th>Clean.Cup</th>\n",
       "      <th>Sweetness</th>\n",
       "      <th>Total.Cup.Points</th>\n",
       "      <th>Moisture</th>\n",
       "      <th>Category.One.Defects</th>\n",
       "      <th>Quakers</th>\n",
       "      <th>Category.Two.Defects</th>\n",
       "      <th>altitude_low_meters</th>\n",
       "      <th>altitude_high_meters</th>\n",
       "      <th>altitude_mean_meters</th>\n",
       "      <th>Buy</th>\n",
       "    </tr>\n",
       "  </thead>\n",
       "  <tbody>\n",
       "    <tr>\n",
       "      <td>557</td>\n",
       "      <td>3</td>\n",
       "      <td>1</td>\n",
       "      <td>Caturra</td>\n",
       "      <td>Washed / Wet</td>\n",
       "      <td>1</td>\n",
       "      <td>4</td>\n",
       "      <td>1</td>\n",
       "      <td>4</td>\n",
       "      <td>4</td>\n",
       "      <td>4</td>\n",
       "      <td>1</td>\n",
       "      <td>1</td>\n",
       "      <td>1</td>\n",
       "      <td>2</td>\n",
       "      <td>3</td>\n",
       "      <td>1</td>\n",
       "      <td>1</td>\n",
       "      <td>1</td>\n",
       "      <td>3</td>\n",
       "      <td>3</td>\n",
       "      <td>3</td>\n",
       "      <td>0</td>\n",
       "    </tr>\n",
       "  </tbody>\n",
       "</table>\n",
       "</div>"
      ],
      "text/plain": [
       "    Number.of.Bags Bag.Weight  Variety Processing.Method Aroma Flavor  \\\n",
       "557              3          1  Caturra      Washed / Wet     1      4   \n",
       "\n",
       "    Aftertaste Acidity Body Balance Uniformity Clean.Cup Sweetness  \\\n",
       "557          1       4    4       4          1         1         1   \n",
       "\n",
       "    Total.Cup.Points Moisture Category.One.Defects Quakers  \\\n",
       "557                2        3                    1       1   \n",
       "\n",
       "    Category.Two.Defects altitude_low_meters altitude_high_meters  \\\n",
       "557                    1                   3                    3   \n",
       "\n",
       "    altitude_mean_meters Buy  \n",
       "557                    3   0  "
      ]
     },
     "execution_count": 59,
     "metadata": {},
     "output_type": "execute_result"
    }
   ],
   "source": [
    "pd.DataFrame(df_mask.loc[test_x.iloc[false_idx].name]).T"
   ]
  },
  {
   "cell_type": "markdown",
   "metadata": {},
   "source": [
    "---"
   ]
  },
  {
   "cell_type": "markdown",
   "metadata": {},
   "source": [
    "# Trial"
   ]
  },
  {
   "cell_type": "markdown",
   "metadata": {},
   "source": [
    "## 找出分類錯誤該項的各feature機率 given y "
   ]
  },
  {
   "cell_type": "code",
   "execution_count": 60,
   "metadata": {},
   "outputs": [],
   "source": [
    "train_df = df_mask.iloc[train_x.index].reset_index(drop= True)"
   ]
  },
  {
   "cell_type": "code",
   "execution_count": 61,
   "metadata": {},
   "outputs": [],
   "source": [
    "test_df = df_mask.iloc[test_x.index].reset_index(drop= True)"
   ]
  },
  {
   "cell_type": "code",
   "execution_count": 62,
   "metadata": {},
   "outputs": [],
   "source": [
    "pbuy = train_df['Buy'].value_counts()[1]/train_df['Buy'].value_counts().sum()\n",
    "pnob = train_df['Buy'].value_counts()[0]/train_df['Buy'].value_counts().sum()"
   ]
  },
  {
   "cell_type": "code",
   "execution_count": 63,
   "metadata": {},
   "outputs": [
    {
     "name": "stdout",
     "output_type": "stream",
     "text": [
      "for Number.of.Bags col, cond_prob = 0.30\n",
      "for Bag.Weight col, cond_prob = 0.44\n",
      "for Variety col, cond_prob = 0.21\n",
      "for Processing.Method col, cond_prob = 0.72\n",
      "for Aroma col, cond_prob = 0.59\n",
      "for Flavor col, cond_prob = 0.03\n",
      "for Aftertaste col, cond_prob = 0.47\n",
      "for Acidity col, cond_prob = 0.02\n",
      "for Body col, cond_prob = 0.05\n",
      "for Balance col, cond_prob = 0.04\n",
      "for Uniformity col, cond_prob = 1.00\n",
      "for Clean.Cup col, cond_prob = 1.00\n",
      "for Sweetness col, cond_prob = 1.00\n",
      "for Total.Cup.Points col, cond_prob = 0.47\n",
      "for Moisture col, cond_prob = 0.30\n",
      "for Category.One.Defects col, cond_prob = 1.00\n",
      "for Quakers col, cond_prob = 1.00\n",
      "for Category.Two.Defects col, cond_prob = 0.46\n",
      "for altitude_low_meters col, cond_prob = 0.21\n",
      "for altitude_high_meters col, cond_prob = 0.28\n",
      "for altitude_mean_meters col, cond_prob = 0.26\n",
      "\n",
      "given no buy prod: 2.4105098987189464e-12\n"
     ]
    }
   ],
   "source": [
    "Nb_cond_prob = 1 \n",
    "\n",
    "for col in train_df.iloc[:,:-1].columns:\n",
    "    group_df = train_df.groupby('Buy')[col].value_counts()\n",
    "    test_col_value = test_df.iloc[false_idx][col]\n",
    "    \n",
    "    if test_col_value not in group_df[0].index:\n",
    "        cond_prob = 1e-6\n",
    "        print('for {} column, test data value == {} == not found in train data'.format(col, test_col_value))\n",
    "    else:\n",
    "        cond_prob = group_df[0][test_col_value]/group_df[0].sum()\n",
    "        print('for {} col, cond_prob = {:.2f}'.format(col, cond_prob))\n",
    "    Nb_cond_prob *= cond_prob\n",
    "#     print(cond_prob)\n",
    "\n",
    "print('\\ngiven no buy prod: {:}'.format(Nb_cond_prob*pnob))"
   ]
  },
  {
   "cell_type": "code",
   "execution_count": 64,
   "metadata": {},
   "outputs": [
    {
     "name": "stdout",
     "output_type": "stream",
     "text": [
      "for Number.of.Bags col, cond_prob = 0.40\n",
      "for Bag.Weight col, cond_prob = 0.22\n",
      "for Variety col, cond_prob = 0.26\n",
      "for Processing.Method col, cond_prob = 0.72\n",
      "for Aroma col, cond_prob = 0.14\n",
      "for Flavor col, cond_prob = 0.34\n",
      "for Aftertaste col, cond_prob = 0.11\n",
      "for Acidity col, cond_prob = 0.36\n",
      "for Body col, cond_prob = 0.28\n",
      "for Balance col, cond_prob = 0.34\n",
      "for Uniformity col, cond_prob = 1.00\n",
      "for Clean.Cup col, cond_prob = 1.00\n",
      "for Sweetness col, cond_prob = 1.00\n",
      "for Total.Cup.Points col, cond_prob = 0.12\n",
      "for Moisture col, cond_prob = 0.21\n",
      "for Category.One.Defects col, cond_prob = 1.00\n",
      "for Quakers col, cond_prob = 1.00\n",
      "for Category.Two.Defects col, cond_prob = 0.61\n",
      "for altitude_low_meters col, cond_prob = 0.24\n",
      "for altitude_high_meters col, cond_prob = 0.26\n",
      "for altitude_mean_meters col, cond_prob = 0.26\n",
      "\n",
      "given buy prod: 4.5830142837180764e-10\n"
     ]
    }
   ],
   "source": [
    "b_cond_prob = 1 \n",
    "\n",
    "for col in train_df.iloc[:,:-1].columns:\n",
    "    group_df = train_df.groupby('Buy')[col].value_counts()\n",
    "    test_col_value = test_df.iloc[false_idx][col]\n",
    "    \n",
    "    if test_col_value not in group_df[1].index:\n",
    "        cond_prob = 1e-6\n",
    "        print('for {} column, test data value == {} == not found in train data'.format(col, test_col_value))\n",
    "    else:\n",
    "        cond_prob = group_df[1][test_col_value]/group_df[1].sum()\n",
    "        print('for {} col, cond_prob = {:.2f}'.format(col, cond_prob))\n",
    "\n",
    "    b_cond_prob *= cond_prob\n",
    "#     print(cond_prob)\n",
    "\n",
    "print('\\ngiven buy prod: {}'.format(b_cond_prob*pbuy))"
   ]
  },
  {
   "cell_type": "markdown",
   "metadata": {},
   "source": [
    "## 計算與classifier結果"
   ]
  },
  {
   "cell_type": "code",
   "execution_count": 65,
   "metadata": {},
   "outputs": [
    {
     "name": "stdout",
     "output_type": "stream",
     "text": [
      "shoud predict buy\n"
     ]
    }
   ],
   "source": [
    "if Nb_cond_prob > b_cond_prob:\n",
    "    print('shoud predict No buy')\n",
    "else:\n",
    "    print('shoud predict buy')"
   ]
  },
  {
   "cell_type": "markdown",
   "metadata": {},
   "source": [
    "### 在不買的情況下，對於訓練dataset， flavor, acidity, body , balance =4 的機率都非常低 所以貝式分類將idx =3 這筆預測為buy"
   ]
  },
  {
   "cell_type": "code",
   "execution_count": 66,
   "metadata": {},
   "outputs": [
    {
     "data": {
      "text/plain": [
       "1    158\n",
       "2     77\n",
       "3     25\n",
       "4      8\n",
       "Name: Flavor, dtype: int64"
      ]
     },
     "execution_count": 66,
     "metadata": {},
     "output_type": "execute_result"
    }
   ],
   "source": [
    "train_df[train_df['Buy']==0]['Flavor'].value_counts()"
   ]
  },
  {
   "cell_type": "markdown",
   "metadata": {},
   "source": [
    "### 是否為資料不集中的問題? ---> 否\n",
    "整份dataset來說 在不買的情況下 flavor = 4的機率也很低 "
   ]
  },
  {
   "cell_type": "code",
   "execution_count": 67,
   "metadata": {},
   "outputs": [
    {
     "data": {
      "text/plain": [
       "1    213\n",
       "2     90\n",
       "3     34\n",
       "4     10\n",
       "Name: Flavor, dtype: int64"
      ]
     },
     "execution_count": 67,
     "metadata": {},
     "output_type": "execute_result"
    }
   ],
   "source": [
    "df[df['Buy']==0]['Flavor'].value_counts()"
   ]
  },
  {
   "cell_type": "markdown",
   "metadata": {},
   "source": [
    "## 結論: 因為這幾個變數之間的相關性太高，儘管有些變數對於分類沒有預測性(完全沒有在ground truth)，但因為相關性太高的關係，加上其特定類別在特定class的機率特別小，使得這些變數在貝式計算中相乘起來會使得整體的機率很小，而造成分類錯誤"
   ]
  },
  {
   "cell_type": "markdown",
   "metadata": {},
   "source": [
    "----"
   ]
  },
  {
   "cell_type": "markdown",
   "metadata": {},
   "source": [
    "# 隨機森林"
   ]
  },
  {
   "cell_type": "code",
   "execution_count": null,
   "metadata": {},
   "outputs": [],
   "source": []
  }
 ],
 "metadata": {
  "kernelspec": {
   "display_name": "Python 3",
   "language": "python",
   "name": "python3"
  },
  "language_info": {
   "codemirror_mode": {
    "name": "ipython",
    "version": 3
   },
   "file_extension": ".py",
   "mimetype": "text/x-python",
   "name": "python",
   "nbconvert_exporter": "python",
   "pygments_lexer": "ipython3",
   "version": "3.7.4"
  }
 },
 "nbformat": 4,
 "nbformat_minor": 2
}
