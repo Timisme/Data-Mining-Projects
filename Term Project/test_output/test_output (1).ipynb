{
  "nbformat": 4,
  "nbformat_minor": 0,
  "metadata": {
    "accelerator": "GPU",
    "colab": {
      "name": "test_output.ipynb",
      "provenance": [],
      "collapsed_sections": [],
      "toc_visible": true
    },
    "kernelspec": {
      "display_name": "Python 3",
      "language": "python",
      "name": "python3"
    },
    "language_info": {
      "codemirror_mode": {
        "name": "ipython",
        "version": 3
      },
      "file_extension": ".py",
      "mimetype": "text/x-python",
      "name": "python",
      "nbconvert_exporter": "python",
      "pygments_lexer": "ipython3",
      "version": "3.7.4"
    },
    "widgets": {
      "application/vnd.jupyter.widget-state+json": {
        "a8a2a629c74140e88ffa19268991c8c4": {
          "model_module": "@jupyter-widgets/controls",
          "model_name": "HBoxModel",
          "state": {
            "_view_name": "HBoxView",
            "_dom_classes": [],
            "_model_name": "HBoxModel",
            "_view_module": "@jupyter-widgets/controls",
            "_model_module_version": "1.5.0",
            "_view_count": null,
            "_view_module_version": "1.5.0",
            "box_style": "",
            "layout": "IPY_MODEL_cff2270769f44b93a4c597fb43d0d61f",
            "_model_module": "@jupyter-widgets/controls",
            "children": [
              "IPY_MODEL_af101aa2e5f5457f916cf56740b0f032",
              "IPY_MODEL_528d9f4b9f054555b2ae01e2067f1a47"
            ]
          }
        },
        "cff2270769f44b93a4c597fb43d0d61f": {
          "model_module": "@jupyter-widgets/base",
          "model_name": "LayoutModel",
          "state": {
            "_view_name": "LayoutView",
            "grid_template_rows": null,
            "right": null,
            "justify_content": null,
            "_view_module": "@jupyter-widgets/base",
            "overflow": null,
            "_model_module_version": "1.2.0",
            "_view_count": null,
            "flex_flow": null,
            "width": null,
            "min_width": null,
            "border": null,
            "align_items": null,
            "bottom": null,
            "_model_module": "@jupyter-widgets/base",
            "top": null,
            "grid_column": null,
            "overflow_y": null,
            "overflow_x": null,
            "grid_auto_flow": null,
            "grid_area": null,
            "grid_template_columns": null,
            "flex": null,
            "_model_name": "LayoutModel",
            "justify_items": null,
            "grid_row": null,
            "max_height": null,
            "align_content": null,
            "visibility": null,
            "align_self": null,
            "height": null,
            "min_height": null,
            "padding": null,
            "grid_auto_rows": null,
            "grid_gap": null,
            "max_width": null,
            "order": null,
            "_view_module_version": "1.2.0",
            "grid_template_areas": null,
            "object_position": null,
            "object_fit": null,
            "grid_auto_columns": null,
            "margin": null,
            "display": null,
            "left": null
          }
        },
        "af101aa2e5f5457f916cf56740b0f032": {
          "model_module": "@jupyter-widgets/controls",
          "model_name": "FloatProgressModel",
          "state": {
            "_view_name": "ProgressView",
            "style": "IPY_MODEL_a37b590b950043eb82c828b01880fe6b",
            "_dom_classes": [],
            "description": "Downloading: 100%",
            "_model_name": "FloatProgressModel",
            "bar_style": "success",
            "max": 109540,
            "_view_module": "@jupyter-widgets/controls",
            "_model_module_version": "1.5.0",
            "value": 109540,
            "_view_count": null,
            "_view_module_version": "1.5.0",
            "orientation": "horizontal",
            "min": 0,
            "description_tooltip": null,
            "_model_module": "@jupyter-widgets/controls",
            "layout": "IPY_MODEL_ae11b09edd3e432d89feaba080878c2f"
          }
        },
        "528d9f4b9f054555b2ae01e2067f1a47": {
          "model_module": "@jupyter-widgets/controls",
          "model_name": "HTMLModel",
          "state": {
            "_view_name": "HTMLView",
            "style": "IPY_MODEL_37a6fff99c094837b5949171b8f1e940",
            "_dom_classes": [],
            "description": "",
            "_model_name": "HTMLModel",
            "placeholder": "​",
            "_view_module": "@jupyter-widgets/controls",
            "_model_module_version": "1.5.0",
            "value": " 110k/110k [00:00&lt;00:00, 630kB/s]",
            "_view_count": null,
            "_view_module_version": "1.5.0",
            "description_tooltip": null,
            "_model_module": "@jupyter-widgets/controls",
            "layout": "IPY_MODEL_c7fb38bb52144f69bf4d3130b316c40b"
          }
        },
        "a37b590b950043eb82c828b01880fe6b": {
          "model_module": "@jupyter-widgets/controls",
          "model_name": "ProgressStyleModel",
          "state": {
            "_view_name": "StyleView",
            "_model_name": "ProgressStyleModel",
            "description_width": "initial",
            "_view_module": "@jupyter-widgets/base",
            "_model_module_version": "1.5.0",
            "_view_count": null,
            "_view_module_version": "1.2.0",
            "bar_color": null,
            "_model_module": "@jupyter-widgets/controls"
          }
        },
        "ae11b09edd3e432d89feaba080878c2f": {
          "model_module": "@jupyter-widgets/base",
          "model_name": "LayoutModel",
          "state": {
            "_view_name": "LayoutView",
            "grid_template_rows": null,
            "right": null,
            "justify_content": null,
            "_view_module": "@jupyter-widgets/base",
            "overflow": null,
            "_model_module_version": "1.2.0",
            "_view_count": null,
            "flex_flow": null,
            "width": null,
            "min_width": null,
            "border": null,
            "align_items": null,
            "bottom": null,
            "_model_module": "@jupyter-widgets/base",
            "top": null,
            "grid_column": null,
            "overflow_y": null,
            "overflow_x": null,
            "grid_auto_flow": null,
            "grid_area": null,
            "grid_template_columns": null,
            "flex": null,
            "_model_name": "LayoutModel",
            "justify_items": null,
            "grid_row": null,
            "max_height": null,
            "align_content": null,
            "visibility": null,
            "align_self": null,
            "height": null,
            "min_height": null,
            "padding": null,
            "grid_auto_rows": null,
            "grid_gap": null,
            "max_width": null,
            "order": null,
            "_view_module_version": "1.2.0",
            "grid_template_areas": null,
            "object_position": null,
            "object_fit": null,
            "grid_auto_columns": null,
            "margin": null,
            "display": null,
            "left": null
          }
        },
        "37a6fff99c094837b5949171b8f1e940": {
          "model_module": "@jupyter-widgets/controls",
          "model_name": "DescriptionStyleModel",
          "state": {
            "_view_name": "StyleView",
            "_model_name": "DescriptionStyleModel",
            "description_width": "",
            "_view_module": "@jupyter-widgets/base",
            "_model_module_version": "1.5.0",
            "_view_count": null,
            "_view_module_version": "1.2.0",
            "_model_module": "@jupyter-widgets/controls"
          }
        },
        "c7fb38bb52144f69bf4d3130b316c40b": {
          "model_module": "@jupyter-widgets/base",
          "model_name": "LayoutModel",
          "state": {
            "_view_name": "LayoutView",
            "grid_template_rows": null,
            "right": null,
            "justify_content": null,
            "_view_module": "@jupyter-widgets/base",
            "overflow": null,
            "_model_module_version": "1.2.0",
            "_view_count": null,
            "flex_flow": null,
            "width": null,
            "min_width": null,
            "border": null,
            "align_items": null,
            "bottom": null,
            "_model_module": "@jupyter-widgets/base",
            "top": null,
            "grid_column": null,
            "overflow_y": null,
            "overflow_x": null,
            "grid_auto_flow": null,
            "grid_area": null,
            "grid_template_columns": null,
            "flex": null,
            "_model_name": "LayoutModel",
            "justify_items": null,
            "grid_row": null,
            "max_height": null,
            "align_content": null,
            "visibility": null,
            "align_self": null,
            "height": null,
            "min_height": null,
            "padding": null,
            "grid_auto_rows": null,
            "grid_gap": null,
            "max_width": null,
            "order": null,
            "_view_module_version": "1.2.0",
            "grid_template_areas": null,
            "object_position": null,
            "object_fit": null,
            "grid_auto_columns": null,
            "margin": null,
            "display": null,
            "left": null
          }
        },
        "b71d0df17714440885f7fee0ca8c72e7": {
          "model_module": "@jupyter-widgets/controls",
          "model_name": "HBoxModel",
          "state": {
            "_view_name": "HBoxView",
            "_dom_classes": [],
            "_model_name": "HBoxModel",
            "_view_module": "@jupyter-widgets/controls",
            "_model_module_version": "1.5.0",
            "_view_count": null,
            "_view_module_version": "1.5.0",
            "box_style": "",
            "layout": "IPY_MODEL_a92e926cb794461c882b7f6a7e3e9616",
            "_model_module": "@jupyter-widgets/controls",
            "children": [
              "IPY_MODEL_e4506e5d32f9428cb17ebf2a9fc912d4",
              "IPY_MODEL_4d26914055ef4c598b1b0b2c2139d2fa"
            ]
          }
        },
        "a92e926cb794461c882b7f6a7e3e9616": {
          "model_module": "@jupyter-widgets/base",
          "model_name": "LayoutModel",
          "state": {
            "_view_name": "LayoutView",
            "grid_template_rows": null,
            "right": null,
            "justify_content": null,
            "_view_module": "@jupyter-widgets/base",
            "overflow": null,
            "_model_module_version": "1.2.0",
            "_view_count": null,
            "flex_flow": null,
            "width": null,
            "min_width": null,
            "border": null,
            "align_items": null,
            "bottom": null,
            "_model_module": "@jupyter-widgets/base",
            "top": null,
            "grid_column": null,
            "overflow_y": null,
            "overflow_x": null,
            "grid_auto_flow": null,
            "grid_area": null,
            "grid_template_columns": null,
            "flex": null,
            "_model_name": "LayoutModel",
            "justify_items": null,
            "grid_row": null,
            "max_height": null,
            "align_content": null,
            "visibility": null,
            "align_self": null,
            "height": null,
            "min_height": null,
            "padding": null,
            "grid_auto_rows": null,
            "grid_gap": null,
            "max_width": null,
            "order": null,
            "_view_module_version": "1.2.0",
            "grid_template_areas": null,
            "object_position": null,
            "object_fit": null,
            "grid_auto_columns": null,
            "margin": null,
            "display": null,
            "left": null
          }
        },
        "e4506e5d32f9428cb17ebf2a9fc912d4": {
          "model_module": "@jupyter-widgets/controls",
          "model_name": "FloatProgressModel",
          "state": {
            "_view_name": "ProgressView",
            "style": "IPY_MODEL_5a2fb8646cfa4e6fabfdb2c9417041e3",
            "_dom_classes": [],
            "description": "Downloading: 100%",
            "_model_name": "FloatProgressModel",
            "bar_style": "success",
            "max": 624,
            "_view_module": "@jupyter-widgets/controls",
            "_model_module_version": "1.5.0",
            "value": 624,
            "_view_count": null,
            "_view_module_version": "1.5.0",
            "orientation": "horizontal",
            "min": 0,
            "description_tooltip": null,
            "_model_module": "@jupyter-widgets/controls",
            "layout": "IPY_MODEL_f96b93e7646e4960b004d41e5407c401"
          }
        },
        "4d26914055ef4c598b1b0b2c2139d2fa": {
          "model_module": "@jupyter-widgets/controls",
          "model_name": "HTMLModel",
          "state": {
            "_view_name": "HTMLView",
            "style": "IPY_MODEL_e11d00cd311e4e188066a6887c876d1e",
            "_dom_classes": [],
            "description": "",
            "_model_name": "HTMLModel",
            "placeholder": "​",
            "_view_module": "@jupyter-widgets/controls",
            "_model_module_version": "1.5.0",
            "value": " 624/624 [00:00&lt;00:00, 831B/s]",
            "_view_count": null,
            "_view_module_version": "1.5.0",
            "description_tooltip": null,
            "_model_module": "@jupyter-widgets/controls",
            "layout": "IPY_MODEL_dbacb80a560b495ab58d2c27c8d94a8d"
          }
        },
        "5a2fb8646cfa4e6fabfdb2c9417041e3": {
          "model_module": "@jupyter-widgets/controls",
          "model_name": "ProgressStyleModel",
          "state": {
            "_view_name": "StyleView",
            "_model_name": "ProgressStyleModel",
            "description_width": "initial",
            "_view_module": "@jupyter-widgets/base",
            "_model_module_version": "1.5.0",
            "_view_count": null,
            "_view_module_version": "1.2.0",
            "bar_color": null,
            "_model_module": "@jupyter-widgets/controls"
          }
        },
        "f96b93e7646e4960b004d41e5407c401": {
          "model_module": "@jupyter-widgets/base",
          "model_name": "LayoutModel",
          "state": {
            "_view_name": "LayoutView",
            "grid_template_rows": null,
            "right": null,
            "justify_content": null,
            "_view_module": "@jupyter-widgets/base",
            "overflow": null,
            "_model_module_version": "1.2.0",
            "_view_count": null,
            "flex_flow": null,
            "width": null,
            "min_width": null,
            "border": null,
            "align_items": null,
            "bottom": null,
            "_model_module": "@jupyter-widgets/base",
            "top": null,
            "grid_column": null,
            "overflow_y": null,
            "overflow_x": null,
            "grid_auto_flow": null,
            "grid_area": null,
            "grid_template_columns": null,
            "flex": null,
            "_model_name": "LayoutModel",
            "justify_items": null,
            "grid_row": null,
            "max_height": null,
            "align_content": null,
            "visibility": null,
            "align_self": null,
            "height": null,
            "min_height": null,
            "padding": null,
            "grid_auto_rows": null,
            "grid_gap": null,
            "max_width": null,
            "order": null,
            "_view_module_version": "1.2.0",
            "grid_template_areas": null,
            "object_position": null,
            "object_fit": null,
            "grid_auto_columns": null,
            "margin": null,
            "display": null,
            "left": null
          }
        },
        "e11d00cd311e4e188066a6887c876d1e": {
          "model_module": "@jupyter-widgets/controls",
          "model_name": "DescriptionStyleModel",
          "state": {
            "_view_name": "StyleView",
            "_model_name": "DescriptionStyleModel",
            "description_width": "",
            "_view_module": "@jupyter-widgets/base",
            "_model_module_version": "1.5.0",
            "_view_count": null,
            "_view_module_version": "1.2.0",
            "_model_module": "@jupyter-widgets/controls"
          }
        },
        "dbacb80a560b495ab58d2c27c8d94a8d": {
          "model_module": "@jupyter-widgets/base",
          "model_name": "LayoutModel",
          "state": {
            "_view_name": "LayoutView",
            "grid_template_rows": null,
            "right": null,
            "justify_content": null,
            "_view_module": "@jupyter-widgets/base",
            "overflow": null,
            "_model_module_version": "1.2.0",
            "_view_count": null,
            "flex_flow": null,
            "width": null,
            "min_width": null,
            "border": null,
            "align_items": null,
            "bottom": null,
            "_model_module": "@jupyter-widgets/base",
            "top": null,
            "grid_column": null,
            "overflow_y": null,
            "overflow_x": null,
            "grid_auto_flow": null,
            "grid_area": null,
            "grid_template_columns": null,
            "flex": null,
            "_model_name": "LayoutModel",
            "justify_items": null,
            "grid_row": null,
            "max_height": null,
            "align_content": null,
            "visibility": null,
            "align_self": null,
            "height": null,
            "min_height": null,
            "padding": null,
            "grid_auto_rows": null,
            "grid_gap": null,
            "max_width": null,
            "order": null,
            "_view_module_version": "1.2.0",
            "grid_template_areas": null,
            "object_position": null,
            "object_fit": null,
            "grid_auto_columns": null,
            "margin": null,
            "display": null,
            "left": null
          }
        },
        "36879988870943b9a909d39d2f6e020f": {
          "model_module": "@jupyter-widgets/controls",
          "model_name": "HBoxModel",
          "state": {
            "_view_name": "HBoxView",
            "_dom_classes": [],
            "_model_name": "HBoxModel",
            "_view_module": "@jupyter-widgets/controls",
            "_model_module_version": "1.5.0",
            "_view_count": null,
            "_view_module_version": "1.5.0",
            "box_style": "",
            "layout": "IPY_MODEL_9ce238da19d649e2bb6b58d4eec92ce4",
            "_model_module": "@jupyter-widgets/controls",
            "children": [
              "IPY_MODEL_daf310ca0da6467aa3ce351a506ef45b",
              "IPY_MODEL_06f50551d0284903ba3be83db8518e6e"
            ]
          }
        },
        "9ce238da19d649e2bb6b58d4eec92ce4": {
          "model_module": "@jupyter-widgets/base",
          "model_name": "LayoutModel",
          "state": {
            "_view_name": "LayoutView",
            "grid_template_rows": null,
            "right": null,
            "justify_content": null,
            "_view_module": "@jupyter-widgets/base",
            "overflow": null,
            "_model_module_version": "1.2.0",
            "_view_count": null,
            "flex_flow": null,
            "width": null,
            "min_width": null,
            "border": null,
            "align_items": null,
            "bottom": null,
            "_model_module": "@jupyter-widgets/base",
            "top": null,
            "grid_column": null,
            "overflow_y": null,
            "overflow_x": null,
            "grid_auto_flow": null,
            "grid_area": null,
            "grid_template_columns": null,
            "flex": null,
            "_model_name": "LayoutModel",
            "justify_items": null,
            "grid_row": null,
            "max_height": null,
            "align_content": null,
            "visibility": null,
            "align_self": null,
            "height": null,
            "min_height": null,
            "padding": null,
            "grid_auto_rows": null,
            "grid_gap": null,
            "max_width": null,
            "order": null,
            "_view_module_version": "1.2.0",
            "grid_template_areas": null,
            "object_position": null,
            "object_fit": null,
            "grid_auto_columns": null,
            "margin": null,
            "display": null,
            "left": null
          }
        },
        "daf310ca0da6467aa3ce351a506ef45b": {
          "model_module": "@jupyter-widgets/controls",
          "model_name": "FloatProgressModel",
          "state": {
            "_view_name": "ProgressView",
            "style": "IPY_MODEL_4a2c7b2e40ea400e90897440b1d327cd",
            "_dom_classes": [],
            "description": "Downloading: 100%",
            "_model_name": "FloatProgressModel",
            "bar_style": "success",
            "max": 411577189,
            "_view_module": "@jupyter-widgets/controls",
            "_model_module_version": "1.5.0",
            "value": 411577189,
            "_view_count": null,
            "_view_module_version": "1.5.0",
            "orientation": "horizontal",
            "min": 0,
            "description_tooltip": null,
            "_model_module": "@jupyter-widgets/controls",
            "layout": "IPY_MODEL_23f6e1cd3033476380a5cb40454c5bfa"
          }
        },
        "06f50551d0284903ba3be83db8518e6e": {
          "model_module": "@jupyter-widgets/controls",
          "model_name": "HTMLModel",
          "state": {
            "_view_name": "HTMLView",
            "style": "IPY_MODEL_5e74d5e1df14414b8a20c840b90ec923",
            "_dom_classes": [],
            "description": "",
            "_model_name": "HTMLModel",
            "placeholder": "​",
            "_view_module": "@jupyter-widgets/controls",
            "_model_module_version": "1.5.0",
            "value": " 412M/412M [00:27&lt;00:00, 15.0MB/s]",
            "_view_count": null,
            "_view_module_version": "1.5.0",
            "description_tooltip": null,
            "_model_module": "@jupyter-widgets/controls",
            "layout": "IPY_MODEL_4e2e291eded14f858b501fb9b0ae9cd6"
          }
        },
        "4a2c7b2e40ea400e90897440b1d327cd": {
          "model_module": "@jupyter-widgets/controls",
          "model_name": "ProgressStyleModel",
          "state": {
            "_view_name": "StyleView",
            "_model_name": "ProgressStyleModel",
            "description_width": "initial",
            "_view_module": "@jupyter-widgets/base",
            "_model_module_version": "1.5.0",
            "_view_count": null,
            "_view_module_version": "1.2.0",
            "bar_color": null,
            "_model_module": "@jupyter-widgets/controls"
          }
        },
        "23f6e1cd3033476380a5cb40454c5bfa": {
          "model_module": "@jupyter-widgets/base",
          "model_name": "LayoutModel",
          "state": {
            "_view_name": "LayoutView",
            "grid_template_rows": null,
            "right": null,
            "justify_content": null,
            "_view_module": "@jupyter-widgets/base",
            "overflow": null,
            "_model_module_version": "1.2.0",
            "_view_count": null,
            "flex_flow": null,
            "width": null,
            "min_width": null,
            "border": null,
            "align_items": null,
            "bottom": null,
            "_model_module": "@jupyter-widgets/base",
            "top": null,
            "grid_column": null,
            "overflow_y": null,
            "overflow_x": null,
            "grid_auto_flow": null,
            "grid_area": null,
            "grid_template_columns": null,
            "flex": null,
            "_model_name": "LayoutModel",
            "justify_items": null,
            "grid_row": null,
            "max_height": null,
            "align_content": null,
            "visibility": null,
            "align_self": null,
            "height": null,
            "min_height": null,
            "padding": null,
            "grid_auto_rows": null,
            "grid_gap": null,
            "max_width": null,
            "order": null,
            "_view_module_version": "1.2.0",
            "grid_template_areas": null,
            "object_position": null,
            "object_fit": null,
            "grid_auto_columns": null,
            "margin": null,
            "display": null,
            "left": null
          }
        },
        "5e74d5e1df14414b8a20c840b90ec923": {
          "model_module": "@jupyter-widgets/controls",
          "model_name": "DescriptionStyleModel",
          "state": {
            "_view_name": "StyleView",
            "_model_name": "DescriptionStyleModel",
            "description_width": "",
            "_view_module": "@jupyter-widgets/base",
            "_model_module_version": "1.5.0",
            "_view_count": null,
            "_view_module_version": "1.2.0",
            "_model_module": "@jupyter-widgets/controls"
          }
        },
        "4e2e291eded14f858b501fb9b0ae9cd6": {
          "model_module": "@jupyter-widgets/base",
          "model_name": "LayoutModel",
          "state": {
            "_view_name": "LayoutView",
            "grid_template_rows": null,
            "right": null,
            "justify_content": null,
            "_view_module": "@jupyter-widgets/base",
            "overflow": null,
            "_model_module_version": "1.2.0",
            "_view_count": null,
            "flex_flow": null,
            "width": null,
            "min_width": null,
            "border": null,
            "align_items": null,
            "bottom": null,
            "_model_module": "@jupyter-widgets/base",
            "top": null,
            "grid_column": null,
            "overflow_y": null,
            "overflow_x": null,
            "grid_auto_flow": null,
            "grid_area": null,
            "grid_template_columns": null,
            "flex": null,
            "_model_name": "LayoutModel",
            "justify_items": null,
            "grid_row": null,
            "max_height": null,
            "align_content": null,
            "visibility": null,
            "align_self": null,
            "height": null,
            "min_height": null,
            "padding": null,
            "grid_auto_rows": null,
            "grid_gap": null,
            "max_width": null,
            "order": null,
            "_view_module_version": "1.2.0",
            "grid_template_areas": null,
            "object_position": null,
            "object_fit": null,
            "grid_auto_columns": null,
            "margin": null,
            "display": null,
            "left": null
          }
        }
      }
    }
  },
  "cells": [
    {
      "cell_type": "code",
      "metadata": {
        "colab": {
          "base_uri": "https://localhost:8080/"
        },
        "id": "6w3Fi292QUOW",
        "outputId": "70ada516-3dea-4cf3-efda-cf7ac11311a1"
      },
      "source": [
        "pip install pytorch-crf"
      ],
      "execution_count": 1,
      "outputs": [
        {
          "output_type": "stream",
          "text": [
            "Collecting pytorch-crf\n",
            "  Downloading https://files.pythonhosted.org/packages/96/7d/4c4688e26ea015fc118a0327e5726e6596836abce9182d3738be8ec2e32a/pytorch_crf-0.7.2-py3-none-any.whl\n",
            "Installing collected packages: pytorch-crf\n",
            "Successfully installed pytorch-crf-0.7.2\n"
          ],
          "name": "stdout"
        }
      ]
    },
    {
      "cell_type": "code",
      "metadata": {
        "colab": {
          "base_uri": "https://localhost:8080/"
        },
        "id": "wRxPB8nzQewF",
        "outputId": "ae5c6902-bc67-453e-eab4-be8f632e65a8"
      },
      "source": [
        "pip install transformers==3"
      ],
      "execution_count": 2,
      "outputs": [
        {
          "output_type": "stream",
          "text": [
            "Collecting transformers==3\n",
            "\u001b[?25l  Downloading https://files.pythonhosted.org/packages/9c/35/1c3f6e62d81f5f0daff1384e6d5e6c5758682a8357ebc765ece2b9def62b/transformers-3.0.0-py3-none-any.whl (754kB)\n",
            "\u001b[K     |████████████████████████████████| 757kB 9.4MB/s \n",
            "\u001b[?25hCollecting sentencepiece\n",
            "\u001b[?25l  Downloading https://files.pythonhosted.org/packages/e5/2d/6d4ca4bef9a67070fa1cac508606328329152b1df10bdf31fb6e4e727894/sentencepiece-0.1.94-cp36-cp36m-manylinux2014_x86_64.whl (1.1MB)\n",
            "\u001b[K     |████████████████████████████████| 1.1MB 12.3MB/s \n",
            "\u001b[?25hRequirement already satisfied: packaging in /usr/local/lib/python3.6/dist-packages (from transformers==3) (20.7)\n",
            "Requirement already satisfied: regex!=2019.12.17 in /usr/local/lib/python3.6/dist-packages (from transformers==3) (2019.12.20)\n",
            "Requirement already satisfied: filelock in /usr/local/lib/python3.6/dist-packages (from transformers==3) (3.0.12)\n",
            "Requirement already satisfied: numpy in /usr/local/lib/python3.6/dist-packages (from transformers==3) (1.18.5)\n",
            "Requirement already satisfied: requests in /usr/local/lib/python3.6/dist-packages (from transformers==3) (2.23.0)\n",
            "Requirement already satisfied: tqdm>=4.27 in /usr/local/lib/python3.6/dist-packages (from transformers==3) (4.41.1)\n",
            "Collecting sacremoses\n",
            "\u001b[?25l  Downloading https://files.pythonhosted.org/packages/7d/34/09d19aff26edcc8eb2a01bed8e98f13a1537005d31e95233fd48216eed10/sacremoses-0.0.43.tar.gz (883kB)\n",
            "\u001b[K     |████████████████████████████████| 890kB 29.3MB/s \n",
            "\u001b[?25hRequirement already satisfied: dataclasses; python_version < \"3.7\" in /usr/local/lib/python3.6/dist-packages (from transformers==3) (0.8)\n",
            "Collecting tokenizers==0.8.0-rc4\n",
            "\u001b[?25l  Downloading https://files.pythonhosted.org/packages/e8/bd/e5abec46af977c8a1375c1dca7cb1e5b3ec392ef279067af7f6bc50491a0/tokenizers-0.8.0rc4-cp36-cp36m-manylinux1_x86_64.whl (3.0MB)\n",
            "\u001b[K     |████████████████████████████████| 3.0MB 40.5MB/s \n",
            "\u001b[?25hRequirement already satisfied: pyparsing>=2.0.2 in /usr/local/lib/python3.6/dist-packages (from packaging->transformers==3) (2.4.7)\n",
            "Requirement already satisfied: urllib3!=1.25.0,!=1.25.1,<1.26,>=1.21.1 in /usr/local/lib/python3.6/dist-packages (from requests->transformers==3) (1.24.3)\n",
            "Requirement already satisfied: certifi>=2017.4.17 in /usr/local/lib/python3.6/dist-packages (from requests->transformers==3) (2020.12.5)\n",
            "Requirement already satisfied: idna<3,>=2.5 in /usr/local/lib/python3.6/dist-packages (from requests->transformers==3) (2.10)\n",
            "Requirement already satisfied: chardet<4,>=3.0.2 in /usr/local/lib/python3.6/dist-packages (from requests->transformers==3) (3.0.4)\n",
            "Requirement already satisfied: six in /usr/local/lib/python3.6/dist-packages (from sacremoses->transformers==3) (1.15.0)\n",
            "Requirement already satisfied: click in /usr/local/lib/python3.6/dist-packages (from sacremoses->transformers==3) (7.1.2)\n",
            "Requirement already satisfied: joblib in /usr/local/lib/python3.6/dist-packages (from sacremoses->transformers==3) (0.17.0)\n",
            "Building wheels for collected packages: sacremoses\n",
            "  Building wheel for sacremoses (setup.py) ... \u001b[?25l\u001b[?25hdone\n",
            "  Created wheel for sacremoses: filename=sacremoses-0.0.43-cp36-none-any.whl size=893261 sha256=967990659572dffa76fba910893998280508dae86a72a2c6d4304c09a5cdb911\n",
            "  Stored in directory: /root/.cache/pip/wheels/29/3c/fd/7ce5c3f0666dab31a50123635e6fb5e19ceb42ce38d4e58f45\n",
            "Successfully built sacremoses\n",
            "Installing collected packages: sentencepiece, sacremoses, tokenizers, transformers\n",
            "Successfully installed sacremoses-0.0.43 sentencepiece-0.1.94 tokenizers-0.8.0rc4 transformers-3.0.0\n"
          ],
          "name": "stdout"
        }
      ]
    },
    {
      "cell_type": "code",
      "metadata": {
        "colab": {
          "base_uri": "https://localhost:8080/"
        },
        "id": "2pFHcNUOTNaA",
        "outputId": "89437461-65d0-46e6-8284-50137217d885"
      },
      "source": [
        "from google.colab import drive\r\n",
        "drive.mount('/content/drive')"
      ],
      "execution_count": 3,
      "outputs": [
        {
          "output_type": "stream",
          "text": [
            "Mounted at /content/drive\n"
          ],
          "name": "stdout"
        }
      ]
    },
    {
      "cell_type": "code",
      "metadata": {
        "id": "8Hbl5ZCgUh3Z"
      },
      "source": [
        "import sys\r\n",
        "sys.path.insert(0,\"/content/drive/My Drive/python檔/aicup/run\")\r\n",
        "sys.path.insert(0,\"/content/drive/My Drive/python檔/aicup\")"
      ],
      "execution_count": 4,
      "outputs": []
    },
    {
      "cell_type": "code",
      "metadata": {
        "id": "djFHaiZ4MiOA"
      },
      "source": [
        "import csv\n",
        "import re\n",
        "from transformers import BertTokenizer, BertModel\n",
        "import torch\n",
        "import torch.nn as nn\n",
        "from torchcrf import CRF\n",
        "from torch.nn.utils.rnn import pack_padded_sequence, pad_packed_sequence"
      ],
      "execution_count": 5,
      "outputs": []
    },
    {
      "cell_type": "code",
      "metadata": {
        "id": "Mz_M7clkMiOH"
      },
      "source": [
        "class model_crf(nn.Module):\n",
        "    def __init__(self, n_tags, hidden_dim=256, batchsize= 32):\n",
        "        super(model_crf, self).__init__()\n",
        "        self.n_tags = n_tags\n",
        "        self.lstm =  nn.LSTM(bidirectional=True, num_layers=2, input_size=768, hidden_size=hidden_dim//2, dropout= 0.3, batch_first=True)\t\t\n",
        "        self.hidden_dim = hidden_dim\n",
        "        self.fc = nn.Linear(hidden_dim, self.n_tags)\n",
        "        self.bert = BertModel.from_pretrained('bert-base-chinese')\n",
        "\n",
        "        # for param in self.bert.parameters():\n",
        "        # \tparam.requires_grad = False\n",
        "        # self.bert.eval()  # 知用来取bert embedding\n",
        "\n",
        "        self.device = torch.device('cuda') if torch.cuda.is_available() else torch.device('cpu')\n",
        "        self.CRF = CRF(n_tags, batch_first= True)\n",
        "        self.hidden = self.init_hidden(batchsize)\n",
        "\n",
        "    def init_hidden(self, batch_size):\n",
        "        return (torch.randn(2*2, batch_size, self.hidden_dim // 2).to(self.device),\n",
        "                torch.randn(2*2, batch_size, self.hidden_dim // 2).to(self.device))\n",
        "\n",
        "    def forward(self, input_ids, attention_mask, tags):\n",
        "\n",
        "        batch_size = input_ids.size(0)\n",
        "        max_seq_len = input_ids.size(1)\n",
        "        bert_output, _  = self.bert(input_ids.long(), attention_mask)\n",
        "\n",
        "        seq_len = torch.sum(attention_mask, dim= 1).cpu().int()\n",
        "        # print(seq_len)\n",
        "        pack_input = pack_padded_sequence(input= bert_output, lengths= seq_len, batch_first= True, enforce_sorted= False)\n",
        "        packed_lstm_out, _ = self.lstm(pack_input,self.init_hidden(batch_size= batch_size))\n",
        "        lstm_enc, _=  pad_packed_sequence(packed_lstm_out, batch_first=True, padding_value=0)\n",
        "        # print(lstm_enc.size())\n",
        "        lstm_feats = self.fc(lstm_enc)\n",
        "\n",
        "        lstm_max_seq_len = lstm_feats.size(1)\n",
        "        pad = torch.zeros(size=(batch_size, max_seq_len-lstm_max_seq_len, self.n_tags), dtype= torch.float).to(self.device)\n",
        "        lstm_feats= torch.cat((lstm_feats, pad), dim= 1)\n",
        "\n",
        "        lstm_feats[:,:,1:-1] = lstm_feats[:,:,1:-1]*100\n",
        "        loss = -self.CRF(lstm_feats, tags, attention_mask.bool(), reduction= 'token_mean')\n",
        "        pred_seqs = self.CRF.decode(emissions= lstm_feats, mask= attention_mask.bool())\n",
        "\n",
        "        return loss, pred_seqs"
      ],
      "execution_count": 6,
      "outputs": []
    },
    {
      "cell_type": "code",
      "metadata": {
        "colab": {
          "base_uri": "https://localhost:8080/"
        },
        "id": "Otzi7hMUMiOI",
        "outputId": "10efbe71-93ac-4cf7-a59b-496bd2ff0361"
      },
      "source": [
        "with open('/content/drive/My Drive/python檔/aicup/test_input.data', 'r', encoding= 'utf-8') as f:\n",
        "    data = f.readlines()\n",
        "\n",
        "print(data[:10])\n",
        "    "
      ],
      "execution_count": 7,
      "outputs": [
        {
          "output_type": "stream",
          "text": [
            "['醫\\n', '師\\n', '：\\n', '最\\n', '近\\n', '人\\n', '有\\n', '沒\\n', '有\\n', '什\\n']\n"
          ],
          "name": "stdout"
        }
      ]
    },
    {
      "cell_type": "code",
      "metadata": {
        "id": "N2GKK0wlMiOJ"
      },
      "source": [
        "class test_output():\n",
        "    def __init__(self, data):\n",
        "        \n",
        "        self.data_list = []\n",
        "        self.word_id = []\n",
        "        self.word_article_id = [] \n",
        "        article_id = 0\n",
        "        word_id = 0\n",
        "        data_list_tmp = []\n",
        "        article_id_tmp = []\n",
        "        word_id_tmp = []\n",
        "        \n",
        "        for row in data:\n",
        "            \n",
        "            data_tuple = tuple()\n",
        "            if row == '\\n':\n",
        "                \n",
        "                article_id += 1 \n",
        "                word_id = 0\n",
        "                self.word_id.append(word_id)\n",
        "                self.word_article_id.append(article_id_tmp)\n",
        "                self.data_list.append(data_list_tmp)\n",
        "                data_list_tmp = []\n",
        "                article_id_tmp = []\n",
        "                word_id_tmp = []\n",
        "\n",
        "            else:\n",
        "                \n",
        "                row = row.strip('\\n').split(' ')\n",
        "\n",
        "                if row[0] in ['。', '？','！','，','～','：',',','‧']:\n",
        "                    \n",
        "                    self.word_id.append(word_id_tmp)\n",
        "                    self.word_article_id.append(article_id_tmp)\n",
        "                    self.data_list.append(data_list_tmp)\n",
        "                    data_list_tmp = []\n",
        "                    article_id_tmp = []\n",
        "                    word_id_tmp = []\n",
        "                    \n",
        "                elif row[0] in ['A','B','C','D','E','F','G','H','I','J','K','L','M','N','O','P','Q','R','S','T','U','V','W','X','Y','Z']:\n",
        "                      \n",
        "                    data_tuple = (row[0].lower(), article_id, word_id)\n",
        "                    data_list_tmp.append(data_tuple)\n",
        "                    article_id_tmp.append(article_id)\n",
        "                    word_id_tmp.append(word_id)\n",
        "\n",
        "                elif row[0] not in ['摁','嗯','啦','喔','欸','啊','齁','嘿','…','...']:\n",
        "                    \n",
        "                    data_tuple = (row[0], article_id, word_id)\n",
        "                    data_list_tmp.append(data_tuple)\n",
        "                    article_id_tmp.append(article_id)\n",
        "                    word_id_tmp.append(word_id)\n",
        "                    \n",
        "                word_id += 1\n",
        "                \n",
        "        if len(data_list_tmp) != 0:\n",
        "            self.data_list.append(data_list_tmp)\n",
        "            self.word_id.append(word_id_tmp)\n",
        "            self.word_article_id.append(article_id_tmp)\n",
        "            \n",
        "    def raw_output(self):\n",
        "        return self.data_list, self.word_id, self.word_article_id\n",
        "    \n",
        "    def get_stcs(self):\n",
        "        \n",
        "        all_stcs = list()\n",
        "        all_article_ids = list()\n",
        "        all_word_ids = list()\n",
        "\n",
        "        for stc_list in self.data_list:\n",
        "\n",
        "            txt_len = len(stc_list) #(文章數，每個文章對應的總字數) (word, label)\n",
        "            stc = str() #存字數= max_stc_len的字串\n",
        "            article_ids = []\n",
        "            word_ids = []\n",
        "            \n",
        "\n",
        "            for idx, (word,article_id, word_id) in enumerate(stc_list):\n",
        "\n",
        "                stc += word\n",
        "                article_ids.append(article_id)\n",
        "                word_ids.append(word_id)\n",
        "\n",
        "            all_stcs.append(stc)\n",
        "            all_article_ids.append(article_ids)\n",
        "            all_word_ids.append(word_ids)\n",
        "        \n",
        "        assert len(all_stcs) > 0, 'all stcs len = 0' \n",
        "        \n",
        "        all_stcs_clean = []\n",
        "        all_article_ids_clean = []\n",
        "        all_word_ids_clean = []\n",
        "        idx = 0\n",
        "        \n",
        "        for stc, article_id, word_id in zip(all_stcs, all_article_ids, all_word_ids):\n",
        "            stc_clean = re.sub(r'(醫師)|(個管師)|(民眾)|(家屬)|(護理師)', '', stc)\n",
        "            # print(stc, stc_clean, label)\n",
        "            if len(stc_clean) > 1:  \n",
        "            # print(stc_clean, stc)\n",
        "                all_stcs_clean.append(stc)\n",
        "                all_article_ids_clean.append(article_id)\n",
        "                all_word_ids_clean.append(word_id)\n",
        "\n",
        "            # 這一步就先把label 做 0 padding\n",
        "            \n",
        "        max_length = len(max(all_stcs_clean, key=len))\n",
        "        assert max_length > 0, 'max length less than 1'\n",
        "\n",
        "        print('sentences總數: {}'.format(len(all_stcs_clean)))\n",
        "            \n",
        "        return all_stcs_clean, all_article_ids_clean, all_word_ids_clean"
      ],
      "execution_count": 8,
      "outputs": []
    },
    {
      "cell_type": "code",
      "metadata": {
        "colab": {
          "base_uri": "https://localhost:8080/"
        },
        "id": "p2LFN3MCMiOK",
        "outputId": "2226f4f0-e51f-4efd-fcf8-903524042c00"
      },
      "source": [
        "stcs, article_ids, word_ids = test_output(data= data).get_stcs()"
      ],
      "execution_count": 9,
      "outputs": [
        {
          "output_type": "stream",
          "text": [
            "sentences總數: 24302\n"
          ],
          "name": "stdout"
        }
      ]
    },
    {
      "cell_type": "code",
      "metadata": {
        "colab": {
          "base_uri": "https://localhost:8080/"
        },
        "id": "pDhZqgsMMiOL",
        "outputId": "224f04fc-b3df-4a1e-e0a4-d4620711ee18"
      },
      "source": [
        "clean_stcs, clean_article_id, clean_word_id = [], [] ,[]\n",
        "\n",
        "for stc, article_id, word_id in zip(stcs, article_ids, word_ids):\n",
        "#     print(stc, article_id, word_id)\n",
        "    if stc not in ['沒有','也沒有','哪個','那個','算了','不用','有','有有有','有嗎','一點點', '謝謝','不會','不好意思','對不對','好不好','要嗎','還好']:\n",
        "        clean_stcs.append(stc)\n",
        "        clean_article_id.append(article_id)\n",
        "        clean_word_id.append(word_id)\n",
        "print(len(clean_stcs))"
      ],
      "execution_count": 10,
      "outputs": [
        {
          "output_type": "stream",
          "text": [
            "23673\n"
          ],
          "name": "stdout"
        }
      ]
    },
    {
      "cell_type": "code",
      "metadata": {
        "id": "-zVDV_utMiOL",
        "colab": {
          "base_uri": "https://localhost:8080/",
          "height": 66,
          "referenced_widgets": [
            "a8a2a629c74140e88ffa19268991c8c4",
            "cff2270769f44b93a4c597fb43d0d61f",
            "af101aa2e5f5457f916cf56740b0f032",
            "528d9f4b9f054555b2ae01e2067f1a47",
            "a37b590b950043eb82c828b01880fe6b",
            "ae11b09edd3e432d89feaba080878c2f",
            "37a6fff99c094837b5949171b8f1e940",
            "c7fb38bb52144f69bf4d3130b316c40b"
          ]
        },
        "outputId": "420719c6-9294-4bc7-f456-e16a6b2571b6"
      },
      "source": [
        "tokenizer = BertTokenizer.from_pretrained('bert-base-chinese')"
      ],
      "execution_count": 11,
      "outputs": [
        {
          "output_type": "display_data",
          "data": {
            "application/vnd.jupyter.widget-view+json": {
              "model_id": "a8a2a629c74140e88ffa19268991c8c4",
              "version_minor": 0,
              "version_major": 2
            },
            "text/plain": [
              "HBox(children=(FloatProgress(value=0.0, description='Downloading', max=109540.0, style=ProgressStyle(descripti…"
            ]
          },
          "metadata": {
            "tags": []
          }
        },
        {
          "output_type": "stream",
          "text": [
            "\n"
          ],
          "name": "stdout"
        }
      ]
    },
    {
      "cell_type": "code",
      "metadata": {
        "colab": {
          "base_uri": "https://localhost:8080/"
        },
        "id": "vjg8d7ErMiOM",
        "outputId": "4295e0f7-3e67-4cad-f3c2-2ed5f94aed08"
      },
      "source": [
        "max_len = max(len(txt) for txt in clean_stcs)\n",
        "print(max_len)\n",
        "print(len(clean_stcs))"
      ],
      "execution_count": 12,
      "outputs": [
        {
          "output_type": "stream",
          "text": [
            "51\n",
            "23673\n"
          ],
          "name": "stdout"
        }
      ]
    },
    {
      "cell_type": "code",
      "metadata": {
        "id": "x0LpSpqhMiOM"
      },
      "source": [
        "encoding = tokenizer.batch_encode_plus(clean_stcs, \n",
        "                                 padding=True,\n",
        "                                 add_special_tokens=False,\n",
        "                                 return_attention_mask= True,\n",
        "                                 return_token_type_ids= False,\n",
        "                                #  is_split_into_words=True,\n",
        "                                 return_tensors='pt')"
      ],
      "execution_count": 13,
      "outputs": []
    },
    {
      "cell_type": "code",
      "metadata": {
        "colab": {
          "base_uri": "https://localhost:8080/"
        },
        "id": "NsfKqarBMiON",
        "outputId": "7f4e8299-1a17-4ea3-de94-aff90be259ab"
      },
      "source": [
        "encoding['input_ids'].size()"
      ],
      "execution_count": 14,
      "outputs": [
        {
          "output_type": "execute_result",
          "data": {
            "text/plain": [
              "torch.Size([23673, 51])"
            ]
          },
          "metadata": {
            "tags": []
          },
          "execution_count": 14
        }
      ]
    },
    {
      "cell_type": "code",
      "metadata": {
        "colab": {
          "base_uri": "https://localhost:8080/"
        },
        "id": "iRsN0MN3MiOO",
        "outputId": "c96dce45-1ba9-4b20-c14e-0629709640f8"
      },
      "source": [
        "encoding['attention_mask'].size()"
      ],
      "execution_count": 15,
      "outputs": [
        {
          "output_type": "execute_result",
          "data": {
            "text/plain": [
              "torch.Size([23673, 51])"
            ]
          },
          "metadata": {
            "tags": []
          },
          "execution_count": 15
        }
      ]
    },
    {
      "cell_type": "code",
      "metadata": {
        "colab": {
          "base_uri": "https://localhost:8080/"
        },
        "id": "wUbO00avMiOO",
        "outputId": "357aa73a-349a-4e5b-ada2-99590ce3a42e"
      },
      "source": [
        "encoding['attention_mask'][:2]"
      ],
      "execution_count": 16,
      "outputs": [
        {
          "output_type": "execute_result",
          "data": {
            "text/plain": [
              "tensor([[1, 1, 1, 1, 1, 1, 1, 1, 1, 1, 1, 0, 0, 0, 0, 0, 0, 0, 0, 0, 0, 0, 0, 0,\n",
              "         0, 0, 0, 0, 0, 0, 0, 0, 0, 0, 0, 0, 0, 0, 0, 0, 0, 0, 0, 0, 0, 0, 0, 0,\n",
              "         0, 0, 0],\n",
              "        [1, 1, 1, 1, 1, 1, 1, 0, 0, 0, 0, 0, 0, 0, 0, 0, 0, 0, 0, 0, 0, 0, 0, 0,\n",
              "         0, 0, 0, 0, 0, 0, 0, 0, 0, 0, 0, 0, 0, 0, 0, 0, 0, 0, 0, 0, 0, 0, 0, 0,\n",
              "         0, 0, 0]])"
            ]
          },
          "metadata": {
            "tags": []
          },
          "execution_count": 16
        }
      ]
    },
    {
      "cell_type": "code",
      "metadata": {
        "id": "DeWi6JkEMiOP"
      },
      "source": [
        "# loss, preds = model(input_ids, "
      ],
      "execution_count": 17,
      "outputs": []
    },
    {
      "cell_type": "markdown",
      "metadata": {
        "id": "xAmCoXk7MiOP"
      },
      "source": [
        "-----"
      ]
    },
    {
      "cell_type": "markdown",
      "metadata": {
        "id": "wRRK_eLBMiOP"
      },
      "source": [
        "# 輸出成csv\n",
        "1. 需要id to tag dictionary\n",
        "2. 對每個預測句子做iteration\n",
        "3. pred : [句子數, 句子長度]"
      ]
    },
    {
      "cell_type": "code",
      "metadata": {
        "colab": {
          "base_uri": "https://localhost:8080/",
          "height": 116,
          "referenced_widgets": [
            "b71d0df17714440885f7fee0ca8c72e7",
            "a92e926cb794461c882b7f6a7e3e9616",
            "e4506e5d32f9428cb17ebf2a9fc912d4",
            "4d26914055ef4c598b1b0b2c2139d2fa",
            "5a2fb8646cfa4e6fabfdb2c9417041e3",
            "f96b93e7646e4960b004d41e5407c401",
            "e11d00cd311e4e188066a6887c876d1e",
            "dbacb80a560b495ab58d2c27c8d94a8d",
            "36879988870943b9a909d39d2f6e020f",
            "9ce238da19d649e2bb6b58d4eec92ce4",
            "daf310ca0da6467aa3ce351a506ef45b",
            "06f50551d0284903ba3be83db8518e6e",
            "4a2c7b2e40ea400e90897440b1d327cd",
            "23f6e1cd3033476380a5cb40454c5bfa",
            "5e74d5e1df14414b8a20c840b90ec923",
            "4e2e291eded14f858b501fb9b0ae9cd6"
          ]
        },
        "id": "o4KkIRNSMiOP",
        "outputId": "f832138a-3723-4472-8bf8-6e84190ab8dd"
      },
      "source": [
        "model = model_crf(n_tags= 26).to('cuda')\r\n",
        "device = 'cuda'"
      ],
      "execution_count": 18,
      "outputs": [
        {
          "output_type": "display_data",
          "data": {
            "application/vnd.jupyter.widget-view+json": {
              "model_id": "b71d0df17714440885f7fee0ca8c72e7",
              "version_minor": 0,
              "version_major": 2
            },
            "text/plain": [
              "HBox(children=(FloatProgress(value=0.0, description='Downloading', max=624.0, style=ProgressStyle(description_…"
            ]
          },
          "metadata": {
            "tags": []
          }
        },
        {
          "output_type": "stream",
          "text": [
            "\n"
          ],
          "name": "stdout"
        },
        {
          "output_type": "display_data",
          "data": {
            "application/vnd.jupyter.widget-view+json": {
              "model_id": "36879988870943b9a909d39d2f6e020f",
              "version_minor": 0,
              "version_major": 2
            },
            "text/plain": [
              "HBox(children=(FloatProgress(value=0.0, description='Downloading', max=411577189.0, style=ProgressStyle(descri…"
            ]
          },
          "metadata": {
            "tags": []
          }
        },
        {
          "output_type": "stream",
          "text": [
            "\n"
          ],
          "name": "stdout"
        }
      ]
    },
    {
      "cell_type": "code",
      "metadata": {
        "id": "GYRrdD5PMiOQ"
      },
      "source": [
        "model = torch.load('/content/drive/My Drive/python檔/aicup/ner_model_batch32_wup4000_lstmhd256_lr5e-5_40epoch_adam_wde-3.pt')\n",
        "torch.save(model.state_dict(), 'model_dict.pt')"
      ],
      "execution_count": 21,
      "outputs": []
    },
    {
      "cell_type": "code",
      "metadata": {
        "colab": {
          "base_uri": "https://localhost:8080/"
        },
        "id": "2ibVf-MqMiOQ",
        "outputId": "fdee3e3f-d356-47ac-8da5-3ba7b281a2bb"
      },
      "source": [
        "model.load_state_dict(torch.load('model_dict.pt'), strict=False)"
      ],
      "execution_count": 23,
      "outputs": [
        {
          "output_type": "execute_result",
          "data": {
            "text/plain": [
              "<All keys matched successfully>"
            ]
          },
          "metadata": {
            "tags": []
          },
          "execution_count": 23
        }
      ]
    },
    {
      "cell_type": "code",
      "metadata": {
        "id": "6USsFaNKMiOQ"
      },
      "source": [
        "batch_size= 32\r\n",
        "pred_labels = []\r\n",
        "\r\n",
        "for idx in range(int((len(clean_stcs)/batch_size))):\r\n",
        "  input= encoding['input_ids'][idx*batch_size:(idx+1)*batch_size].to(device)\r\n",
        "  mask = encoding['attention_mask'][idx*batch_size:(idx+1)*batch_size].to(device)\r\n",
        "  tags= torch.zeros((input.size(0),input.size(1)), dtype=torch.long).to(device)\r\n",
        "  _, preds = model(input, mask, tags)\r\n",
        "  for pred in preds:\r\n",
        "    pred_labels.append(pred)\r\n",
        "\r\n",
        "idx = int((len(clean_stcs)/batch_size))\r\n",
        "input= encoding['input_ids'][idx*batch_size:].to(device)\r\n",
        "mask = encoding['attention_mask'][idx*batch_size:].to(device)\r\n",
        "tags= torch.zeros((input.size(0),input.size(1)), dtype=torch.long).to(device)\r\n",
        "_, preds = model(input, mask, tags)\r\n",
        "for pred in preds:\r\n",
        "  pred_labels.append(pred)"
      ],
      "execution_count": null,
      "outputs": []
    },
    {
      "cell_type": "code",
      "metadata": {
        "id": "ybtm_KW_fivv"
      },
      "source": [
        "tag2id = {'[PAD]': 0, 'B-ID': 1, 'B-clinical_event': 2, 'B-contact': 3, 'B-education': 4, 'B-family': 5, 'B-location': 6, 'B-med_exam': 7, 'B-money': 8, 'B-name': 9, 'B-organization': 10, 'B-profession': 11, 'B-time': 12, 'I-ID': 13, 'I-clinical_event': 14, 'I-contact': 15, 'I-education': 16, 'I-family': 17, 'I-location': 18, 'I-med_exam': 19, 'I-money': 20, 'I-name': 21, 'I-organization': 22, 'I-profession': 23, 'I-time': 24, 'O': 25}"
      ],
      "execution_count": null,
      "outputs": []
    },
    {
      "cell_type": "code",
      "metadata": {
        "id": "PMBimLbjfswg"
      },
      "source": [
        "id2tag ={v:k for k, v in tag2id.items()}"
      ],
      "execution_count": null,
      "outputs": []
    },
    {
      "cell_type": "code",
      "metadata": {
        "id": "R-TKZhJ-dv8T"
      },
      "source": [
        "pred_labels_tag = []\r\n",
        "for label in pred_labels:\r\n",
        "  stc_label = [id2tag[id] for id in label]\r\n",
        "  pred_labels_tag.append(stc_label)"
      ],
      "execution_count": null,
      "outputs": []
    },
    {
      "cell_type": "code",
      "metadata": {
        "id": "fkwRezcihGOt"
      },
      "source": [
        "pred_labels_tag"
      ],
      "execution_count": null,
      "outputs": []
    },
    {
      "cell_type": "code",
      "metadata": {
        "id": "ghhCpleAMiOR"
      },
      "source": [
        "# _, preds = model(encoding['input_ids'].to('cuda'), encoding['attention_mask'].to('cuda'), tags= torch.zeros((encoding['input_ids'].size(0),encoding['input_ids'].size(1))).to('cuda'))"
      ],
      "execution_count": null,
      "outputs": []
    },
    {
      "cell_type": "code",
      "metadata": {
        "id": "lWy1ymFeMiOR"
      },
      "source": [
        "entity_text = []\n",
        "\n",
        "for stc, labels, article_id, word_id in zip(clean_stcs, pred_labels_tag, clean_article_id, clean_word_id):\n",
        "    \n",
        "    entity = str()\n",
        "    \n",
        "    start_pos = 0\n",
        "    end_pos = 0\n",
        "    article = 0\n",
        "    \n",
        "    entity_type = str()\n",
        "    \n",
        "    \n",
        "    for idx, label in enumerate(labels):\n",
        "        if bool(re.match(r'B-', label)):\n",
        "            entity += list(stc)[idx]\n",
        "            start_pos = word_id[idx]\n",
        "            article = article_id[idx]\n",
        "            entity_type = label.split('B-')[1]\n",
        "            \n",
        "        elif bool(re.match(r'I-', label)):\n",
        "            entity += list(stc)[idx]\n",
        "            end_pos= word_id[idx]\n",
        "            try:\n",
        "              if (labels[idx+1] == 'O') & (entity_type!=''):\n",
        "                  entity_text.append((article, start_pos, end_pos, entity, entity_type))\n",
        "                  \n",
        "                  entity = str()\n",
        "                  start_pos = 0\n",
        "                  end_pos = 0\n",
        "                  article = 0\n",
        "                  entity_type = str()\n",
        "            except:\n",
        "              pass"
      ],
      "execution_count": null,
      "outputs": []
    },
    {
      "cell_type": "code",
      "metadata": {
        "id": "duLRJGzphlwM"
      },
      "source": [
        "entity_text"
      ],
      "execution_count": null,
      "outputs": []
    },
    {
      "cell_type": "code",
      "metadata": {
        "id": "suSdpY3FMiOR"
      },
      "source": [
        "with open('test_output.tsv', 'w', encoding='utf-16') as f:\r\n",
        "  writer = csv.writer(f, delimiter='\\t')\r\n",
        "  for (article, start_pos, end_pos, entity, entity_type) in entity_text:\r\n",
        "    writer.writerow([str(article), str(start_pos), str(end_pos), str(entity), str(entity_type)])"
      ],
      "execution_count": null,
      "outputs": []
    },
    {
      "cell_type": "code",
      "metadata": {
        "id": "-m6KR13gMiOS"
      },
      "source": [
        ""
      ],
      "execution_count": null,
      "outputs": []
    }
  ]
}