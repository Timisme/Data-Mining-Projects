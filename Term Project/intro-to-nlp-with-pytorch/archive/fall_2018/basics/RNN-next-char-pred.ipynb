{
 "cells": [
  {
   "cell_type": "markdown",
   "metadata": {
    "colab_type": "text",
    "id": "ImjwR5LNPFmp",
    "nbpresent": {
     "id": "91c274e0-fca3-4d42-85dc-c37c53758873"
    },
    "slideshow": {
     "slide_type": "slide"
    }
   },
   "source": [
    "# RNN next character prediction\n",
    "\n",
    "### Mehrdad Yazdani\n",
    "### September 22, 2018\n",
    "\n",
    "Colab notebook online to play!!\n",
    "\n",
    "https://colab.research.google.com/drive/1achzCaBFBHputcqXrw_o_He5UNjx3hFG\n"
   ]
  },
  {
   "cell_type": "markdown",
   "metadata": {
    "nbpresent": {
     "id": "0b8370a1-cced-4d4e-ba18-31f6336a9f2d"
    },
    "slideshow": {
     "slide_type": "slide"
    }
   },
   "source": [
    "We will look at using RNN's in PyTorch for the task of predicting the next character from observing previous characters. This is just a toy example but the hope is to understand the basics of the architectures and training procedures.\n",
    "\n",
    "We will only consider one input sequence and one output sequence:\n",
    "\n",
    "- **Input sequence:** hihell\n",
    "- **Output sequence:** ihello"
   ]
  },
  {
   "cell_type": "markdown",
   "metadata": {
    "nbpresent": {
     "id": "4c80cd29-19cf-4768-958e-6ad1a3f39a3e"
    },
    "slideshow": {
     "slide_type": "slide"
    }
   },
   "source": [
    "One way of thinking about how this works is that the machine learning algorithm (ML) first sees the character \"h\" and tries to guess what should follow:\n",
    "\n",
    "\"h\" → ML → \"?\"\n",
    "\n",
    "In the ideal case and if it hsa learned, the ML will output \"i\". If we do this for all the characters, in this exercise we would like to see the ML algorithm at the end to have this property:\n",
    "\n",
    "\"h\" → ML →\"i\" <br>\n",
    "\"i\"  → ML → \"h\"<br>\n",
    "\"h\" → ML → \"e\"<br>\n",
    "\"e\" → ML → \"l\"<br>\n",
    "\"l\"  → ML → \"l\"<br>\n",
    "\"l\"  → ML → \"o\"<br>\n",
    "\n",
    "\n"
   ]
  },
  {
   "cell_type": "markdown",
   "metadata": {
    "nbpresent": {
     "id": "2f5f8f49-5b67-4556-8be7-87c74d2981ed"
    },
    "slideshow": {
     "slide_type": "slide"
    }
   },
   "source": [
    "- It's imortant to clarify that this example demostrates *memorization* and not learning: the network has simply memorized to regurgitate what it has seen. \n",
    "\n",
    "\n",
    "- To truly test if a network has learned and not just memorized, we should give the network *new* sequences that it hasn't seen before. \n",
    "\n",
    "\n",
    "- This notebook is mostly lifted and modified from the excellent tutorials by Sung Kim:\n",
    "https://docs.google.com/presentation/d/17VUX7YXhMkJrqO5gNGh6EE5gzBpY-BF9IrfVKcFIb3A/edit#slide=id.g27c9a844e4_157_9"
   ]
  },
  {
   "cell_type": "code",
   "execution_count": 1,
   "metadata": {
    "colab": {
     "base_uri": "https://localhost:8080/",
     "height": 139
    },
    "colab_type": "code",
    "id": "Zy5bLqu6QFY9",
    "nbpresent": {
     "id": "e6a79072-973d-4ccf-99b0-5e544aec3490"
    },
    "outputId": "b53404b4-bbc3-4e08-e74c-ba061403d8cc",
    "slideshow": {
     "slide_type": "subslide"
    }
   },
   "outputs": [
    {
     "name": "stdout",
     "output_type": "stream",
     "text": [
      "Collecting torch\n",
      "\u001b[?25l  Downloading https://files.pythonhosted.org/packages/49/0e/e382bcf1a6ae8225f50b99cc26effa2d4cc6d66975ccf3fa9590efcbedce/torch-0.4.1-cp36-cp36m-manylinux1_x86_64.whl (519.5MB)\n",
      "\u001b[K    100% |████████████████████████████████| 519.5MB 23kB/s \n",
      "tcmalloc: large alloc 1073750016 bytes == 0x587cc000 @  0x7faa45edf1c4 0x46d6a4 0x5fcbcc 0x4c494d 0x54f3c4 0x553aaf 0x54e4c8 0x54f4f6 0x553aaf 0x54efc1 0x54f24d 0x553aaf 0x54efc1 0x54f24d 0x553aaf 0x54efc1 0x54f24d 0x551ee0 0x54e4c8 0x54f4f6 0x553aaf 0x54efc1 0x54f24d 0x551ee0 0x54efc1 0x54f24d 0x551ee0 0x54e4c8 0x54f4f6 0x553aaf 0x54e4c8\n",
      "\u001b[?25hInstalling collected packages: torch\n",
      "Successfully installed torch-0.4.1\n"
     ]
    }
   ],
   "source": [
    "# needed to use pytorch in colab\n",
    "!pip install torch"
   ]
  },
  {
   "cell_type": "code",
   "execution_count": 1,
   "metadata": {
    "colab": {},
    "colab_type": "code",
    "id": "WaQwdaqHPFml",
    "nbpresent": {
     "id": "b4092e7f-28a8-499c-94c8-912a106960d1"
    },
    "slideshow": {
     "slide_type": "subslide"
    }
   },
   "outputs": [],
   "source": [
    "import sys\n",
    "import torch\n",
    "import torch.nn as nn\n",
    "from torch.autograd import Variableb"
   ]
  },
  {
   "cell_type": "markdown",
   "metadata": {
    "colab_type": "text",
    "id": "Uon6zrqWtpYH",
    "nbpresent": {
     "id": "1ba09160-dde2-469c-8de9-f6fae31a0277"
    },
    "slideshow": {
     "slide_type": "slide"
    }
   },
   "source": [
    "### Encoding characters with numbers\n",
    "\n",
    "- How do we encode characters as numbers?\n",
    "\n",
    "\"h\" → 34 <br>\n",
    "\"e\" → 12 <br>\n",
    "\"l\"  → 43 <br>\n",
    "\"o\"  → 9 <br>\n",
    "\n",
    "- Everytime we see the character \"h\" we treat as if it were the digit 34 \n",
    "\n",
    "    - If we saw the character \"e\" we treat it as 12 and so on. \n",
    "\n",
    "\n",
    "\n",
    "- The problem with this encoding scheme is that it implies a specific ordering!\n",
    "\n",
    "\n",
    "- That is, because \"h\" has been assigned to 34 and \"e\" to 12, it implies that \"h\" is somehow bigger than \"e\" by 22 units. \n"
   ]
  },
  {
   "cell_type": "markdown",
   "metadata": {
    "nbpresent": {
     "id": "eaebe009-f15f-4a8e-85b5-084279b23230"
    },
    "slideshow": {
     "slide_type": "slide"
    }
   },
   "source": [
    "- But we know that the characters are all important and there is no quantitiative measure of one character being bigger or more important than another \n",
    "    - (though some entropic measures may guide us as to how to efficiently order/code characters).\n",
    "\n",
    "A popular way to deal with encoding characters instead is to treat all characters as equally important and assign a one-hot encoding scheme. It is easiest to illustrate this:\n",
    "\n",
    "\"h\" → 1000 <br>\n",
    "\"e\" → 0100 <br>\n",
    "\"l\" → 0010 <br>\n",
    "\"o\" → 0001 <br>\n",
    "\n",
    "You can think of each of these mappings as a \"1-hot code\" represented as a 4 dimensional binary vector. These codes can be assigned in python as a list:"
   ]
  },
  {
   "cell_type": "code",
   "execution_count": 2,
   "metadata": {
    "colab": {},
    "colab_type": "code",
    "id": "yFd2WVJqPFms",
    "nbpresent": {
     "id": "147cd3d4-5983-4707-bcf9-0b751168fcad"
    },
    "slideshow": {
     "slide_type": "slide"
    }
   },
   "outputs": [],
   "source": [
    "# One hot encoding for each char in 'hello'\n",
    "h = [1, 0, 0, 0]\n",
    "e = [0, 1, 0, 0]\n",
    "l = [0, 0, 1, 0]\n",
    "o = [0, 0, 0, 1]\n"
   ]
  },
  {
   "cell_type": "markdown",
   "metadata": {
    "colab_type": "text",
    "id": "9xMlCSdUt4KO",
    "nbpresent": {
     "id": "45478f8a-cb2b-4c33-9302-3cf9e9a7e024"
    },
    "slideshow": {
     "slide_type": "slide"
    }
   },
   "source": [
    "Since our 1-one-hot vectors are only 4 dimensional, we need the `input_size` of the RNN to be 4. The `hidden_size` is the dimension of the hidden state. "
   ]
  },
  {
   "cell_type": "markdown",
   "metadata": {
    "colab_type": "text",
    "id": "r689k5GvPFmw",
    "nbpresent": {
     "id": "1279ae9f-d0ab-404c-a8fb-9e42ee52135f"
    },
    "slideshow": {
     "slide_type": "slide"
    }
   },
   "source": [
    "### Elman RNN\n",
    "\n",
    "![elman](https://upload.wikimedia.org/wikipedia/commons/thumb/b/b5/Recurrent_neural_network_unfold.svg/1000px-Recurrent_neural_network_unfold.svg.png)\n",
    "\n",
    "The `nn.RNN` model is the classic vanilla RNN AKA the Elman RNN. It computes the hidden state $h_{t}$ at time $t$ based on the current input $x_{t}$ and the previus hidden state $h_{(t-1)}$. \n",
    "\n",
    "$ h_{t} = \\text{tanh}(w_{ih}x_{t} + b_{ih} + w_{hh}h_{(t-1)} + b_{hh})$\n",
    "\n",
    "- $w_{ih}$ and $b_{ih}$ are the weights and biases associated with the input $x_{t}$ at time $t$\n",
    "- $w_{hh}$ and $b_{hh}$ are the weights and biases associated with the previous hidden state $h_{(t-1)}$\n",
    "\n"
   ]
  },
  {
   "cell_type": "markdown",
   "metadata": {
    "slideshow": {
     "slide_type": "subslide"
    }
   },
   "source": [
    "\n",
    "<img src=\"https://www.walletfox.com/course/qtconcurrentmatrixvectorSource/matvec1_img.png\" alt=\"Drawing\" style=\"width: 900px;\"/>"
   ]
  },
  {
   "cell_type": "markdown",
   "metadata": {
    "nbpresent": {
     "id": "c679c4e3-b578-46d6-a92b-ecb9d87ed071"
    },
    "slideshow": {
     "slide_type": "slide"
    }
   },
   "source": [
    "Important parameters that need to be specified:\n",
    "\n",
    "- input_size: The number of expected features in the input `x`\n",
    "- hidden_size: The number of features in the hidden state `h`\n",
    "\n",
    "Once `nn.RNN` has been defined, it takes two inputs (`x` and initial state `h_0`) and returns two outputs (`output` set of states and final state`h_n`). The inputs are:\n",
    "\n",
    "- input of shape (seq_len, batch, input_size): tensor containing the features of the input sequence.\n",
    "- h_0 of shape (num_layers * num_directions, batch, hidden_size): tensor containing the initial hidden state for each element in the batch. Defaults to zero if not provided. For shallow and unidirectional RNNs (the default), `num_layers = 1` and `num_directions = 1`\n",
    "\n",
    "The outputs are:\n",
    "\n",
    "- `output` of shape (seq_len, batch, num_directions * hidden_size): tensor containing the output features (h_k) from the last layer of the RNN, for each k. For unidirectional RNN (the default), `num_directions = 1`. \n",
    "- `h_n` (num_layers * num_directions, batch, hidden_size): tensor containing the hidden state for `n = seq_len.` For shallow and unidirectional RNNs (the default), `num_layers = 1` and `num_directions = 1`\n",
    "\n",
    "For each element in the input sequence, each layer computes the following function:"
   ]
  },
  {
   "cell_type": "code",
   "execution_count": 3,
   "metadata": {
    "colab": {},
    "colab_type": "code",
    "id": "1iwwB8hyPFmx",
    "nbpresent": {
     "id": "2c495ce3-5f8c-496b-922b-f613a189e177"
    },
    "slideshow": {
     "slide_type": "slide"
    }
   },
   "outputs": [],
   "source": [
    "# The RNN cell will take two sets of inputs:\n",
    "#  - inputs x with 4 features; we specify the number of features with input_size\n",
    "#  - hidden state h with 2 features; we specify the number of hidden features \n",
    "#    with hidden_size = 2\n",
    "     \n",
    "elman_rnn = nn.RNN(input_size=4, hidden_size=2, batch_first=True)"
   ]
  },
  {
   "cell_type": "markdown",
   "metadata": {
    "colab_type": "text",
    "id": "K_5eIgFpPFm1",
    "nbpresent": {
     "id": "d9a7920b-f640-4fae-a28d-10687c74e4a1"
    },
    "slideshow": {
     "slide_type": "slide"
    }
   },
   "source": [
    "The above line has instantiated a elman_rnn object for us to process *sequences* of data that takes state and input data. \n",
    "\n",
    "\n",
    "\n"
   ]
  },
  {
   "cell_type": "markdown",
   "metadata": {
    "colab_type": "text",
    "id": "O8rMdTlBuJLk",
    "nbpresent": {
     "id": "6cde1006-89e3-4c8e-94d2-82a508f122cd"
    },
    "slideshow": {
     "slide_type": "slide"
    }
   },
   "source": [
    "### Prep the initial hidden state tensor\n",
    "When we start the RNN, we need to select something for the initial hidden state $h_0$. Here lets pick something from a random normal distribution."
   ]
  },
  {
   "cell_type": "code",
   "execution_count": 4,
   "metadata": {
    "colab": {
     "base_uri": "https://localhost:8080/",
     "height": 34
    },
    "colab_type": "code",
    "id": "OkXHj8K5PFm1",
    "nbpresent": {
     "id": "3dcbe8d5-48dd-4187-a36b-4cd88dd608f7"
    },
    "outputId": "dce41093-8928-4430-a712-31a9636c825c",
    "slideshow": {
     "slide_type": "slide"
    }
   },
   "outputs": [
    {
     "data": {
      "text/plain": [
       "torch.Size([1, 1, 2])"
      ]
     },
     "execution_count": 4,
     "metadata": {},
     "output_type": "execute_result"
    }
   ],
   "source": [
    "# To make a 2 dimensional hidden state vector, we make the initial hidden state\n",
    "# h_0 with the tensor size specified as:\n",
    "#\n",
    "#     (num_layers * num_directions, batch_size, hidden_size) \n",
    "#\n",
    "# (swap if batch_first = True when RNN cell was created above)\n",
    "\n",
    "hidden = Variable(torch.randn(1, 1, 2))\n",
    "hidden.size()"
   ]
  },
  {
   "cell_type": "markdown",
   "metadata": {
    "colab_type": "text",
    "id": "MqsdmtdRX4cc",
    "nbpresent": {
     "id": "391ef101-a890-489f-825e-b9acb618352d"
    },
    "slideshow": {
     "slide_type": "slide"
    }
   },
   "source": [
    "- The hidden state will have two features! \n",
    "\n",
    "- Since we only have 1 hidden layer, and only batch size of 1 (we only have one sequence), we expect the hidden state vector to be a 1 x 1 x 2 tensor. Indeed,  `hidden.size()` above verifies that we have initialized the tensor with the correct shape. \n",
    "\n"
   ]
  },
  {
   "cell_type": "markdown",
   "metadata": {
    "colab_type": "text",
    "id": "8W19i-akuu0H",
    "nbpresent": {
     "id": "83479630-8391-4fda-a800-b8b0d47b176a"
    },
    "slideshow": {
     "slide_type": "slide"
    }
   },
   "source": [
    "### Prep the initial input sequence character\n",
    "\n",
    "Now let's propogate an input character through the RNN cell. We will first convert our list of one-hot encoded characters to a PyTorch tensor. "
   ]
  },
  {
   "cell_type": "code",
   "execution_count": 5,
   "metadata": {
    "colab": {
     "base_uri": "https://localhost:8080/",
     "height": 34
    },
    "colab_type": "code",
    "id": "Ukd6NxofPFm6",
    "nbpresent": {
     "id": "745c1b54-3104-4dfc-b14a-eb1efd3983fd"
    },
    "outputId": "0786a18c-f176-402c-c722-7ede1da4b77d",
    "slideshow": {
     "slide_type": "slide"
    }
   },
   "outputs": [
    {
     "data": {
      "text/plain": [
       "torch.Size([5, 4])"
      ]
     },
     "execution_count": 5,
     "metadata": {},
     "output_type": "execute_result"
    }
   ],
   "source": [
    "# Propagate input through RNN\n",
    "# Input: (batch, seq_len, input_size) when batch_first=True\n",
    "input_characters = Variable(torch.Tensor([h, e, l, l, o]))\n",
    "\n",
    "input_characters.size()"
   ]
  },
  {
   "cell_type": "markdown",
   "metadata": {
    "colab_type": "text",
    "id": "JVYgDH3mPFm_",
    "nbpresent": {
     "id": "654878b6-3a8a-4935-bc60-328c87e4ca39"
    },
    "slideshow": {
     "slide_type": "slide"
    }
   },
   "source": [
    "Since our one-hot encoded vectors are 4 dimensional, and our \"hello\" sequence consists of 5 characters, we except the input tensor to have size 5 x 4. We see that using `input_characters.size()` that this is indeed the case. \n",
    "\n",
    "\n",
    "Note that our `inputs` tensor is missing the batch dimension. In this case, since we only have 1 sequence (so just one batch), the `inputs` tensor needs to have a size `[1, 5, 4]` - we can easily reshape the tensor using the `.view(1,5,4)` method. Or, we could just do `.view(1,5,-1)` where the -1 will take care of the left over dimensions for us.\n",
    "\n"
   ]
  },
  {
   "cell_type": "markdown",
   "metadata": {
    "colab_type": "text",
    "id": "QBwS8bcfvANE",
    "nbpresent": {
     "id": "4af492f4-620d-4813-bb0c-be5b7af9ee23"
    },
    "slideshow": {
     "slide_type": "slide"
    }
   },
   "source": [
    "### Inference with RNN (aka \"forward pass\"): one character at a time\n",
    "\n",
    "OK, lets **finally** take our initial hidden state and the first character encoded characters and pass it to the Elman RNN that we defined as `elman_rnn`:"
   ]
  },
  {
   "cell_type": "code",
   "execution_count": 6,
   "metadata": {
    "colab": {
     "base_uri": "https://localhost:8080/",
     "height": 68
    },
    "colab_type": "code",
    "id": "0qB7-8-RNyeD",
    "nbpresent": {
     "id": "2b09c257-fd3b-4d90-ac3b-784f48971ea0"
    },
    "outputId": "3646fd07-92b2-4859-9a6b-c634ba5d8bfa",
    "slideshow": {
     "slide_type": "slide"
    }
   },
   "outputs": [
    {
     "name": "stdout",
     "output_type": "stream",
     "text": [
      "Encoded character size: torch.Size([4]) \n",
      "hidden size: torch.Size([1, 1, 2]) \n",
      "out size: torch.Size([1, 1, 2])\n"
     ]
    }
   ],
   "source": [
    "out, hidden = elman_rnn(input_characters[0,:].view(1,1,-1), hidden)\n",
    "print(\"Encoded character size:\", input_characters[0,:].size(), \n",
    "      \"\\nhidden size:\", hidden.size() ,\n",
    "      \"\\nout size:\", out.size())"
   ]
  },
  {
   "cell_type": "markdown",
   "metadata": {
    "colab_type": "text",
    "id": "wRutv7VaQK4j",
    "nbpresent": {
     "id": "d174d7dd-9813-445d-9620-3f3a10db12e5"
    },
    "slideshow": {
     "slide_type": "slide"
    }
   },
   "source": [
    "Let's unpack what we did here\n",
    "\n",
    "\n",
    "- `elman_rnn` expects two sets of input tensors: \n",
    "    - the input character \n",
    "    - the hidden state\n",
    "    \n",
    "  \n",
    "- Input character sequences have 5 characters total and each character is encoded as a 4 dimensional one-hot coded vector. \n",
    "    - We have stored it all in the 5x4 tensor `input_characters`\n",
    "    \n",
    "    \n",
    "- We are to only pass the *first* character. \n",
    "    - The first character can be accessed using \"slice\" indexing: `input_characters[0,:]` → this says take the first character (out of 5) and every feature of our one-hot encoded vector\n",
    "\n",
    "\n"
   ]
  },
  {
   "cell_type": "markdown",
   "metadata": {
    "slideshow": {
     "slide_type": "slide"
    }
   },
   "source": [
    "- When we slice this way, you'll notice that you will only get a 1D tensor that has 4 elements.\n",
    "\n",
    "\n",
    "- But the RNN expects a *sequential tensor* with the shape (seq_len, batch, input_size) \n",
    "\n",
    "\n",
    "- So we have to reshape this 1D tensor into 3D by introducing some dummy dimensions\n",
    "\n",
    "\n",
    "- This reshaping can be done with the `.view()` method.\n",
    "\n"
   ]
  },
  {
   "cell_type": "markdown",
   "metadata": {
    "slideshow": {
     "slide_type": "slide"
    }
   },
   "source": [
    "\n",
    "\n",
    "\n",
    "\n",
    "Below we will iteratre through each 1-hot-encoded character and see the output and hidden sizes of the RNN outputs."
   ]
  },
  {
   "cell_type": "code",
   "execution_count": 7,
   "metadata": {
    "colab": {
     "base_uri": "https://localhost:8080/",
     "height": 357
    },
    "colab_type": "code",
    "id": "lYNFSdOtPFnB",
    "nbpresent": {
     "id": "6e4c6250-84c2-4609-9be5-203c095e6edd"
    },
    "outputId": "e2b1edb4-dd75-45b0-f95e-2cee7aaa626e",
    "slideshow": {
     "slide_type": "slide"
    }
   },
   "outputs": [
    {
     "name": "stdout",
     "output_type": "stream",
     "text": [
      "Character 0 tensor sizes:\n",
      "  encoded character size: torch.Size([1, 1, 4]) \n",
      "  hidden size: torch.Size([1, 1, 2]) \n",
      "  out size: torch.Size([1, 1, 2])\n",
      "Character 1 tensor sizes:\n",
      "  encoded character size: torch.Size([1, 1, 4]) \n",
      "  hidden size: torch.Size([1, 1, 2]) \n",
      "  out size: torch.Size([1, 1, 2])\n",
      "Character 2 tensor sizes:\n",
      "  encoded character size: torch.Size([1, 1, 4]) \n",
      "  hidden size: torch.Size([1, 1, 2]) \n",
      "  out size: torch.Size([1, 1, 2])\n",
      "Character 3 tensor sizes:\n",
      "  encoded character size: torch.Size([1, 1, 4]) \n",
      "  hidden size: torch.Size([1, 1, 2]) \n",
      "  out size: torch.Size([1, 1, 2])\n",
      "Character 4 tensor sizes:\n",
      "  encoded character size: torch.Size([1, 1, 4]) \n",
      "  hidden size: torch.Size([1, 1, 2]) \n",
      "  out size: torch.Size([1, 1, 2])\n"
     ]
    }
   ],
   "source": [
    "for i, one_hot_encoded_encoded in enumerate(input_characters):\n",
    "    encoded_character = one_hot_encoded_encoded.view(1, 1, -1)\n",
    "    # Input: (batch, seq_len, input_size) when batch_first=True\n",
    "    out, hidden = elman_rnn(encoded_character, hidden)\n",
    "    print(\"Character\", i, \"tensor sizes:\")\n",
    "    print(\"  encoded character size:\", encoded_character.size(), \n",
    "          \"\\n  hidden size:\", hidden.size() ,\n",
    "          \"\\n  out size:\", out.size())"
   ]
  },
  {
   "cell_type": "markdown",
   "metadata": {
    "colab_type": "text",
    "id": "VRdi9QltZl_W",
    "nbpresent": {
     "id": "2076a0c1-1829-4419-8fc0-9a7a9d8f19f4"
    },
    "slideshow": {
     "slide_type": "slide"
    }
   },
   "source": [
    "- We see that for every character, the input tensor has been reshaped as a 4 dimensional 1-hot-encoded vector with tensor size 1x1x4. \n",
    "\n",
    "\n",
    "- The RNN cell then takes produces *two* tensors, `out` and `hidden`. `hidden` is just the output of the RNN state for the next time step $h_{t+1}$. The out and hidden tensors have the same shape. \n",
    "\n",
    "\n",
    "- This is because `out` is just a copy of the `hidden`. We can verify this by going through the RNN cell again: "
   ]
  },
  {
   "cell_type": "code",
   "execution_count": 8,
   "metadata": {
    "colab": {
     "base_uri": "https://localhost:8080/",
     "height": 102
    },
    "colab_type": "code",
    "id": "X06k_L33ZQxH",
    "nbpresent": {
     "id": "9a03d9b8-1b5f-43e1-8060-ed0e143b6f4a"
    },
    "outputId": "96d35018-144e-41d0-b3a3-4541f70ea118",
    "slideshow": {
     "slide_type": "slide"
    }
   },
   "outputs": [
    {
     "name": "stdout",
     "output_type": "stream",
     "text": [
      "Character 0 hidden and out RNN are equal\n",
      "Character 1 hidden and out RNN are equal\n",
      "Character 2 hidden and out RNN are equal\n",
      "Character 3 hidden and out RNN are equal\n",
      "Character 4 hidden and out RNN are equal\n"
     ]
    }
   ],
   "source": [
    "for i, one_hot_encoded_encoded in enumerate(input_characters):\n",
    "    encoded_character = one_hot_encoded_encoded.view(1, 1, -1)\n",
    "    # Input: (batch, seq_len, input_size) when batch_first=True\n",
    "    out, hidden = elman_rnn(encoded_character, hidden)\n",
    "    if torch.all(torch.eq(out, hidden)).item() == 1:\n",
    "      print(\"Character\", i, \"hidden and out RNN are equal\")\n",
    "    else:\n",
    "      print(\"Character\", i, \"hidden and out RNN are not equal\")\n",
    "\n"
   ]
  },
  {
   "cell_type": "code",
   "execution_count": 9,
   "metadata": {
    "nbpresent": {
     "id": "e55ae78d-fcd1-4a1c-9b23-679d6c5e19e5"
    },
    "slideshow": {
     "slide_type": "slide"
    }
   },
   "outputs": [
    {
     "data": {
      "text/plain": [
       "array([[[1, 1]]], dtype=uint8)"
      ]
     },
     "execution_count": 9,
     "metadata": {},
     "output_type": "execute_result"
    }
   ],
   "source": [
    "torch.eq(out, hidden).numpy()"
   ]
  },
  {
   "cell_type": "markdown",
   "metadata": {
    "colab_type": "text",
    "id": "7ohXkVMnPFnF",
    "nbpresent": {
     "id": "b49b85dd-d159-430e-a5e7-f4bf0c1e86c1"
    },
    "slideshow": {
     "slide_type": "slide"
    }
   },
   "source": [
    "Indeed! We see that the `hidden` and `out` tensors that the RNN cell returns are not only equal in shape but also in value. \n",
    "\n"
   ]
  },
  {
   "cell_type": "markdown",
   "metadata": {
    "colab_type": "text",
    "id": "YFYxNT1KwcuW",
    "nbpresent": {
     "id": "04499caa-7afa-42ac-9eca-413b165da159"
    },
    "slideshow": {
     "slide_type": "slide"
    }
   },
   "source": [
    "### Inference with RNN: one sequence at a time\n",
    "\n",
    "Instead of going throug the sequence individually with the for loop, we can go through the sequence in one shot:"
   ]
  },
  {
   "cell_type": "code",
   "execution_count": 16,
   "metadata": {
    "colab": {
     "base_uri": "https://localhost:8080/",
     "height": 68
    },
    "colab_type": "code",
    "id": "xEEIrWMnPFnF",
    "nbpresent": {
     "id": "e1dc180a-9bb2-47c1-89a2-8f75b4d71cba"
    },
    "outputId": "af1b5ebd-d5e2-43b4-e0d6-62d817c32fa0",
    "slideshow": {
     "slide_type": "slide"
    }
   },
   "outputs": [
    {
     "name": "stdout",
     "output_type": "stream",
     "text": [
      "sequence of encoded character size torch.Size([1, 5, 4]) \n",
      "hidden size torch.Size([1, 1, 2]) \n",
      "out size torch.Size([1, 5, 2])\n"
     ]
    }
   ],
   "source": [
    "input_characters = input_characters.view(1, 5, -1)\n",
    "out, hidden = elman_rnn(input_characters, hidden)\n",
    "print(\"sequence of encoded character size\",input_characters.size(), \n",
    "      \"\\nhidden size\", hidden.size(), \n",
    "      \"\\nout size\", out.size())"
   ]
  },
  {
   "cell_type": "markdown",
   "metadata": {
    "colab_type": "text",
    "id": "h_oUoJKaPFnJ",
    "nbpresent": {
     "id": "1c455491-079c-4777-abf0-6d32d6b751ff"
    },
    "slideshow": {
     "slide_type": "slide"
    }
   },
   "source": [
    "We again stress the distinction between the `out` and `hidden` outputs of the RNN. The distinction is that the `out` is the hidden states for every time step whereas `hidden` is the hidden state for just the last time step. So the last time step for `out` should be identical to `hidden`. Let's check it out!"
   ]
  },
  {
   "cell_type": "code",
   "execution_count": 17,
   "metadata": {
    "colab": {
     "base_uri": "https://localhost:8080/",
     "height": 34
    },
    "colab_type": "code",
    "id": "9pPPfResPFnK",
    "nbpresent": {
     "id": "b4966fcb-563c-4483-9320-f536918865e7"
    },
    "outputId": "605acd04-8f7f-446f-d215-0c9698ea7a23",
    "slideshow": {
     "slide_type": "slide"
    }
   },
   "outputs": [
    {
     "data": {
      "text/plain": [
       "tensor([[ 0.9054,  0.4019]])"
      ]
     },
     "execution_count": 17,
     "metadata": {},
     "output_type": "execute_result"
    }
   ],
   "source": [
    "out[:,-1,:] # the last element in the *sequence* of outputs of the RNN"
   ]
  },
  {
   "cell_type": "code",
   "execution_count": 18,
   "metadata": {
    "colab": {
     "base_uri": "https://localhost:8080/",
     "height": 34
    },
    "colab_type": "code",
    "id": "afEtGcRUPFnO",
    "nbpresent": {
     "id": "6c282095-0983-47e3-bd3f-223966f26665"
    },
    "outputId": "ea2ddc68-2fdb-4896-95c7-e28a81938aac",
    "slideshow": {
     "slide_type": "subslide"
    }
   },
   "outputs": [
    {
     "data": {
      "text/plain": [
       "tensor([[[ 0.9054,  0.4019]]])"
      ]
     },
     "execution_count": 18,
     "metadata": {},
     "output_type": "execute_result"
    }
   ],
   "source": [
    "hidden"
   ]
  },
  {
   "cell_type": "markdown",
   "metadata": {
    "colab_type": "text",
    "id": "aFGY2gf7v_zP",
    "nbpresent": {
     "id": "07d82b7d-c9aa-4f01-9529-daac6cc17db9"
    },
    "slideshow": {
     "slide_type": "slide"
    }
   },
   "source": [
    "Yep, they both have the same values! We could have also checked their values are equal using the `torch.eq` method:"
   ]
  },
  {
   "cell_type": "code",
   "execution_count": 20,
   "metadata": {
    "colab": {
     "base_uri": "https://localhost:8080/",
     "height": 34
    },
    "colab_type": "code",
    "id": "yKVSor3QPFnT",
    "nbpresent": {
     "id": "61d65a9b-2c7f-44a5-8137-192bd8aaf6ea"
    },
    "outputId": "3fbe9e6a-d5e2-4c43-ccae-62d5b8f2067d",
    "slideshow": {
     "slide_type": "slide"
    }
   },
   "outputs": [
    {
     "data": {
      "text/plain": [
       "tensor([[[ 1,  1]]], dtype=torch.uint8)"
      ]
     },
     "execution_count": 20,
     "metadata": {},
     "output_type": "execute_result"
    }
   ],
   "source": [
    "torch.eq(out[:,-1,:], hidden)"
   ]
  },
  {
   "cell_type": "markdown",
   "metadata": {
    "colab_type": "text",
    "id": "2KH5U4KHPFnZ",
    "nbpresent": {
     "id": "532c74ed-8836-4b19-bc07-747d64ec5a82"
    },
    "slideshow": {
     "slide_type": "slide"
    }
   },
   "source": [
    "### Inference with RNN: iterating through multiple sequences\n",
    "\n",
    "Now lets try multiple sequencse so we have more than 1 batch. Here we will consider 3 sequences each with the same length: \"hello\", \"eolll\", and \"lleel\"."
   ]
  },
  {
   "cell_type": "code",
   "execution_count": 21,
   "metadata": {
    "colab": {
     "base_uri": "https://localhost:8080/",
     "height": 34
    },
    "colab_type": "code",
    "id": "b-Da-6LAPFnZ",
    "nbpresent": {
     "id": "15c2bd34-4a8b-4ef4-a194-85215de223ae"
    },
    "outputId": "2ee7a801-50c8-4428-bf26-805e25b5840e",
    "slideshow": {
     "slide_type": "slide"
    }
   },
   "outputs": [
    {
     "data": {
      "text/plain": [
       "torch.Size([3, 5, 4])"
      ]
     },
     "execution_count": 21,
     "metadata": {},
     "output_type": "execute_result"
    }
   ],
   "source": [
    "# One cell RNN input_dim (4) -> output_dim (2). sequence: 5, batch 3\n",
    "# 3 batches 'hello', 'eolll', 'lleel'\n",
    "# rank = (3, 5, 4)\n",
    "inputs = Variable(torch.Tensor([[h, e, l, l, o],\n",
    "                                [e, o, l, l, l],\n",
    "                                [l, l, e, e, l]]))\n",
    "\n",
    "inputs.size()"
   ]
  },
  {
   "cell_type": "markdown",
   "metadata": {
    "colab_type": "text",
    "id": "kqwoJFH4xaPl",
    "nbpresent": {
     "id": "61a981b9-b2fd-4faf-b9af-377336b8b379"
    },
    "slideshow": {
     "slide_type": "slide"
    }
   },
   "source": [
    "We see from `inputs.size()` that the `inputs` tensor has size 3x5x4. These three dimensions correspond to:\n",
    "- dim 1: the number of sequences, 3 in this case\n",
    "- dim 2: the length of each sequence (ie the number of elements/characters in each sequence).  We have 5 characters for each sequence\n",
    "- dim 3: the number of features used to represent each character. Because we are using a 1-hot encoding scheme to repreent each character and we only have 4 characters, the number of features is just 4.\n",
    "\n",
    "\n",
    "OK, now that we have our inputs tensor setup, we now need to initialize the hidden state as before. The big difference before is because we have **three** sequences instead of one like the previous examples, we need to create three hidden tensors. "
   ]
  },
  {
   "cell_type": "code",
   "execution_count": 22,
   "metadata": {
    "colab": {
     "base_uri": "https://localhost:8080/",
     "height": 34
    },
    "colab_type": "code",
    "id": "vHxx72RLPFne",
    "nbpresent": {
     "id": "228785b5-0376-4b3c-adc2-fd2e8578a0b9"
    },
    "outputId": "30a8d078-22f3-4a25-9ebe-f13b3ee4f162",
    "slideshow": {
     "slide_type": "slide"
    }
   },
   "outputs": [
    {
     "data": {
      "text/plain": [
       "torch.Size([1, 3, 2])"
      ]
     },
     "execution_count": 22,
     "metadata": {},
     "output_type": "execute_result"
    }
   ],
   "source": [
    "# hidden : (num_layers * num_directions, batch, hidden_size) whether batch_first=True or False\n",
    "hidden = Variable(torch.randn(1, 3, 2))\n",
    "hidden.size()"
   ]
  },
  {
   "cell_type": "markdown",
   "metadata": {
    "colab_type": "text",
    "id": "Hq8j1_1szasT",
    "nbpresent": {
     "id": "204e923f-16fd-4187-8655-f9537fb32cde"
    },
    "slideshow": {
     "slide_type": "slide"
    }
   },
   "source": [
    "In other words, we have created 3 different hidden states each have dimension 2. \n",
    "\n",
    "OK, now that we have our hidden states and inputs tensors setup, lets forward pass them to Elman RNN!!"
   ]
  },
  {
   "cell_type": "code",
   "execution_count": 23,
   "metadata": {
    "colab": {
     "base_uri": "https://localhost:8080/",
     "height": 68
    },
    "colab_type": "code",
    "id": "yTUtdYmuPFng",
    "nbpresent": {
     "id": "a09ae730-46de-41dd-b952-1d289192ccdd"
    },
    "outputId": "6904aa29-6882-4cf1-fd4f-de015dd282a1",
    "slideshow": {
     "slide_type": "slide"
    }
   },
   "outputs": [
    {
     "name": "stdout",
     "output_type": "stream",
     "text": [
      "batch input size torch.Size([3, 5, 4]) \n",
      "out size torch.Size([3, 5, 2]) \n",
      "hidden size torch.Size([1, 3, 2])\n"
     ]
    }
   ],
   "source": [
    "# Propagate input through RNN\n",
    "# Input: (batch, seq_len, input_size) when batch_first=True\n",
    "# B x S x I\n",
    "out, hidden = elman_rnn(inputs, hidden)\n",
    "print(\"batch input size\", inputs.size(), \"\\nout size\", out.size(), \"\\nhidden size\", hidden.size())\n"
   ]
  },
  {
   "cell_type": "markdown",
   "metadata": {
    "colab_type": "text",
    "id": "VFCnWAdAzvlf",
    "nbpresent": {
     "id": "12fddedf-d14b-41d7-89d6-baf9653ccecd"
    },
    "slideshow": {
     "slide_type": "slide"
    }
   },
   "source": [
    "Let's unpack the outputs of the Elman RNN a bit:\n",
    "- As discussed above, we have 3 sequences, each of length 5, and each element (ie, character) in the sequence has 4 features\n",
    "\n",
    "\n",
    "- Because we have 3 sequences, we expect the RNN to have 3 outputs. Indeed we see that the first dimension of the `out` tensor has 3 elements. \n",
    "\n",
    "\n",
    "- Similarly, because each sequence has 5 elements/characters, we expect the `out` tensor to have a corresponding hidden state for each of these characters. Indeed we seee that the second dimension of the `out` tensor has 5 elements.\n",
    "\n",
    "\n",
    "- **Finally!** Because we have designed our RNN to have hidden states that are two dimensional, we exepct two features for each element in each sequence. This is why we see that the third dimension of the `out` tensor is 2. \n",
    "\n"
   ]
  },
  {
   "cell_type": "markdown",
   "metadata": {
    "slideshow": {
     "slide_type": "slide"
    }
   },
   "source": [
    "- OK, what about the `hidden` tensor?\n",
    "\n",
    "\n",
    "- Remember that the `hidden` tensor that the RNN returns is just the *last* output of the hidden state from the last input character. Because we have 3 sequences, we expect to have 3 of these hidden states. And because we have 2 features in our hidden state, we execpt these 3 hidden states to have 2 dimensions. \n",
    "\n",
    "\n",
    "\n",
    "- And as before, we expect that the *last* element in the `out` tensor should be equal to the `hidden` tensor for every sequence. Below we show that this is indeed the case:"
   ]
  },
  {
   "cell_type": "code",
   "execution_count": 24,
   "metadata": {
    "colab": {
     "base_uri": "https://localhost:8080/",
     "height": 68
    },
    "colab_type": "code",
    "id": "AFgSJTtPPFnk",
    "nbpresent": {
     "id": "4cec4e20-2cb5-4edf-b536-405be09bcf36"
    },
    "outputId": "2a7dd45d-fb9e-4c9a-ffac-a676a71854d6",
    "slideshow": {
     "slide_type": "slide"
    }
   },
   "outputs": [
    {
     "data": {
      "text/plain": [
       "tensor([[ 0.9032,  0.3919],\n",
       "        [ 0.8803,  0.3029],\n",
       "        [ 0.9287,  0.4453]])"
      ]
     },
     "execution_count": 24,
     "metadata": {},
     "output_type": "execute_result"
    }
   ],
   "source": [
    "out[:,-1,:] # note that we are picking the last element of output hidden states for all sequences and all features"
   ]
  },
  {
   "cell_type": "code",
   "execution_count": 25,
   "metadata": {
    "colab": {
     "base_uri": "https://localhost:8080/",
     "height": 68
    },
    "colab_type": "code",
    "id": "5tUZ1U-MPFnp",
    "nbpresent": {
     "id": "ea6f7cc4-dd5e-4bc7-bffd-5802f08aa6da"
    },
    "outputId": "ea6f8dbc-bf25-44c8-d763-01eab911aeeb",
    "slideshow": {
     "slide_type": "slide"
    }
   },
   "outputs": [
    {
     "data": {
      "text/plain": [
       "tensor([[[ 0.9032,  0.3919],\n",
       "         [ 0.8803,  0.3029],\n",
       "         [ 0.9287,  0.4453]]])"
      ]
     },
     "execution_count": 25,
     "metadata": {},
     "output_type": "execute_result"
    }
   ],
   "source": [
    "hidden"
   ]
  },
  {
   "cell_type": "markdown",
   "metadata": {
    "colab_type": "text",
    "id": "2rvv4YDf1X7E",
    "nbpresent": {
     "id": "4e3e610a-5540-4ca9-b12c-a52c6ab65728"
    },
    "slideshow": {
     "slide_type": "slide"
    }
   },
   "source": [
    "As before, we can use the method `torch.eq` to check for equality between between these values:"
   ]
  },
  {
   "cell_type": "code",
   "execution_count": 26,
   "metadata": {
    "colab": {
     "base_uri": "https://localhost:8080/",
     "height": 68
    },
    "colab_type": "code",
    "id": "6tzNvt_UPFnv",
    "nbpresent": {
     "id": "2f8cb9b8-e9a2-4adc-be0d-825193cedf16"
    },
    "outputId": "ff119636-61ff-4d70-f0a3-155ca50dfe76",
    "slideshow": {
     "slide_type": "slide"
    }
   },
   "outputs": [
    {
     "data": {
      "text/plain": [
       "tensor([[[ 1,  1],\n",
       "         [ 1,  1],\n",
       "         [ 1,  1]]], dtype=torch.uint8)"
      ]
     },
     "execution_count": 26,
     "metadata": {},
     "output_type": "execute_result"
    }
   ],
   "source": [
    "torch.eq(out[:,-1,:], hidden)"
   ]
  },
  {
   "cell_type": "markdown",
   "metadata": {
    "colab_type": "text",
    "id": "-ccUr7zFPFn0",
    "nbpresent": {
     "id": "b709e746-af87-4d77-9685-fff737d4f9ab"
    },
    "slideshow": {
     "slide_type": "slide"
    }
   },
   "source": [
    "Everything checks out!\n",
    "\n",
    "we can also not have the first dim be the batch size:"
   ]
  },
  {
   "cell_type": "code",
   "execution_count": 27,
   "metadata": {
    "colab": {
     "base_uri": "https://localhost:8080/",
     "height": 34
    },
    "colab_type": "code",
    "id": "x_M9Fw5KPFn0",
    "nbpresent": {
     "id": "cbd1ee20-13da-46a0-8612-c66287499079"
    },
    "outputId": "e4166997-9724-420c-bca5-8c861b85397a",
    "slideshow": {
     "slide_type": "slide"
    }
   },
   "outputs": [
    {
     "name": "stdout",
     "output_type": "stream",
     "text": [
      "batch input size torch.Size([5, 3, 4]) out size torch.Size([5, 3, 2])\n"
     ]
    }
   ],
   "source": [
    "# One cell RNN input_dim (4) -> output_dim (2)\n",
    "elman_rnn = nn.RNN(input_size=4, hidden_size=2)\n",
    "\n",
    "# The given dimensions dim0 and dim1 are swapped.\n",
    "inputs = inputs.transpose(dim0=0, dim1=1)\n",
    "# Propagate input through RNN\n",
    "# Input: (seq_len, batch_size, input_size) when batch_first=False (default)\n",
    "# S x B x I\n",
    "out, hidden = elman_rnn(inputs, hidden)\n",
    "print(\"batch input size\", inputs.size(), \"out size\", out.size())"
   ]
  },
  {
   "cell_type": "markdown",
   "metadata": {
    "colab_type": "text",
    "id": "H-kfoinTPFn2",
    "nbpresent": {
     "id": "640c9b45-8d79-4b59-b5dd-8115e856feb7"
    },
    "slideshow": {
     "slide_type": "slide"
    }
   },
   "source": [
    "## Learning 1-batch sequence with RNN one element at a time\n",
    "\n",
    "Lets now apply RNN to *learn* a sequence. We will only consider one input sequence and one output sequence:\n",
    "\n",
    "- Input sequence: hihell\n",
    "- Output sequence: ihello\n",
    "\n",
    "We will design the 1-hot-encoding by first assigning an index to each character:\n",
    "- \"h\" -> 0\n",
    "- \"i\" -> 1\n",
    "- \"e\" -> 2\n",
    "- \"l\" -> 3\n",
    "- \"o\" -> 4\n",
    "\n",
    "So in other words we are living in a world that has only these 5 characters. "
   ]
  },
  {
   "cell_type": "code",
   "execution_count": 28,
   "metadata": {
    "colab": {},
    "colab_type": "code",
    "id": "AftvYZLLPFn4",
    "nbpresent": {
     "id": "9cfd8355-7d22-4bb0-beb2-4c202fc93ee5"
    },
    "slideshow": {
     "slide_type": "slide"
    }
   },
   "outputs": [],
   "source": [
    "torch.manual_seed(777)  # reproducibility\n",
    "#            0    1    2    3    4\n",
    "idx2char = ['h', 'i', 'e', 'l', 'o']"
   ]
  },
  {
   "cell_type": "markdown",
   "metadata": {
    "colab_type": "text",
    "id": "MYYcvo8UPFn7",
    "nbpresent": {
     "id": "f192656f-b2c0-4504-97ee-c22b6f2ded13"
    },
    "slideshow": {
     "slide_type": "slide"
    }
   },
   "source": [
    "We now define our sequence input sequence `x_data` \"hihell\"  and our output sequence `y_data` \"ihello\"\n",
    "\n",
    "We also convert our characters to one-hot-encoded vectors using a simple lookup table."
   ]
  },
  {
   "cell_type": "code",
   "execution_count": 29,
   "metadata": {
    "colab": {},
    "colab_type": "code",
    "id": "jvIAxxesPFn8",
    "nbpresent": {
     "id": "7f7db4b2-45e1-4af4-bc61-6e0c72da3b6f"
    },
    "slideshow": {
     "slide_type": "slide"
    }
   },
   "outputs": [],
   "source": [
    "# Teach hihell -> ihello\n",
    "x_data = [0, 1, 0, 2, 3, 3]   # hihell\n",
    "y_data = [1, 0, 2, 3, 3, 4]   # ihello\n",
    "\n",
    "one_hot_lookup = [[1, 0, 0, 0, 0],  # 0\n",
    "                  [0, 1, 0, 0, 0],  # 1\n",
    "                  [0, 0, 1, 0, 0],  # 2\n",
    "                  [0, 0, 0, 1, 0],  # 3\n",
    "                  [0, 0, 0, 0, 1]]  # 4\n",
    "\n",
    "\n",
    "x_one_hot = [one_hot_lookup[x] for x in x_data]\n",
    "\n",
    "# As we have one batch of samples, we will change them to variables only once\n",
    "inputs = Variable(torch.Tensor(x_one_hot))\n",
    "labels = Variable(torch.LongTensor(y_data))"
   ]
  },
  {
   "cell_type": "code",
   "execution_count": 30,
   "metadata": {
    "colab": {
     "base_uri": "https://localhost:8080/",
     "height": 34
    },
    "colab_type": "code",
    "id": "WPcunGxbPFn-",
    "nbpresent": {
     "id": "8d194b6f-ead1-42c9-b578-70f73b1f88e0"
    },
    "outputId": "30ddaa30-8352-4d98-e266-27b6fbf60405",
    "slideshow": {
     "slide_type": "slide"
    }
   },
   "outputs": [
    {
     "data": {
      "text/plain": [
       "(torch.Size([6, 5]), torch.Size([6]))"
      ]
     },
     "execution_count": 30,
     "metadata": {},
     "output_type": "execute_result"
    }
   ],
   "source": [
    "inputs.size(), labels.size()"
   ]
  },
  {
   "cell_type": "markdown",
   "metadata": {
    "colab_type": "text",
    "id": "eVZFnLMDMcky",
    "nbpresent": {
     "id": "64556b67-205b-4228-8720-2c25576d3aec"
    },
    "slideshow": {
     "slide_type": "slide"
    }
   },
   "source": [
    "The `inputs` tensor is size 6x5 because there are 6 characters and each character has 5 features. The outut `labels` tensor is just the character \"classes\" (ie, which character encodings) we want to predict.\n",
    "\n",
    "The RNN we are going to use for predicting the next character is going to use the hidden state to directly in its prediction. Normally this would be passed to another layer (like a fully connected layer or even another RNN) but in this example we are just going to  use it directly. The advantage of using the hidden state directly and not introducing additional layers is we limit the number of parameters we have to learn. The disadvantage of not using an additional layer is that we expect the hidden state to encode *both* the past histories that we have observed (it's primary function) *and* predict the next character. \n",
    "\n",
    "Regardless of the demands we are placing on the hidden state, because this is such an easy problem (there are only 5 characters and only 1 sequence the network has to memorize), we expect the hidden state to be able to do this.\n",
    "\n",
    "One issue to keep in mind though is because we are using the hidden state to directly predict the next character, this constrains us to have the size of the hidden state be the same as the number of classes in our outputs (5). Let's define the different parameters of the RNN below:"
   ]
  },
  {
   "cell_type": "code",
   "execution_count": 31,
   "metadata": {
    "colab": {},
    "colab_type": "code",
    "id": "p2Fh9retPFoB",
    "nbpresent": {
     "id": "bc3051c0-6a4f-410c-b95b-3c4fef118919"
    },
    "slideshow": {
     "slide_type": "slide"
    }
   },
   "outputs": [],
   "source": [
    "num_classes = 5      # the number of possible classes we have (the labels tensors is between 0 and 4)\n",
    "input_size = 5       # one-hot encoded vector dimensions\n",
    "hidden_size = 5      # we use 5 dimensional hidden state vectors to directly predict the character\n",
    "batch_size = 1       # we have one sentence and so one batch size\n",
    "sequence_length = 1  # we have only one sequence and we will process the characters one by one\n",
    "num_layers = 1       # we will have a simple one hidden layer RNN"
   ]
  },
  {
   "cell_type": "markdown",
   "metadata": {
    "colab_type": "text",
    "id": "Mnv74fZOOPmT",
    "nbpresent": {
     "id": "43e09284-82cc-479e-89b7-618ee5b6213a"
    },
    "slideshow": {
     "slide_type": "slide"
    }
   },
   "source": [
    "OK, now we define our RNN class with the specific architecture that we want (as we usually do with PyTorch neural network models for training)"
   ]
  },
  {
   "cell_type": "code",
   "execution_count": 32,
   "metadata": {
    "colab": {},
    "colab_type": "code",
    "id": "99rk_BLLPFoF",
    "nbpresent": {
     "id": "6905c272-4c4a-40dd-93ea-0a93c27b9b46"
    },
    "slideshow": {
     "slide_type": "slide"
    }
   },
   "outputs": [],
   "source": [
    "class Model(nn.Module):\n",
    "\n",
    "    def __init__(self, input_size, hidden_size):\n",
    "        super(Model, self).__init__()\n",
    "        self.input_size = input_size\n",
    "        self.hidden_size = hidden_size\n",
    "        self.rnn = nn.RNN(input_size=self.input_size,\n",
    "                          hidden_size=self.hidden_size, \n",
    "                          batch_first=True)\n",
    "\n",
    "    def forward(self, hidden, x):\n",
    "        # Reshape input to make sure the first dim is batch dimension\n",
    "        x = x.view(batch_size, sequence_length, input_size)\n",
    "\n",
    "        # Propagate input through RNN\n",
    "        #   Input:  (batch, seq_len, input_size)\n",
    "        #            since we only have 1 batch and are iterating a single \n",
    "        #            character at a time we execpt the input tensor to have \n",
    "        #            shape: 1 x 1 x 5\n",
    "        #   hidden: (num_layers * num_directions, batch, hidden_size)\n",
    "        #            we only have 1 hidden layer and the RNN is uniderectional\n",
    "        #            so the hidden tensor size should be 1 x 1 x 5              \n",
    "        out, hidden = self.rnn(x, hidden)\n",
    "        return hidden, out.view(-1, num_classes)\n",
    "\n",
    "    def init_hidden(self):\n",
    "        # Initialize hidden and cell states\n",
    "        # (num_layers * num_directions, batch, hidden_size)\n",
    "        #  we only have 1 hidden layer and the RNN is uniderectional\n",
    "        #  so the hidden tensor size should be 1 x 1 x 5   \n",
    "        return Variable(torch.zeros(num_layers, batch_size, hidden_size))"
   ]
  },
  {
   "cell_type": "markdown",
   "metadata": {
    "colab_type": "text",
    "id": "TOuTLcG-Osi-",
    "nbpresent": {
     "id": "cce15e4b-2fea-4535-ae92-b099e0041866"
    },
    "slideshow": {
     "slide_type": "slide"
    }
   },
   "source": [
    "Now we instantiate the model, define our loss criteron, and define the optimizer we want to use:"
   ]
  },
  {
   "cell_type": "code",
   "execution_count": 33,
   "metadata": {
    "colab": {},
    "colab_type": "code",
    "id": "7H870MYhPFoH",
    "nbpresent": {
     "id": "a840188c-f5d0-45a6-8bfc-fd0fff8a4439"
    },
    "slideshow": {
     "slide_type": "slide"
    }
   },
   "outputs": [],
   "source": [
    "# Instantiate RNN model\n",
    "model = Model()\n",
    "\n",
    "# Set loss and optimizer function\n",
    "# CrossEntropyLoss = LogSoftmax + NLLLoss\n",
    "criterion = nn.CrossEntropyLoss()\n",
    "optimizer = torch.optim.Adam(model.parameters(), lr=0.005)\n",
    "\n",
    "# reducelron platue"
   ]
  },
  {
   "cell_type": "markdown",
   "metadata": {
    "colab_type": "text",
    "id": "TeJymCWsPCte",
    "nbpresent": {
     "id": "905bebc2-c872-4a44-8258-5f77757cc959"
    },
    "slideshow": {
     "slide_type": "slide"
    }
   },
   "source": [
    "# Time to train the network!!!! \n",
    "\n",
    "We will loop through each epoch (100 of them), forward pass each individual character, then compute and accumulate the loss. Once the sequence is over, we compute the total loss and propagate the errors to update the network.  "
   ]
  },
  {
   "cell_type": "code",
   "execution_count": 34,
   "metadata": {
    "colab": {
     "base_uri": "https://localhost:8080/",
     "height": 136
    },
    "colab_type": "code",
    "id": "rA3E9fbBPFoJ",
    "nbpresent": {
     "id": "7a296331-7373-4ddf-9373-36b41c1b1d95"
    },
    "outputId": "6b2a41db-52bd-4138-dac6-5692caca93cc",
    "slideshow": {
     "slide_type": "slide"
    }
   },
   "outputs": [
    {
     "name": "stdout",
     "output_type": "stream",
     "text": [
      "predicted string: llllll, epoch: 1, loss: 10.155\n",
      "predicted string: ihelll, epoch: 21, loss: 4.419\n",
      "predicted string: ihello, epoch: 41, loss: 3.272\n",
      "predicted string: ihello, epoch: 61, loss: 2.930\n",
      "predicted string: ihello, epoch: 81, loss: 2.847\n",
      "predicted string: ihello, epoch: 100, loss: 2.811\n",
      "Learning finished!\n"
     ]
    }
   ],
   "source": [
    "for epoch in range(100):\n",
    "    optimizer.zero_grad()\n",
    "    loss = 0\n",
    "    hidden = model.init_hidden()\n",
    "    \n",
    "    # iterate through each character and predict what\n",
    "    # the next character should be.\n",
    "    # using the true target label, compute and accumulate\n",
    "    # the loss\n",
    "    pred_string = \"\"\n",
    "    for input, label in zip(inputs, labels):\n",
    "        hidden, output = model(hidden, input)\n",
    "        val, idx = output.max(1) # remember that we are using the hidden state\n",
    "                                 # directly to make our prediction (and have \n",
    "                                 # reshaped appropriately in our Model class \n",
    "                                 # definition). We could also just as well use \n",
    "                                 # hidden state that we are returning as long\n",
    "                                 # as we reshape it right: \n",
    "                                 # hidden.view(-1, num_classes).max(1) \n",
    "        \n",
    "        pred_string += idx2char[idx.data[0]]\n",
    "        # accumulate the loss\n",
    "        loss += criterion(output, label.view(1))\n",
    "    \n",
    "    # ok we completed the sequence, lets backward prop and\n",
    "    # update the network\n",
    "    loss.backward()\n",
    "    optimizer.step()\n",
    "    \n",
    "    # print every 20 epochs what the results look like\n",
    "    if (epoch%20 == 0) or (epoch == 99):\n",
    "      sys.stdout.write(\"predicted string: \")\n",
    "      sys.stdout.write(pred_string)\n",
    "      print(\", epoch: %d, loss: %1.3f\" % (epoch + 1, loss.item()))    \n",
    "    \n",
    "print(\"Learning finished!\")    "
   ]
  },
  {
   "cell_type": "markdown",
   "metadata": {
    "colab_type": "text",
    "id": "8gYILUvISsA6",
    "nbpresent": {
     "id": "71d430f4-d524-4819-840e-8bafa9f70430"
    },
    "slideshow": {
     "slide_type": "slide"
    }
   },
   "source": [
    "Looks like we learned (memorized, really) the target sequence!!!\n",
    "\n",
    "We can generalize this approach to multiple sequences: we would just have one more loop that would iterate through each sequence. All of our sequences could also have different lengths and it would not matter.\n",
    "\n",
    "But often we are faced with learning sequences that always have the same length. In those cases it would be tedious and slow to iterate through yet another for loop. This is where we can update our RNN model to process not just a single character at a time, but the entire sequence. "
   ]
  },
  {
   "cell_type": "markdown",
   "metadata": {
    "colab_type": "text",
    "id": "5cBl0Me3PFoO",
    "nbpresent": {
     "id": "c085e0b9-cb83-4a5b-b213-f65b92529fcb"
    },
    "slideshow": {
     "slide_type": "slide"
    }
   },
   "source": [
    "## Learning 1-batch sequence with RNN (entire sequence)\n",
    "\n",
    "Now we are going to learn the sequence not character-by-character but the entire sequence at one. Another way of thinking about this is that we are learning batches of sequences. But since we onlyu have 1 sequence, our batch size will be 1. "
   ]
  },
  {
   "cell_type": "code",
   "execution_count": 35,
   "metadata": {
    "colab": {},
    "colab_type": "code",
    "id": "go2igLFrPFoQ",
    "nbpresent": {
     "id": "a3622e51-3be0-4e66-8fd5-56fce16d5378"
    },
    "slideshow": {
     "slide_type": "slide"
    }
   },
   "outputs": [],
   "source": [
    "\n",
    "sequence_length = 6  # Since the number of character in our sequence |ihello| == 6"
   ]
  },
  {
   "cell_type": "markdown",
   "metadata": {
    "colab_type": "text",
    "id": "TDvzUv2NUC3Q",
    "nbpresent": {
     "id": "0392549e-cd54-4203-bb7d-d155c023dc81"
    },
    "slideshow": {
     "slide_type": "slide"
    }
   },
   "source": [
    "We will similarly define the parameters of our model as variables below:"
   ]
  },
  {
   "cell_type": "code",
   "execution_count": 36,
   "metadata": {
    "colab": {},
    "colab_type": "code",
    "id": "U-gDSCPVnZfn",
    "nbpresent": {
     "id": "aecc3ed4-a933-45ab-b001-b2508c3c523f"
    },
    "slideshow": {
     "slide_type": "slide"
    }
   },
   "outputs": [],
   "source": [
    "num_classes = 5      # the number of possible classes we have (the labels tensors is between 0 and 4)\n",
    "input_size = 5       # one-hot encoded vector dimensions\n",
    "hidden_size = 5      # we use 5 dimensional hidden state vectors to directly predict the character\n",
    "batch_size = 1       # we have one sentence and so one batch size\n",
    "sequence_length = 1  # we have only one sequence and we will process the characters one by one\n",
    "num_layers = 1       # we will have a simple one hidden layer RNN"
   ]
  },
  {
   "cell_type": "markdown",
   "metadata": {
    "colab_type": "text",
    "id": "d9AsRC5VUIP4",
    "nbpresent": {
     "id": "1ee54806-5e84-417d-9aa2-128a458c7578"
    },
    "slideshow": {
     "slide_type": "slide"
    }
   },
   "source": [
    "Now we define our RNN class with the specific architecture that we want (as we usually do with PyTorch neural network models for training). "
   ]
  },
  {
   "cell_type": "code",
   "execution_count": 37,
   "metadata": {
    "colab": {},
    "colab_type": "code",
    "id": "f-IIeOBIPFoV",
    "nbpresent": {
     "id": "1bee7228-bc18-4e10-8d2b-2d5e79a545da"
    },
    "slideshow": {
     "slide_type": "slide"
    }
   },
   "outputs": [],
   "source": [
    "class RNN(nn.Module):\n",
    "\n",
    "    def __init__(self, num_classes, input_size, hidden_size, num_layers):\n",
    "        super(RNN, self).__init__()\n",
    "\n",
    "        self.num_classes = num_classes\n",
    "        self.num_layers = num_layers\n",
    "        self.input_size = input_size\n",
    "        self.hidden_size = hidden_size\n",
    "        self.sequence_length = sequence_length\n",
    "\n",
    "        self.rnn = nn.RNN(input_size=5, hidden_size=5, batch_first=True)\n",
    "\n",
    "    def forward(self, x):\n",
    "        # Initialize hidden and cell states\n",
    "        # (num_layers * num_directions, batch, hidden_size) for batch_first=True\n",
    "        h_0 = Variable(torch.zeros(self.num_layers, x.size(0), self.hidden_size))\n",
    "\n",
    "\n",
    "        # Propagate input through RNN\n",
    "        # Input: (batch, seq_len, input_size)\n",
    "        # h_0: (num_layers * num_directions, batch, hidden_size)\n",
    "\n",
    "        out, _ = self.rnn(x, h_0)\n",
    "        #return out\n",
    "        return out.view(-1, num_classes)"
   ]
  },
  {
   "cell_type": "code",
   "execution_count": 38,
   "metadata": {
    "colab": {},
    "colab_type": "code",
    "id": "Tf7QfD4qp-EV",
    "nbpresent": {
     "id": "19c13bb5-d9ab-45db-aea9-d59aef7ed84b"
    },
    "slideshow": {
     "slide_type": "slide"
    }
   },
   "outputs": [],
   "source": [
    "# As we have one batch of samples, we will change them to variables only once\n",
    "inputs = Variable(torch.Tensor(x_one_hot))\n",
    "labels = Variable(torch.LongTensor(y_data))"
   ]
  },
  {
   "cell_type": "code",
   "execution_count": 39,
   "metadata": {
    "colab": {
     "base_uri": "https://localhost:8080/",
     "height": 34
    },
    "colab_type": "code",
    "id": "W6pdQ7kdp32K",
    "nbpresent": {
     "id": "a8b31d2c-8336-4652-9311-da3639d2ce3e"
    },
    "outputId": "e87be465-3da5-409f-ef34-2dd7c2eab86b",
    "slideshow": {
     "slide_type": "slide"
    }
   },
   "outputs": [
    {
     "data": {
      "text/plain": [
       "torch.Size([6, 5])"
      ]
     },
     "execution_count": 39,
     "metadata": {},
     "output_type": "execute_result"
    }
   ],
   "source": [
    "inputs.size()"
   ]
  },
  {
   "cell_type": "code",
   "execution_count": 40,
   "metadata": {
    "colab": {},
    "colab_type": "code",
    "id": "dls8lStsPFoY",
    "nbpresent": {
     "id": "5f40637c-5f3d-49e0-8cd8-412217a97958"
    },
    "slideshow": {
     "slide_type": "slide"
    }
   },
   "outputs": [],
   "source": [
    "# Instantiate RNN model\n",
    "rnn = RNN(num_classes, input_size, hidden_size, num_layers)\n",
    "\n",
    "# Set loss and optimizer function\n",
    "# CrossEntropyLoss = LogSoftmax + NLLLoss\n",
    "criterion = torch.nn.CrossEntropyLoss()\n",
    "optimizer = torch.optim.Adam(rnn.parameters(), lr=0.05)"
   ]
  },
  {
   "cell_type": "code",
   "execution_count": 41,
   "metadata": {
    "colab": {},
    "colab_type": "code",
    "id": "ia8GmMSQpfe8",
    "nbpresent": {
     "id": "d5e13557-a509-42e9-9662-ad036e1692ad"
    },
    "slideshow": {
     "slide_type": "slide"
    }
   },
   "outputs": [],
   "source": [
    "outputs = rnn(inputs.view(1,6,-1))"
   ]
  },
  {
   "cell_type": "code",
   "execution_count": 42,
   "metadata": {
    "colab": {
     "base_uri": "https://localhost:8080/",
     "height": 34
    },
    "colab_type": "code",
    "id": "iCu4AnarphM3",
    "nbpresent": {
     "id": "e88b0ecb-dd5d-4542-a2e5-1cac3a0d179a"
    },
    "outputId": "a2eaaf44-0312-4b67-8fe8-da3078a480e5",
    "slideshow": {
     "slide_type": "slide"
    }
   },
   "outputs": [
    {
     "data": {
      "text/plain": [
       "torch.Size([6, 5])"
      ]
     },
     "execution_count": 42,
     "metadata": {},
     "output_type": "execute_result"
    }
   ],
   "source": [
    "outputs.size()"
   ]
  },
  {
   "cell_type": "code",
   "execution_count": 43,
   "metadata": {
    "colab": {
     "base_uri": "https://localhost:8080/",
     "height": 34
    },
    "colab_type": "code",
    "id": "qcFLvMZlqFbp",
    "nbpresent": {
     "id": "176d251f-6ec4-490a-8322-a356601d4c63"
    },
    "outputId": "597983ac-811c-4ae8-ae39-3ccc58ddecea",
    "slideshow": {
     "slide_type": "slide"
    }
   },
   "outputs": [
    {
     "data": {
      "text/plain": [
       "torch.Size([6])"
      ]
     },
     "execution_count": 43,
     "metadata": {},
     "output_type": "execute_result"
    }
   ],
   "source": [
    "labels.size()"
   ]
  },
  {
   "cell_type": "code",
   "execution_count": 44,
   "metadata": {
    "colab": {
     "base_uri": "https://localhost:8080/",
     "height": 238
    },
    "colab_type": "code",
    "id": "G_Kab9RePFoZ",
    "nbpresent": {
     "id": "2345dd05-373c-48db-991c-290ff47a44f7"
    },
    "outputId": "f4e107d9-70af-4b27-dba4-1a8c75289df0",
    "slideshow": {
     "slide_type": "slide"
    }
   },
   "outputs": [
    {
     "name": "stdout",
     "output_type": "stream",
     "text": [
      "epoch: 1, loss: 1.544\n",
      "Predicted string:  lellll\n",
      "epoch: 21, loss: 0.655\n",
      "Predicted string:  ihelll\n",
      "epoch: 41, loss: 0.563\n",
      "Predicted string:  ihelll\n",
      "epoch: 61, loss: 0.538\n",
      "Predicted string:  ihello\n",
      "epoch: 81, loss: 0.489\n",
      "Predicted string:  ihello\n",
      "epoch: 100, loss: 0.472\n",
      "Predicted string:  ihello\n",
      "Learning finished!\n"
     ]
    }
   ],
   "source": [
    "# Train the model\n",
    "for epoch in range(100):\n",
    "    outputs = rnn(inputs.view(1,6,-1))\n",
    "    optimizer.zero_grad()\n",
    "    loss = criterion(outputs, labels)\n",
    "    loss.backward()\n",
    "    optimizer.step()\n",
    "    _, idx = outputs.max(1)\n",
    "    idx = idx.data.numpy()\n",
    "    result_str = [idx2char[c] for c in idx.squeeze()]\n",
    "    if (epoch%20 == 0) or (epoch == 99):\n",
    "      print(\"epoch: %d, loss: %1.3f\" % (epoch + 1, loss.item()))\n",
    "      print(\"Predicted string: \", ''.join(result_str))\n",
    "      \n",
    "\n",
    "print(\"Learning finished!\")"
   ]
  },
  {
   "cell_type": "markdown",
   "metadata": {
    "colab_type": "text",
    "id": "32JwvNzkPFoc",
    "nbpresent": {
     "id": "e8a53d45-8460-4206-a42a-d482b595f5ff"
    },
    "slideshow": {
     "slide_type": "slide"
    }
   },
   "source": [
    "## Practice! RNN with Embedding and Output layers\n",
    "\n"
   ]
  },
  {
   "cell_type": "code",
   "execution_count": 45,
   "metadata": {
    "colab": {},
    "colab_type": "code",
    "id": "-XiFI-LlPFoe",
    "nbpresent": {
     "id": "f1d4358a-56e5-4ee2-b17e-b33897e7d888"
    },
    "slideshow": {
     "slide_type": "slide"
    }
   },
   "outputs": [],
   "source": [
    "x_data = [[0, 1, 0, 2, 3, 3]] \n",
    "# As we have one batch of samples, we will change them to variables only once\n",
    "inputs = Variable(torch.LongTensor(x_data))\n",
    "labels = Variable(torch.LongTensor(y_data))"
   ]
  },
  {
   "cell_type": "code",
   "execution_count": 46,
   "metadata": {
    "colab": {},
    "colab_type": "code",
    "id": "-1KjuASk7o-o",
    "nbpresent": {
     "id": "b63a747d-5573-4971-9dc3-a39912a38b2c"
    },
    "slideshow": {
     "slide_type": "slide"
    }
   },
   "outputs": [],
   "source": [
    "embedding_size = 10  # embedding size"
   ]
  },
  {
   "cell_type": "code",
   "execution_count": 47,
   "metadata": {
    "colab": {},
    "colab_type": "code",
    "id": "mZSTBc9_PFoi",
    "nbpresent": {
     "id": "3c379071-2807-436c-8164-0e6676a05819"
    },
    "slideshow": {
     "slide_type": "slide"
    }
   },
   "outputs": [],
   "source": [
    "class Model(nn.Module):\n",
    "\n",
    "    def __init__(self, hidden_size):    \n",
    "        super(Model, self).__init__()\n",
    "        self.hidden_size = hidden_size\n",
    "        self.embedding = nn.Embedding(input_size, embedding_size)\n",
    "        self.rnn = nn.RNN(input_size=embedding_size,\n",
    "                          hidden_size=self.hidden_size, batch_first=True)\n",
    "        self.fc = nn.Linear(hidden_size, num_classes)\n",
    "\n",
    "    def forward(self, x):\n",
    "        # Initialize hidden and cell states\n",
    "        # (num_layers * num_directions, batch, hidden_size)\n",
    "        #h_0 = Variable(torch.zeros(1, embedding_size, self.hidden_size))\n",
    "        h_0 = Variable(torch.zeros(1, 1, self.hidden_size))\n",
    "\n",
    "        emb = self.embedding(x)\n",
    "        emb = emb.view(batch_size, embedding_size, -1)\n",
    "        # Propagate embedding through RNN\n",
    "        # Input: (batch, seq_len, embedding_size)\n",
    "        # h_0: (num_layers * num_directions, batch, hidden_size)\n",
    "        out, _ = self.rnn(emb.view(1,6,-1), h_0)\n",
    "        return self.fc(out)\n"
   ]
  },
  {
   "cell_type": "code",
   "execution_count": 48,
   "metadata": {
    "colab": {
     "base_uri": "https://localhost:8080/",
     "height": 102
    },
    "colab_type": "code",
    "id": "bTcqAwMSPFok",
    "nbpresent": {
     "id": "9645650c-f514-4975-bb4e-bfad4b43a9bc"
    },
    "outputId": "7663599f-9817-4a3e-b40e-9de8da5efdc0",
    "slideshow": {
     "slide_type": "slide"
    }
   },
   "outputs": [
    {
     "name": "stdout",
     "output_type": "stream",
     "text": [
      "Model(\n",
      "  (embedding): Embedding(5, 10)\n",
      "  (rnn): RNN(10, 5, batch_first=True)\n",
      "  (fc): Linear(in_features=5, out_features=5, bias=True)\n",
      ")\n"
     ]
    }
   ],
   "source": [
    "# Instantiate RNN model\n",
    "model = Model(hidden_size)\n",
    "print(model)\n",
    "\n",
    "# Set loss and optimizer function\n",
    "# CrossEntropyLoss = LogSoftmax + NLLLoss\n",
    "criterion = torch.nn.CrossEntropyLoss()\n",
    "optimizer = torch.optim.Adam(model.parameters(), lr=0.1)\n"
   ]
  },
  {
   "cell_type": "code",
   "execution_count": 49,
   "metadata": {
    "colab": {
     "base_uri": "https://localhost:8080/",
     "height": 292
    },
    "colab_type": "code",
    "id": "EEc-GWKfPFoo",
    "nbpresent": {
     "id": "8c640e8e-cd3c-4c03-8214-21a3845d8abe"
    },
    "outputId": "925db20e-bab9-49bb-fd21-e49f4f0341b2",
    "slideshow": {
     "slide_type": "slide"
    }
   },
   "outputs": [
    {
     "name": "stdout",
     "output_type": "stream",
     "text": [
      "epoch: 1, loss: 1.544\n",
      "Predicted string:  loeooo\n"
     ]
    },
    {
     "name": "stderr",
     "output_type": "stream",
     "text": [
      "/anaconda/envs/py35/lib/python3.5/site-packages/ipykernel_launcher.py:12: UserWarning: invalid index of a 0-dim tensor. This will be an error in PyTorch 0.5. Use tensor.item() to convert a 0-dim tensor to a Python number\n",
      "  if sys.path[0] == '':\n"
     ]
    },
    {
     "name": "stdout",
     "output_type": "stream",
     "text": [
      "epoch: 21, loss: 0.013\n",
      "Predicted string:  ihello\n",
      "epoch: 41, loss: 0.002\n",
      "Predicted string:  ihello\n",
      "epoch: 61, loss: 0.001\n",
      "Predicted string:  ihello\n",
      "epoch: 81, loss: 0.001\n",
      "Predicted string:  ihello\n",
      "epoch: 100, loss: 0.001\n",
      "Predicted string:  ihello\n",
      "Learning finished!\n"
     ]
    }
   ],
   "source": [
    "# Train the model\n",
    "for epoch in range(100):\n",
    "    outputs = model(inputs.view(1,-1)).view(-1,num_classes)\n",
    "    optimizer.zero_grad()\n",
    "    loss = criterion(outputs, labels)\n",
    "    loss.backward()\n",
    "    optimizer.step()\n",
    "    _, idx = outputs.max(1)\n",
    "    idx = idx.data.numpy()\n",
    "    result_str = [idx2char[c] for c in idx.squeeze()]\n",
    "    if (epoch%20 == 0) or (epoch == 99):\n",
    "      print(\"epoch: %d, loss: %1.3f\" % (epoch + 1, loss.data[0]))\n",
    "      print(\"Predicted string: \", ''.join(result_str))\n",
    "\n",
    "print(\"Learning finished!\")"
   ]
  },
  {
   "cell_type": "code",
   "execution_count": null,
   "metadata": {
    "colab": {},
    "colab_type": "code",
    "id": "2LeCZ8Cwqzb8",
    "nbpresent": {
     "id": "a98d5f0a-fd4d-4fdb-8888-61d0bae5030b"
    }
   },
   "outputs": [],
   "source": []
  },
  {
   "cell_type": "code",
   "execution_count": null,
   "metadata": {
    "nbpresent": {
     "id": "3fdc1006-c9b2-4f9a-9e2f-9d57fbef3445"
    }
   },
   "outputs": [],
   "source": []
  }
 ],
 "metadata": {
  "celltoolbar": "Slideshow",
  "colab": {
   "name": "PyTorch-RNN-next-char-pred.ipynb",
   "provenance": [],
   "version": "0.3.2"
  },
  "kernelspec": {
   "display_name": "Python 3",
   "language": "python",
   "name": "python3"
  },
  "language_info": {
   "codemirror_mode": {
    "name": "ipython",
    "version": 3
   },
   "file_extension": ".py",
   "mimetype": "text/x-python",
   "name": "python",
   "nbconvert_exporter": "python",
   "pygments_lexer": "ipython3",
   "version": "3.5.5"
  }
 },
 "nbformat": 4,
 "nbformat_minor": 1
}
