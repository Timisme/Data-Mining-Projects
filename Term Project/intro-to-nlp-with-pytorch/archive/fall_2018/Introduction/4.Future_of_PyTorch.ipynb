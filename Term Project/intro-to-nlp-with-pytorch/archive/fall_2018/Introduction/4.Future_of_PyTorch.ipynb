{
 "cells": [
  {
   "cell_type": "markdown",
   "metadata": {
    "slideshow": {
     "slide_type": "slide"
    }
   },
   "source": [
    "<img src=\"https://raw.githubusercontent.com/yunjey/pytorch-tutorial/master/logo/pytorch_logo.png\" width=\"25%\" align=\"left\"> <br><br><br>\n",
    "# What's coming in PyTorch 1.0 Release\n",
    "\n",
    "## BIG Announcement!  Today (9/22) PyTorch 1.0 was Released in Preview - Go Check it Out!"
   ]
  },
  {
   "cell_type": "markdown",
   "metadata": {
    "slideshow": {
     "slide_type": "slide"
    }
   },
   "source": [
    "## Production-ready\n",
    "\n",
    "* Exporting to C++-only runtimes for use in larger projects\n",
    "* Optimizing mobile systems on iPhone, Android, Qualcomm and other systems\n",
    "* Using more efficient data layouts and performing **kernel fusion** to do faster inference (saving 10% of speed or memory at scale is a big win)\n",
    "* Quantized inference (such as 8-bit inference)\n",
    "\n",
    "**In 1.0, your code continues to work as-is, we’re not making any big changes to the existing API.**"
   ]
  },
  {
   "cell_type": "markdown",
   "metadata": {
    "slideshow": {
     "slide_type": "slide"
    }
   },
   "source": [
    "## Software integrations\n",
    "\n",
    "1.  Unification of the PyTorch 0.4 and Caffe2 codebases\n",
    "2.  ONNX natively integrated into PyTorch 1.0 as the model export format \n"
   ]
  },
  {
   "cell_type": "markdown",
   "metadata": {
    "slideshow": {
     "slide_type": "slide"
    }
   },
   "source": [
    "## Platform integrations\n",
    "\n",
    "1.  Microsoft plans to support PyTorch 1.0 in their Azure cloud and developer offerings, including Azure Machine Learning services and Data Science Virtual Machines\n",
    "2. Amazon Web Services also plans support"
   ]
  },
  {
   "cell_type": "markdown",
   "metadata": {
    "slideshow": {
     "slide_type": "slide"
    }
   },
   "source": [
    "## References\n",
    "\n",
    "1.  [Announcing PyTorch 1.0 for both research and production](https://developers.facebook.com/blog/post/2018/05/02/announcing-pytorch-1.0-for-research-production/)\n",
    "2.  [The road to 1.0: production ready PyTorch](https://pytorch.org/2018/05/02/road-to-1.0.html)\n",
    "3.  [logo](https://github.com/yunjey/pytorch-tutorial/blob/master/logo/pytorch_logo.png)"
   ]
  },
  {
   "cell_type": "code",
   "execution_count": null,
   "metadata": {},
   "outputs": [],
   "source": []
  }
 ],
 "metadata": {
  "celltoolbar": "Slideshow",
  "kernelspec": {
   "display_name": "Python 3",
   "language": "python",
   "name": "python3"
  },
  "language_info": {
   "codemirror_mode": {
    "name": "ipython",
    "version": 3
   },
   "file_extension": ".py",
   "mimetype": "text/x-python",
   "name": "python",
   "nbconvert_exporter": "python",
   "pygments_lexer": "ipython3",
   "version": "3.5.5"
  }
 },
 "nbformat": 4,
 "nbformat_minor": 2
}
