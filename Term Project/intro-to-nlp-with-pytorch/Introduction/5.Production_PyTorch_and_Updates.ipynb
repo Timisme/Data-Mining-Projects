{
 "cells": [
  {
   "cell_type": "markdown",
   "metadata": {
    "slideshow": {
     "slide_type": "slide"
    }
   },
   "source": [
    "<img src=\"https://raw.githubusercontent.com/yunjey/pytorch-tutorial/master/logo/pytorch_logo.png\" width=\"25%\" align=\"left\"> <br><br><br>\n",
    "# Production PyTorch and Updates\n"
   ]
  },
  {
   "cell_type": "markdown",
   "metadata": {
    "slideshow": {
     "slide_type": "slide"
    }
   },
   "source": [
    "\n",
    "\n",
    "## Key Features with 1.x\n",
    "\n",
    "* TensorBoard (currently experimental) - First-class and native support for visualization and model debugging with TensorBoard, a web application suite for inspecting and understanding training runs, tensors, and graphs. <a href=\"https://pytorch.org/docs/stable/tensorboard.html\" target=\"_blank\">Doc</a>\n",
    "* JIT - a set of compiler tools for bridging the gap between research in PyTorch and production C++ Apps without a dependency on the Python interpreter and capable of aggressive optimizations. <a href=\"https://pytorch.org/tutorials/beginner/deploy_seq2seq_hybrid_frontend_tutorial.html\" target=\"_blank\">Doc</a> <a href=\"https://pytorch.org/tutorials/advanced/cpp_export.html\" target=\"_blank\">Doc</a>\n",
    "* C++ Frontend (currently experimental) - a pure C++ interface to the PyTorch backend that follows the API and architecture of the established Python frontend.  <a href=\"https://pytorch.org/cppdocs\" target=\"_blank\">Doc</a>\n",
    "* DistributedDataParallel - This container parallelizes the application of the given module by splitting the input across the specified devices by chunking in the batch dimension. <a href=\"https://pytorch.org/tutorials/intermediate/ddp_tutorial.html\" target=\"_blank\">Doc</a>\n",
    "\n"
   ]
  },
  {
   "cell_type": "markdown",
   "metadata": {
    "slideshow": {
     "slide_type": "slide"
    }
   },
   "source": [
    "## Software integrations\n",
    "\n",
    "1.  Unification of the PyTorch 0.4 and Caffe2 codebases makes up PyTorch 1.x\n",
    "2.  ONNX natively integrated into PyTorch 1.0 as a model export format \n"
   ]
  },
  {
   "cell_type": "markdown",
   "metadata": {
    "slideshow": {
     "slide_type": "slide"
    }
   },
   "source": [
    "## Platform integrations\n",
    "\n",
    "1.  Microsoft supports PyTorch in their Azure cloud and developer offerings, including Azure Machine Learning Service and the Data Science Virtual Machine\n",
    "2. Amazon Web Services plans support"
   ]
  },
  {
   "cell_type": "markdown",
   "metadata": {
    "slideshow": {
     "slide_type": "slide"
    }
   },
   "source": [
    "## References\n",
    "\n",
    "1.  [Announcing PyTorch 1.0 for both research and production](https://developers.facebook.com/blog/post/2018/05/02/announcing-pytorch-1.0-for-research-production/)\n",
    "2.  [The road to 1.0: production ready PyTorch](https://pytorch.org/2018/05/02/road-to-1.0.html)\n",
    "3.  [logo](https://github.com/yunjey/pytorch-tutorial/blob/master/logo/pytorch_logo.png)"
   ]
  },
  {
   "cell_type": "code",
   "execution_count": null,
   "metadata": {},
   "outputs": [],
   "source": []
  }
 ],
 "metadata": {
  "celltoolbar": "Slideshow",
  "kernelspec": {
   "display_name": "Python 3.6 (sys)",
   "language": "python",
   "name": "py36sys"
  },
  "language_info": {
   "codemirror_mode": {
    "name": "ipython",
    "version": 3
   },
   "file_extension": ".py",
   "mimetype": "text/x-python",
   "name": "python",
   "nbconvert_exporter": "python",
   "pygments_lexer": "ipython3",
   "version": "3.6.6"
  },
  "nav_menu": {},
  "toc": {
   "navigate_menu": true,
   "number_sections": true,
   "sideBar": true,
   "threshold": 6,
   "toc_cell": false,
   "toc_section_display": "block",
   "toc_window_display": false
  }
 },
 "nbformat": 4,
 "nbformat_minor": 2
}
