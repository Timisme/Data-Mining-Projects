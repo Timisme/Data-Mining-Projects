{
 "cells": [
  {
   "cell_type": "markdown",
   "metadata": {
    "slideshow": {
     "slide_type": "slide"
    }
   },
   "source": [
    "# Setup for Workshop\n",
    "\n",
    "* We are using an Azure Data Science Virtual Machine for the workshop.\n",
    "* You should have gotten credentials for a machine\n",
    "* Be sure you are using `https`.  \n",
    "* You may get a \"Your Connection is Not Private\" or other form of safety certificate error\n",
    "* This is a known issue and we are working on it.  Please click through this to get to the Jupyterhub login page."
   ]
  },
  {
   "cell_type": "markdown",
   "metadata": {
    "slideshow": {
     "slide_type": "skip"
    }
   },
   "source": [
    "For this workshop, the Azure Data Science Virtual Machine will be used.  This is a VM one can fire up on Azure to perform data science tasks and is pre-installed with dozens of frameworks and packages for use.  It's a nice way to get started quickly without much overhead/setup which is one of the reasons we chose this for the workshop.  [Find out more here](https://docs.microsoft.com/en-us/azure/machine-learning/data-science-virtual-machine/overview).\n",
    "\n",
    "You will get credentials for a machine and log in at the URL provided.  This will be the jupyter notebook environment/playground provided to you for the day.  At the **end of the day you should zip up your notebooks and download** them as these VMs will disappear shortly thereafter into the sunset.  \n",
    "\n",
    "Be sure you are using `https`.  You may get a \"Your Connection is Not Private\" or other form of safety certificate error.  This is a known issue and we are working on it.  Please click through this by hitting the link on the page to continue."
   ]
  },
  {
   "cell_type": "markdown",
   "metadata": {
    "slideshow": {
     "slide_type": "slide"
    }
   },
   "source": [
    "**Use a sticky note on your laptop to tell us if you are having an issue.**"
   ]
  },
  {
   "cell_type": "markdown",
   "metadata": {
    "slideshow": {
     "slide_type": "slide"
    }
   },
   "source": [
    "## Your First Task\n",
    "\n",
    "1.  Log in with the credentials provided\n",
    "2.  Open up a new, blank notebook (\"Python 3.6 - PyTorch 1.1\" kernel)\n",
    "3.  In a blank cell run (don't forget exclamation point):  `! cd Workshop/intro-to-nlp-with-pytorch && git pull origin master`\n",
    "4.  Navigate to `Workshop/intro-to-nlp-with-pytorch`folder.\n",
    "5.  Open this notebook (2.Setup) from the `Introduction` folder and if asked, choose the \"Python 3.6 - PyTorch 1.1\" kernel.\n",
    "6.  Run the following code cells."
   ]
  },
  {
   "cell_type": "code",
   "execution_count": 1,
   "metadata": {
    "slideshow": {
     "slide_type": "slide"
    }
   },
   "outputs": [
    {
     "data": {
      "text/plain": [
       "{'/anaconda/envs/pytorch1/bin/python'}"
      ]
     },
     "execution_count": 1,
     "metadata": {},
     "output_type": "execute_result"
    }
   ],
   "source": [
    "# Which Python\n",
    "import sys\n",
    "{sys.executable}"
   ]
  },
  {
   "cell_type": "code",
   "execution_count": 2,
   "metadata": {
    "slideshow": {
     "slide_type": "slide"
    }
   },
   "outputs": [
    {
     "data": {
      "text/plain": [
       "'1.1.0'"
      ]
     },
     "execution_count": 2,
     "metadata": {},
     "output_type": "execute_result"
    }
   ],
   "source": [
    "# Which PyTorch (this should be 1.1.0)\n",
    "import torch\n",
    "torch.__version__"
   ]
  },
  {
   "cell_type": "code",
   "execution_count": 3,
   "metadata": {
    "slideshow": {
     "slide_type": "slide"
    }
   },
   "outputs": [
    {
     "data": {
      "text/plain": [
       "device(type='cuda', index=0)"
      ]
     },
     "execution_count": 3,
     "metadata": {},
     "output_type": "execute_result"
    }
   ],
   "source": [
    "# GPU-accelerated with CUDA libs\n",
    "torch.device(\"cuda:0\" if torch.cuda.is_available() else \"cpu\")"
   ]
  },
  {
   "cell_type": "markdown",
   "metadata": {
    "slideshow": {
     "slide_type": "slide"
    }
   },
   "source": [
    "## Save Your Work at End of the Workshop!\n",
    "\n",
    "If using the Workshop-provided Data Science Virtual Machine, do the following to save your work:\n",
    "\n",
    "1.  Run the following `zip` command in this notebook.  \n",
    "2.  Go to the Jupyter file browser or click on \"Jupyter\" symbol at upper left corner to get there again\n",
    "3.  Place a check in the box by the `nlp_workshop.zip` file and click \"Download\""
   ]
  },
  {
   "cell_type": "code",
   "execution_count": 4,
   "metadata": {
    "slideshow": {
     "slide_type": "subslide"
    }
   },
   "outputs": [],
   "source": [
    "# ! zip -r nlp_workshop.zip ../../intro-to-nlp-with-pytorch"
   ]
  }
 ],
 "metadata": {
  "celltoolbar": "Slideshow",
  "kernelspec": {
   "display_name": "Python 3.6 - PyTorch 1.1",
   "language": "python",
   "name": "pytorch_preview"
  },
  "language_info": {
   "codemirror_mode": {
    "name": "ipython",
    "version": 3
   },
   "file_extension": ".py",
   "mimetype": "text/x-python",
   "name": "python",
   "nbconvert_exporter": "python",
   "pygments_lexer": "ipython3",
   "version": "3.6.8"
  },
  "nav_menu": {},
  "toc": {
   "navigate_menu": true,
   "number_sections": true,
   "sideBar": true,
   "threshold": 6,
   "toc_cell": false,
   "toc_section_display": "block",
   "toc_window_display": false
  }
 },
 "nbformat": 4,
 "nbformat_minor": 2
}
