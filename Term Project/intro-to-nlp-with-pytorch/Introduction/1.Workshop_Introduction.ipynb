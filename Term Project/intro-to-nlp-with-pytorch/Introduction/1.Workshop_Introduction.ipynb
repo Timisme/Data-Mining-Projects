{
 "cells": [
  {
   "cell_type": "markdown",
   "metadata": {
    "slideshow": {
     "slide_type": "slide"
    }
   },
   "source": [
    "\n",
    "<img src=\"https://raw.githubusercontent.com/PythonWorkshop/intro-to-nlp-with-pytorch/master/images/logo.png\" align=\"left\" width=\"15%\">\n",
    "\n",
    "# Introduction to Natural Language Processing with PyTorch Workshop\n",
    "\n",
    "Thank you to our supporters:\n",
    "\n",
    "* Seattle PyLadies Group\n",
    "* Women in Machine Learning and Data Science Group\n",
    "* Seattle Artificial Intelligence & Deep Learning Group\n",
    "* Silicon Valley Python Workshops Group\n",
    "\n",
    "<img src=\"https://secure.meetupstatic.com/photos/event/e/a/0/5/highres_448679909.jpeg\" width=\"20%\" align=\"right\">\n",
    "<img src=\"https://secure.meetupstatic.com/photos/event/3/7/2/f/highres_480314127.jpeg\" width=\"15%\" align=\"right\">\n",
    "<img src=\"https://secure.meetupstatic.com/photos/event/e/4/f/2/highres_469678610.jpeg\" width=\"10%\" align=\"right\">\n",
    "<img src=\"https://secure.meetupstatic.com/photos/event/5/e/6/2/600_170064162.jpeg\" width=\"10%\" align=\"right\">"
   ]
  },
  {
   "cell_type": "markdown",
   "metadata": {
    "slideshow": {
     "slide_type": "slide"
    }
   },
   "source": [
    "## Who we are\n",
    "\n",
    "Speakers:\n",
    "* Priya Ananthasankar (Microsoft)\n",
    "* David Clark (Data Science Consultant)\n",
    "* Kendall Chuang (Carta)\n",
    "* Micheleen Harris (Microsoft)\n",
    "\n",
    "Volunteers:\n",
    "* Rob Callaway (QuickLearn)\n",
    "* Seth Mottaghinejad (Microsoft)"
   ]
  },
  {
   "cell_type": "markdown",
   "metadata": {
    "slideshow": {
     "slide_type": "subslide"
    }
   },
   "source": [
    "<br>\n",
    "<img src=\"https://avatars1.githubusercontent.com/u/10415876?s=460&v=4\" width=\"10%\" align=\"left\">\n",
    "<img src=\"https://media.licdn.com/dms/image/C5603AQGI3CoqK9Uv7Q/profile-displayphoto-shrink_800_800/0?e=1566432000&v=beta&t=xblgyvWaoE8m0Y9rmmvi_NHe5DnLS4falHHdn6LMPjQ\" width=\"10%\" align=\"left\">\n",
    "<img src=\"https://media.licdn.com/dms/image/C5603AQERz2htTAuRsA/profile-displayphoto-shrink_200_200/0?e=1566432000&v=beta&t=HZl9Ch89HqFIMaEKpWAHs5MnwCe_a6-D8mHETxsAbAQ\" width=\"10%\" align=\"left\">\n",
    "<img src=\"https://media.licdn.com/dms/image/C5603AQEnxU_ugXgzAw/profile-displayphoto-shrink_200_200/0?e=1566432000&v=beta&t=Rci1Pbzxu8iw4srhjFt6PvpE505mlufejyvLuRG0gxg\" width=\"10%\" align=\"left\">\n",
    "<img src=\"https://media.licdn.com/dms/image/C5603AQH04DWNLEWk5g/profile-displayphoto-shrink_800_800/0?e=1567036800&v=beta&t=qkqtB6aiMGaCPHYtW96o6_RgAjbt2az1_gzZuSr4mf0\" width=\"10%\" align=\"left\">\n",
    "<img src=\"https://prod-discovery.edx-cdn.org/media/people/profile_images/8712a946-8e19-4bf0-9182-fe27b373d893-2ccc1a2310a0.jpg\" width=\"10%\" align=\"left\">"
   ]
  },
  {
   "cell_type": "markdown",
   "metadata": {
    "slideshow": {
     "slide_type": "slide"
    }
   },
   "source": [
    "## Questions for you\n",
    "\n",
    "* Machine Learning experience?\n",
    "* Deep Learning experience?\n",
    "* PyTorch experience?\n",
    "* NLP experience?"
   ]
  },
  {
   "cell_type": "markdown",
   "metadata": {
    "slideshow": {
     "slide_type": "slide"
    }
   },
   "source": [
    "\n",
    "## Sequential data and NLP\n",
    "\n",
    "It's important to realize that **natural language** algorithms are useful for all types of sequence data.\n",
    "\n",
    "**Examples**\n",
    "* Corpus such as a user product issue\n",
    "* Financial timeseries data"
   ]
  },
  {
   "cell_type": "markdown",
   "metadata": {
    "slideshow": {
     "slide_type": "slide"
    }
   },
   "source": [
    "## More examples\n",
    "\n",
    "<img src=\"../images/why_sequences.png\" alt=\"why sequences\" width=\"75%\" align=\"center\">"
   ]
  },
  {
   "cell_type": "markdown",
   "metadata": {
    "slideshow": {
     "slide_type": "slide"
    }
   },
   "source": [
    "## Approaching with the generic NLP algorithm - a Recurrent Neural Network (RNN)\n",
    "\n",
    "\n",
    "<img src=\"https://raw.githubusercontent.com/PythonWorkshop/intro-to-nlp-with-pytorch/master/images/rnn_inner_workings.png\" alt=\"inside rnn\" width=\"50%\" align=\"left\">\n"
   ]
  },
  {
   "cell_type": "markdown",
   "metadata": {
    "slideshow": {
     "slide_type": "subslide"
    }
   },
   "source": [
    "### Notation for RNN above\n",
    "* x = input embedding for a word (vector)\n",
    "* h = hidden (or activation) state (vector)\n",
    "* tanh = hyperbolic tangent activation function/layer\n",
    "* y = output tag (not shown because we can have different schemes)\n",
    "\n",
    "**A Long Short-Term Memory (LSTM) network is a subclass of RNNs**"
   ]
  },
  {
   "cell_type": "markdown",
   "metadata": {
    "slideshow": {
     "slide_type": "slide"
    }
   },
   "source": [
    "## What types are RNNs are there?\n",
    "\n",
    "* Many-to-many - e.g. find names with named entity recognition (NER)\n",
    "* Many-to-one - e.g. sentiment analysis\n",
    "* One-to-many - e.g. music generation\n",
    "* Another many-to-many - e.g. machine translation\n",
    "* One-to-one"
   ]
  },
  {
   "cell_type": "markdown",
   "metadata": {
    "slideshow": {
     "slide_type": "slide"
    }
   },
   "source": [
    "<img src=\"../images/diff_types_rnns.png\" alt=\"why sequences\" width=\"75%\" align=\"center\">\n",
    "**Question**:  can you think of examples of each?"
   ]
  },
  {
   "cell_type": "markdown",
   "metadata": {
    "slideshow": {
     "slide_type": "slide"
    }
   },
   "source": [
    "## References\n",
    "1.  [RNN video \"RNN1. Why sequence models?\"](https://www.youtube.com/watch?v=5Vl-bK7tfD8&list=PLBAGcD3siRDittPwQDGIIAWkjz-RucAc7&index=1) by Andrew Ng\n",
    "2.  [Getting Started with PyTorch Part 1: Understanding how Automatic Differentiation works](https://towardsdatascience.com/getting-started-with-pytorch-part-1-understanding-how-automatic-differentiation-works-5008282073ec)\n",
    "3.  [Introduction to PyTorch fro pytorch.org](https://pytorch.org/tutorials/beginner/nlp/pytorch_tutorial.html#sphx-glr-beginner-nlp-pytorch-tutorial-py)\n",
    "4.  [Stanford course on NLP taught by Christopher Manning](https://web.stanford.edu/class/cs224n/)\n"
   ]
  },
  {
   "cell_type": "code",
   "execution_count": null,
   "metadata": {},
   "outputs": [],
   "source": []
  }
 ],
 "metadata": {
  "celltoolbar": "Slideshow",
  "kernelspec": {
   "display_name": "Python 3.6 - PyTorch 1.1",
   "language": "python",
   "name": "pytorch_preview"
  },
  "language_info": {
   "codemirror_mode": {
    "name": "ipython",
    "version": 3
   },
   "file_extension": ".py",
   "mimetype": "text/x-python",
   "name": "python",
   "nbconvert_exporter": "python",
   "pygments_lexer": "ipython3",
   "version": "3.6.8"
  },
  "nav_menu": {},
  "toc": {
   "navigate_menu": true,
   "number_sections": true,
   "sideBar": true,
   "threshold": 6,
   "toc_cell": false,
   "toc_section_display": "block",
   "toc_window_display": false
  }
 },
 "nbformat": 4,
 "nbformat_minor": 2
}
