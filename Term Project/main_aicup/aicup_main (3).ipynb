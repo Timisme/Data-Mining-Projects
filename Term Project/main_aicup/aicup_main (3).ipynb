{
  "nbformat": 4,
  "nbformat_minor": 0,
  "metadata": {
    "accelerator": "GPU",
    "colab": {
      "name": "aicup_main",
      "provenance": [],
      "collapsed_sections": [
        "tpu1QT-5tYsi",
        "F72vtVN9tbhD",
        "5rPf2heKjCd7"
      ]
    },
    "kernelspec": {
      "display_name": "Python 3",
      "name": "python3"
    }
  },
  "cells": [
    {
      "cell_type": "code",
      "metadata": {
        "id": "xk66K6AWaW1q"
      },
      "source": [
        "# !cp drive/MyDrive/python檔/aicup/run/dataset.py .\r\n",
        "# !cp drive/MyDrive/python檔/aicup/run "
      ],
      "execution_count": 2,
      "outputs": []
    },
    {
      "cell_type": "code",
      "metadata": {
        "colab": {
          "base_uri": "https://localhost:8080/"
        },
        "id": "0GHLkq1bcEox",
        "outputId": "b890072e-416c-4525-c756-5e1b81741495"
      },
      "source": [
        "from google.colab import drive\r\n",
        "drive.mount('/content/drive')"
      ],
      "execution_count": 3,
      "outputs": [
        {
          "output_type": "stream",
          "text": [
            "Drive already mounted at /content/drive; to attempt to forcibly remount, call drive.mount(\"/content/drive\", force_remount=True).\n"
          ],
          "name": "stdout"
        }
      ]
    },
    {
      "cell_type": "code",
      "metadata": {
        "id": "59rSMkbocYfI"
      },
      "source": [
        "import sys\r\n",
        "sys.path.insert(0,\"/content/drive/My Drive/python檔/aicup/run\")"
      ],
      "execution_count": 4,
      "outputs": []
    },
    {
      "cell_type": "code",
      "metadata": {
        "colab": {
          "base_uri": "https://localhost:8080/"
        },
        "id": "i3D3ktlwcq1p",
        "outputId": "3fc79ead-d7d4-4516-b271-ccffc86fb4ed"
      },
      "source": [
        "pip install transformers==3"
      ],
      "execution_count": 5,
      "outputs": [
        {
          "output_type": "stream",
          "text": [
            "Collecting transformers==3\n",
            "\u001b[?25l  Downloading https://files.pythonhosted.org/packages/9c/35/1c3f6e62d81f5f0daff1384e6d5e6c5758682a8357ebc765ece2b9def62b/transformers-3.0.0-py3-none-any.whl (754kB)\n",
            "\r\u001b[K     |▍                               | 10kB 25.6MB/s eta 0:00:01\r\u001b[K     |▉                               | 20kB 31.8MB/s eta 0:00:01\r\u001b[K     |█▎                              | 30kB 36.7MB/s eta 0:00:01\r\u001b[K     |█▊                              | 40kB 32.5MB/s eta 0:00:01\r\u001b[K     |██▏                             | 51kB 34.9MB/s eta 0:00:01\r\u001b[K     |██▋                             | 61kB 37.2MB/s eta 0:00:01\r\u001b[K     |███                             | 71kB 26.2MB/s eta 0:00:01\r\u001b[K     |███▌                            | 81kB 24.1MB/s eta 0:00:01\r\u001b[K     |████                            | 92kB 25.6MB/s eta 0:00:01\r\u001b[K     |████▍                           | 102kB 23.0MB/s eta 0:00:01\r\u001b[K     |████▊                           | 112kB 23.0MB/s eta 0:00:01\r\u001b[K     |█████▏                          | 122kB 23.0MB/s eta 0:00:01\r\u001b[K     |█████▋                          | 133kB 23.0MB/s eta 0:00:01\r\u001b[K     |██████                          | 143kB 23.0MB/s eta 0:00:01\r\u001b[K     |██████▌                         | 153kB 23.0MB/s eta 0:00:01\r\u001b[K     |███████                         | 163kB 23.0MB/s eta 0:00:01\r\u001b[K     |███████▍                        | 174kB 23.0MB/s eta 0:00:01\r\u001b[K     |███████▉                        | 184kB 23.0MB/s eta 0:00:01\r\u001b[K     |████████▎                       | 194kB 23.0MB/s eta 0:00:01\r\u001b[K     |████████▊                       | 204kB 23.0MB/s eta 0:00:01\r\u001b[K     |█████████▏                      | 215kB 23.0MB/s eta 0:00:01\r\u001b[K     |█████████▌                      | 225kB 23.0MB/s eta 0:00:01\r\u001b[K     |██████████                      | 235kB 23.0MB/s eta 0:00:01\r\u001b[K     |██████████▍                     | 245kB 23.0MB/s eta 0:00:01\r\u001b[K     |██████████▉                     | 256kB 23.0MB/s eta 0:00:01\r\u001b[K     |███████████▎                    | 266kB 23.0MB/s eta 0:00:01\r\u001b[K     |███████████▊                    | 276kB 23.0MB/s eta 0:00:01\r\u001b[K     |████████████▏                   | 286kB 23.0MB/s eta 0:00:01\r\u001b[K     |████████████▋                   | 296kB 23.0MB/s eta 0:00:01\r\u001b[K     |█████████████                   | 307kB 23.0MB/s eta 0:00:01\r\u001b[K     |█████████████▌                  | 317kB 23.0MB/s eta 0:00:01\r\u001b[K     |██████████████                  | 327kB 23.0MB/s eta 0:00:01\r\u001b[K     |██████████████▎                 | 337kB 23.0MB/s eta 0:00:01\r\u001b[K     |██████████████▊                 | 348kB 23.0MB/s eta 0:00:01\r\u001b[K     |███████████████▏                | 358kB 23.0MB/s eta 0:00:01\r\u001b[K     |███████████████▋                | 368kB 23.0MB/s eta 0:00:01\r\u001b[K     |████████████████                | 378kB 23.0MB/s eta 0:00:01\r\u001b[K     |████████████████▌               | 389kB 23.0MB/s eta 0:00:01\r\u001b[K     |█████████████████               | 399kB 23.0MB/s eta 0:00:01\r\u001b[K     |█████████████████▍              | 409kB 23.0MB/s eta 0:00:01\r\u001b[K     |█████████████████▉              | 419kB 23.0MB/s eta 0:00:01\r\u001b[K     |██████████████████▎             | 430kB 23.0MB/s eta 0:00:01\r\u001b[K     |██████████████████▊             | 440kB 23.0MB/s eta 0:00:01\r\u001b[K     |███████████████████             | 450kB 23.0MB/s eta 0:00:01\r\u001b[K     |███████████████████▌            | 460kB 23.0MB/s eta 0:00:01\r\u001b[K     |████████████████████            | 471kB 23.0MB/s eta 0:00:01\r\u001b[K     |████████████████████▍           | 481kB 23.0MB/s eta 0:00:01\r\u001b[K     |████████████████████▉           | 491kB 23.0MB/s eta 0:00:01\r\u001b[K     |█████████████████████▎          | 501kB 23.0MB/s eta 0:00:01\r\u001b[K     |█████████████████████▊          | 512kB 23.0MB/s eta 0:00:01\r\u001b[K     |██████████████████████▏         | 522kB 23.0MB/s eta 0:00:01\r\u001b[K     |██████████████████████▋         | 532kB 23.0MB/s eta 0:00:01\r\u001b[K     |███████████████████████         | 542kB 23.0MB/s eta 0:00:01\r\u001b[K     |███████████████████████▌        | 552kB 23.0MB/s eta 0:00:01\r\u001b[K     |███████████████████████▉        | 563kB 23.0MB/s eta 0:00:01\r\u001b[K     |████████████████████████▎       | 573kB 23.0MB/s eta 0:00:01\r\u001b[K     |████████████████████████▊       | 583kB 23.0MB/s eta 0:00:01\r\u001b[K     |█████████████████████████▏      | 593kB 23.0MB/s eta 0:00:01\r\u001b[K     |█████████████████████████▋      | 604kB 23.0MB/s eta 0:00:01\r\u001b[K     |██████████████████████████      | 614kB 23.0MB/s eta 0:00:01\r\u001b[K     |██████████████████████████▌     | 624kB 23.0MB/s eta 0:00:01\r\u001b[K     |███████████████████████████     | 634kB 23.0MB/s eta 0:00:01\r\u001b[K     |███████████████████████████▍    | 645kB 23.0MB/s eta 0:00:01\r\u001b[K     |███████████████████████████▉    | 655kB 23.0MB/s eta 0:00:01\r\u001b[K     |████████████████████████████▎   | 665kB 23.0MB/s eta 0:00:01\r\u001b[K     |████████████████████████████▋   | 675kB 23.0MB/s eta 0:00:01\r\u001b[K     |█████████████████████████████   | 686kB 23.0MB/s eta 0:00:01\r\u001b[K     |█████████████████████████████▌  | 696kB 23.0MB/s eta 0:00:01\r\u001b[K     |██████████████████████████████  | 706kB 23.0MB/s eta 0:00:01\r\u001b[K     |██████████████████████████████▍ | 716kB 23.0MB/s eta 0:00:01\r\u001b[K     |██████████████████████████████▉ | 727kB 23.0MB/s eta 0:00:01\r\u001b[K     |███████████████████████████████▎| 737kB 23.0MB/s eta 0:00:01\r\u001b[K     |███████████████████████████████▊| 747kB 23.0MB/s eta 0:00:01\r\u001b[K     |████████████████████████████████| 757kB 23.0MB/s \n",
            "\u001b[?25hRequirement already satisfied: filelock in /usr/local/lib/python3.6/dist-packages (from transformers==3) (3.0.12)\n",
            "Collecting sentencepiece\n",
            "\u001b[?25l  Downloading https://files.pythonhosted.org/packages/e5/2d/6d4ca4bef9a67070fa1cac508606328329152b1df10bdf31fb6e4e727894/sentencepiece-0.1.94-cp36-cp36m-manylinux2014_x86_64.whl (1.1MB)\n",
            "\u001b[K     |████████████████████████████████| 1.1MB 50.3MB/s \n",
            "\u001b[?25hRequirement already satisfied: dataclasses; python_version < \"3.7\" in /usr/local/lib/python3.6/dist-packages (from transformers==3) (0.8)\n",
            "Requirement already satisfied: numpy in /usr/local/lib/python3.6/dist-packages (from transformers==3) (1.18.5)\n",
            "Requirement already satisfied: requests in /usr/local/lib/python3.6/dist-packages (from transformers==3) (2.23.0)\n",
            "Collecting tokenizers==0.8.0-rc4\n",
            "\u001b[?25l  Downloading https://files.pythonhosted.org/packages/e8/bd/e5abec46af977c8a1375c1dca7cb1e5b3ec392ef279067af7f6bc50491a0/tokenizers-0.8.0rc4-cp36-cp36m-manylinux1_x86_64.whl (3.0MB)\n",
            "\u001b[K     |████████████████████████████████| 3.0MB 47.5MB/s \n",
            "\u001b[?25hRequirement already satisfied: tqdm>=4.27 in /usr/local/lib/python3.6/dist-packages (from transformers==3) (4.41.1)\n",
            "Requirement already satisfied: packaging in /usr/local/lib/python3.6/dist-packages (from transformers==3) (20.7)\n",
            "Collecting sacremoses\n",
            "\u001b[?25l  Downloading https://files.pythonhosted.org/packages/7d/34/09d19aff26edcc8eb2a01bed8e98f13a1537005d31e95233fd48216eed10/sacremoses-0.0.43.tar.gz (883kB)\n",
            "\u001b[K     |████████████████████████████████| 890kB 53.0MB/s \n",
            "\u001b[?25hRequirement already satisfied: regex!=2019.12.17 in /usr/local/lib/python3.6/dist-packages (from transformers==3) (2019.12.20)\n",
            "Requirement already satisfied: chardet<4,>=3.0.2 in /usr/local/lib/python3.6/dist-packages (from requests->transformers==3) (3.0.4)\n",
            "Requirement already satisfied: certifi>=2017.4.17 in /usr/local/lib/python3.6/dist-packages (from requests->transformers==3) (2020.12.5)\n",
            "Requirement already satisfied: urllib3!=1.25.0,!=1.25.1,<1.26,>=1.21.1 in /usr/local/lib/python3.6/dist-packages (from requests->transformers==3) (1.24.3)\n",
            "Requirement already satisfied: idna<3,>=2.5 in /usr/local/lib/python3.6/dist-packages (from requests->transformers==3) (2.10)\n",
            "Requirement already satisfied: pyparsing>=2.0.2 in /usr/local/lib/python3.6/dist-packages (from packaging->transformers==3) (2.4.7)\n",
            "Requirement already satisfied: six in /usr/local/lib/python3.6/dist-packages (from sacremoses->transformers==3) (1.15.0)\n",
            "Requirement already satisfied: click in /usr/local/lib/python3.6/dist-packages (from sacremoses->transformers==3) (7.1.2)\n",
            "Requirement already satisfied: joblib in /usr/local/lib/python3.6/dist-packages (from sacremoses->transformers==3) (0.17.0)\n",
            "Building wheels for collected packages: sacremoses\n",
            "  Building wheel for sacremoses (setup.py) ... \u001b[?25l\u001b[?25hdone\n",
            "  Created wheel for sacremoses: filename=sacremoses-0.0.43-cp36-none-any.whl size=893261 sha256=62efe2686575d7158c4974ead1abc61b27873f12efc518c61ad636099827e52c\n",
            "  Stored in directory: /root/.cache/pip/wheels/29/3c/fd/7ce5c3f0666dab31a50123635e6fb5e19ceb42ce38d4e58f45\n",
            "Successfully built sacremoses\n",
            "Installing collected packages: sentencepiece, tokenizers, sacremoses, transformers\n",
            "Successfully installed sacremoses-0.0.43 sentencepiece-0.1.94 tokenizers-0.8.0rc4 transformers-3.0.0\n"
          ],
          "name": "stdout"
        }
      ]
    },
    {
      "cell_type": "code",
      "metadata": {
        "colab": {
          "base_uri": "https://localhost:8080/"
        },
        "id": "T6RsrpxBWe1H",
        "outputId": "a734fff8-e9dd-4c5b-caa9-747628f2a6dd"
      },
      "source": [
        "pip install pytorch-crf"
      ],
      "execution_count": 6,
      "outputs": [
        {
          "output_type": "stream",
          "text": [
            "Collecting pytorch-crf\n",
            "  Downloading https://files.pythonhosted.org/packages/96/7d/4c4688e26ea015fc118a0327e5726e6596836abce9182d3738be8ec2e32a/pytorch_crf-0.7.2-py3-none-any.whl\n",
            "Installing collected packages: pytorch-crf\n",
            "Successfully installed pytorch-crf-0.7.2\n"
          ],
          "name": "stdout"
        }
      ]
    },
    {
      "cell_type": "code",
      "metadata": {
        "colab": {
          "base_uri": "https://localhost:8080/"
        },
        "id": "H6eL0_ORc3lj",
        "outputId": "e1f3d20f-178e-4b4c-a365-6a762b7c7196"
      },
      "source": [
        "pip install pytorch_warmup"
      ],
      "execution_count": 7,
      "outputs": [
        {
          "output_type": "stream",
          "text": [
            "Collecting pytorch_warmup\n",
            "  Downloading https://files.pythonhosted.org/packages/7a/22/2fb600a06a1d1b493d54ac8fa6c41e96870985992fc504104e0620bc2ea4/pytorch_warmup-0.0.4-py3-none-any.whl\n",
            "Requirement already satisfied: torch>=1.1 in /usr/local/lib/python3.6/dist-packages (from pytorch_warmup) (1.7.0+cu101)\n",
            "Requirement already satisfied: numpy in /usr/local/lib/python3.6/dist-packages (from torch>=1.1->pytorch_warmup) (1.18.5)\n",
            "Requirement already satisfied: typing-extensions in /usr/local/lib/python3.6/dist-packages (from torch>=1.1->pytorch_warmup) (3.7.4.3)\n",
            "Requirement already satisfied: future in /usr/local/lib/python3.6/dist-packages (from torch>=1.1->pytorch_warmup) (0.16.0)\n",
            "Requirement already satisfied: dataclasses in /usr/local/lib/python3.6/dist-packages (from torch>=1.1->pytorch_warmup) (0.8)\n",
            "Installing collected packages: pytorch-warmup\n",
            "Successfully installed pytorch-warmup-0.0.4\n"
          ],
          "name": "stdout"
        }
      ]
    },
    {
      "cell_type": "code",
      "metadata": {
        "id": "mNw4yCiwa1e2"
      },
      "source": [
        "from dataset import bert_stc_dataset\r\n",
        "# from model2 import model_crf\r\n",
        "from train import train\r\n",
        "# from txt_preprocess2 import preprocess2\r\n",
        "import re\r\n",
        "\r\n",
        "from transformers import BertModel, BertTokenizer, get_cosine_schedule_with_warmup\r\n",
        "import torch\r\n",
        "import torch.nn as nn\r\n",
        "from torch.utils.data import Dataset, DataLoader\r\n",
        "from torchsummary import summary\r\n",
        "from torchcrf import CRF\r\n",
        "import pytorch_warmup as warmup\r\n",
        "from torch.autograd import Variable\r\n",
        "\r\n",
        "\r\n",
        "from sklearn.model_selection import train_test_split\r\n",
        "from sklearn.metrics import f1_score\r\n",
        "\r\n",
        "import matplotlib.pyplot as plt"
      ],
      "execution_count": 8,
      "outputs": []
    },
    {
      "cell_type": "code",
      "metadata": {
        "colab": {
          "base_uri": "https://localhost:8080/"
        },
        "id": "P0Qnou0tbJfb",
        "outputId": "6850c5d0-e25a-4673-fef8-78b2bc8d0d97"
      },
      "source": [
        "file_path = '/content/drive/My Drive/python檔/aicup/run/data/train_input.data'\r\n",
        "device = 'cuda' if torch.cuda.is_available() else 'cpu'\r\n",
        "print('{} is being used'.format(device))"
      ],
      "execution_count": 9,
      "outputs": [
        {
          "output_type": "stream",
          "text": [
            "cuda is being used\n"
          ],
          "name": "stdout"
        }
      ]
    },
    {
      "cell_type": "markdown",
      "metadata": {
        "id": "cfh42ir6I9FM"
      },
      "source": [
        "# preprocess"
      ]
    },
    {
      "cell_type": "code",
      "metadata": {
        "id": "mr4UxdsTI8Y-"
      },
      "source": [
        "class preprocess2():\r\n",
        "\tdef __init__(self, data):\r\n",
        "\t\tself.data = data\r\n",
        "\t\tself.article_id_list = list()\r\n",
        "\t\tself.data_list= list()\r\n",
        "\t\tdata_list_tmp = list()\r\n",
        "\t\tidx = 0\r\n",
        "\r\n",
        "\t\tfor row in data:\r\n",
        "\t\t\tdata_tuple = tuple()\r\n",
        "\t\t\tif row == '\\n':\r\n",
        "\t\t\t\tself.article_id_list.append(idx)\r\n",
        "\t\t\t\tidx+=1\r\n",
        "\t\t\t\t# data_list_tmp.append(('[SEP]','[SEP]'))\r\n",
        "\t\t\t\tself.data_list.append(data_list_tmp)\r\n",
        "\t\t\t\t# data_list_tmp = [('[CLS]','[CLS]')]\r\n",
        "\t\t\t\tdata_list_tmp = []\r\n",
        "\r\n",
        "\t\t\telse:\r\n",
        "\t\t\t\trow = row.strip('\\n').split(' ')\r\n",
        "\r\n",
        "\t\t\t\tif row[0] in ['。', '？','！','～','：','，']:\r\n",
        "\t\t\t\t\tself.article_id_list.append(idx)\r\n",
        "\t\t\t\t\tself.data_list.append(data_list_tmp)\r\n",
        "\t\t\t\t\tdata_list_tmp= []\r\n",
        "\r\n",
        "\t\t\t\telif row[0] not in ['摁','嗯','啦','喔','欸','啊','齁','嘿','…','...']:\r\n",
        "\t\t\t\t\tdata_tuple = (row[0], row[1])\r\n",
        "\t\t\t\t\tdata_list_tmp.append(data_tuple)\r\n",
        "\t\t\t\t#data_list_tmp 儲存暫時的data_tuple(token,label)\r\n",
        "\t\tif len(data_list_tmp) != 0:\r\n",
        "\t\t\tself.data_list.append(data_list_tmp)\r\n",
        "\r\n",
        "\t\t# print(len(self.data_list), len(self.article_id_list))\r\n",
        "\t\t# print(self.data_list[0])\r\n",
        "\t\t# traindata_list, testdata_list, traindata_article_id_list, testdata_article_id_list=train_test_split(self.data_list,self.article_id_list,test_size= 0.33)\r\n",
        "\t\t# print('ex1 ',self.data_list[2])\r\n",
        "\r\n",
        "\tdef get_stc_label(self):\r\n",
        "\t\tall_stcs = list()\r\n",
        "\t\tall_labels = list()\r\n",
        "\r\n",
        "\t\tfor article_txt_tuple, article_id in zip(self.data_list, self.article_id_list):\r\n",
        "\r\n",
        "\t\t\ttxt_len = len(article_txt_tuple) #(文章數，每個文章對應的總字數) (word, label)\r\n",
        "\t\t\tstc = str() #存字數= max_stc_len的字串\r\n",
        "\t\t\t# labels = ['[CLS]'] # 存該字串對應的label # pytorch crf不需要\r\n",
        "\t\t\tlabels = []\r\n",
        "\r\n",
        "\t\t\tfor idx, (word, label) in enumerate(article_txt_tuple):\r\n",
        "\r\n",
        "\t\t\t\tstc += word\r\n",
        "\t\t\t\tlabels.append(label)\r\n",
        "\r\n",
        "\t\t\t# labels.append('[SEP]') # pytorch crf 不需要sep\r\n",
        "\t\t\t\r\n",
        "\t\t\tall_stcs.append(stc)\r\n",
        "\t\t\tall_labels.append(labels)\r\n",
        "\r\n",
        "\t\tall_stcs_clean = []\r\n",
        "\t\tall_labels_clean = []\r\n",
        "\r\n",
        "\t\tfor stc, label in zip(all_stcs,all_labels):\r\n",
        "\t\t\t\r\n",
        "\t\t\tstc_clean = re.sub(r'(醫師)|(個管師)|(民眾)|(家屬)|(護理師)', '', stc)\r\n",
        "\t\t\t# print(stc, stc_clean, label)\r\n",
        "\t\t\tif (len(stc_clean)>=2) & (len(set(label)) >= 2):\t\r\n",
        "\t\t\t\t# print(stc_clean, stc)\r\n",
        "\t\t\t\tall_stcs_clean.append(stc)\r\n",
        "\r\n",
        "\t\t\t\t# len_diff = len(stc) - len(stc_clean)\r\n",
        "\t\t\t\t\r\n",
        "\t\t\t\t# if len_diff >= 3:\r\n",
        "\r\n",
        "\t\t\t\t# \tdel label[1:1+len_diff]\r\n",
        "\t\t\t\t# if len(set(label)) >= 2:\r\n",
        "\t\t\t\t# \tprint(stc,stc_clean, label)\r\n",
        "\t\t\t\tall_labels_clean.append(label)\r\n",
        "\r\n",
        "\t\t# 這一步就先把label 做 0 padding\r\n",
        "\r\n",
        "\t\tmax_length = len(max(all_stcs_clean, key=len)) \r\n",
        "\t\tpad_labels = []\r\n",
        "\r\n",
        "\t\tfor i in range(len(all_labels_clean)):\r\n",
        "\t\t\ttemp_label = ['[PAD]']*max_length\r\n",
        "\t\t\ttemp_label[:len(all_labels_clean[i])] = all_labels_clean[i]\r\n",
        "\t\t\tpad_labels.append(temp_label)\r\n",
        "\r\n",
        "\t\tprint('sentences總數: {}'.format(len(all_stcs_clean)))\r\n",
        "\t\tprint('labels總數: {}'.format(len(all_labels_clean)))\r\n",
        "\t\t# print(all_stcs[0])\r\n",
        "\t\t# print(all_labels[0])\r\n",
        "\t\treturn all_stcs_clean, pad_labels\r\n",
        "\r\n",
        "\tdef tag2id(self, stcs_label):\r\n",
        "\r\n",
        "\t\tall_label = list()\r\n",
        "\t\tfor stc_label in stcs_label:\r\n",
        "\t\t\tfor label in stc_label:\r\n",
        "\t\t\t\tall_label.append(label)\r\n",
        "\r\n",
        "\t\tlabels_set = sorted(set(all_label))\r\n",
        "\t\ttag2id_dict = {'[PAD]':0} #固定將PAD id設為0\r\n",
        "\r\n",
        "\t\tlabels_set.remove('[PAD]')\r\n",
        "\r\n",
        "\t\tfor idx, label in enumerate(labels_set):\r\n",
        "\t\t\ttag2id_dict[label] = idx+1\r\n",
        "\r\n",
        "\t\t# tag2id_dict['[CLS]'] = len(tag2id_dict) \r\n",
        "\t\t# tag2id_dict['[SEP]'] = len(tag2id_dict)\r\n",
        "\r\n",
        "\t\treturn tag2id_dict\r\n",
        "\r\n",
        "\tdef label_to_ids(self, tag_to_id, raw_labels):\r\n",
        "\r\n",
        "\t\tlabel2id = []\r\n",
        "\t\tfor stc_labels in raw_labels:\r\n",
        "\t\t\tstc_label_ids = [tag_to_id[label] for label in stc_labels]\r\n",
        "\t\t\tlabel2id.append(stc_label_ids)\r\n",
        "\t\treturn label2id\r\n",
        "\r\n",
        "\tdef get_stcs_label2ids(self):\r\n",
        "\r\n",
        "\t\tstcs, labels = self.get_stc_label()\r\n",
        "\t\ttag2id = self.tag2id(stcs_label= labels)\r\n",
        "\t\tlabels_ids= self.label_to_ids(tag_to_id= tag2id, raw_labels= labels)\r\n",
        "\r\n",
        "\t\treturn stcs, labels_ids\r\n"
      ],
      "execution_count": 10,
      "outputs": []
    },
    {
      "cell_type": "markdown",
      "metadata": {
        "id": "tpu1QT-5tYsi"
      },
      "source": [
        "# model"
      ]
    },
    {
      "cell_type": "code",
      "metadata": {
        "id": "48kSvtOFtQRg"
      },
      "source": [
        "class model_crf(nn.Module):\r\n",
        "\tdef __init__(self, n_tags, hidden_dim=768, batchsize= 64):\r\n",
        "\t\tsuper(model_crf, self).__init__()\r\n",
        "\t\tself.n_tags = n_tags\r\n",
        "\t\tself.lstm =  nn.LSTM(bidirectional=True, num_layers=2, input_size=768, hidden_size=hidden_dim//2, dropout= 0.1, batch_first=True)\t\t\r\n",
        "\t\tself.hidden_dim = hidden_dim\r\n",
        "\t\tself.fc = nn.Linear(hidden_dim, self.n_tags)\r\n",
        "\t\tself.bert = BertModel.from_pretrained('bert-base-chinese')\r\n",
        "\t\t# self.bert.eval()  # 知用来取bert embedding\r\n",
        "\t\tself.device = torch.device('cuda') if torch.cuda.is_available() else torch.device('cpu')\r\n",
        "\t\tself.CRF = CRF(n_tags, batch_first= True)\r\n",
        "\t\tself.hidden = self.init_hidden(batchsize)\r\n",
        "\r\n",
        "\tdef init_hidden(self, batchsize):\r\n",
        "\t\treturn Variable(torch.randn(2*2, batchsize, self.hidden_dim // 2)).to(self.device), Variable(torch.randn(2*2, batchsize, self.hidden_dim // 2)).to(self.device)\r\n",
        "\r\n",
        "\tdef neg_log_likelihood(self, input_ids, attention_mask, tags):\r\n",
        "\r\n",
        "\t\t# feats : [batchsize, seq_len, n_tags]\r\n",
        "\t\t# tags : [batchsize, n_tags]\r\n",
        "\t\tencoded_layer, _  = self.bert(input_ids.long(), attention_mask)\r\n",
        "\t\tenc, _ = self.lstm(encoded_layer, self.hidden)\r\n",
        "\t\tlstm_feats = self.fc(enc)\r\n",
        "\t\t# lstm_feats[:,:,-1] = lstm_feats[:,:,-1]*0.001\r\n",
        "\r\n",
        "\t\tloss = -self.CRF(lstm_feats, tags, attention_mask.bool(), reduction= 'mean')\r\n",
        "\r\n",
        "\t\treturn loss \r\n",
        "\r\n",
        "\tdef forward(self, input_ids, attention_mask, tags):\r\n",
        "\r\n",
        "\t\tencoded_layer, _  = self.bert(input_ids.long(), attention_mask)\r\n",
        "\t\tenc, _ = self.lstm(encoded_layer)\r\n",
        "\t\tlstm_feats = self.fc(enc)\r\n",
        "\t\tlstm_feats[:,:,1:-1] = lstm_feats[:,:,1:-1]*10\r\n",
        "\t\tloss = -self.CRF(lstm_feats, tags, attention_mask.bool(), reduction= 'token_mean')\r\n",
        "\t\tpred_seqs = self.CRF.decode(emissions= lstm_feats, mask= attention_mask.bool())\r\n",
        "\t\treturn loss, pred_seqs"
      ],
      "execution_count": 11,
      "outputs": []
    },
    {
      "cell_type": "markdown",
      "metadata": {
        "id": "F72vtVN9tbhD"
      },
      "source": [
        "# 參數設定"
      ]
    },
    {
      "cell_type": "code",
      "metadata": {
        "colab": {
          "base_uri": "https://localhost:8080/",
          "height": 901
        },
        "id": "zTvRlmOldMGf",
        "outputId": "89dc6ff2-ba67-4a35-d5b7-b2381469ff9b"
      },
      "source": [
        "# ---------------前處理---------------\r\n",
        "with open(file_path, 'r', encoding='utf-8') as f:\r\n",
        "\tdata=f.readlines()#.encode('utf-8').decode('utf-8-sig')\r\n",
        "\r\n",
        "preprocessor = preprocess2(data)\r\n",
        "\r\n",
        "stcs, original_labels= preprocessor.get_stc_label()\r\n",
        "stcs, labels = preprocessor.get_stcs_label2ids()\r\n",
        "tag2id_dict = preprocessor.tag2id(original_labels)\r\n",
        "n_tags = len(tag2id_dict)\r\n",
        "print(tag2id_dict)\r\n",
        "print('tags數: {}'.format(n_tags))\r\n",
        "\r\n",
        "gt_tags = [tag for label in labels for tag in label]\r\n",
        "\r\n",
        "for tag in set(gt_tags):\r\n",
        "  print('{}|{}'.format(tag, gt_tags.count(tag)/len(gt_tags)))\r\n",
        "# plt.hist(gt_tags)\r\n",
        "plt.hist([len(stc) for stc in stcs])\r\n",
        "plt.show()\r\n",
        "\r\n",
        "\r\n",
        "tokenizer = BertTokenizer.from_pretrained('bert-base-chinese')\r\n",
        "# max_length = max([len(txt) for txt in stcs]) # [CLS] + [SEP]\r\n",
        "max_length = len(max(stcs, key=len)) \r\n",
        "print('max_stc_length', max_length)\r\n",
        "\r\n",
        "# ---------------模型---------------\r\n",
        "batchsize= 32\r\n",
        "model = model_crf(n_tags= n_tags, hidden_dim= 256, batchsize= batchsize).to(device)\r\n",
        "# print(summary(model,[(128, 300), (128,300)]))\r\n",
        "\r\n",
        "train_x, test_x, train_y, test_y = train_test_split(stcs, labels, test_size= 0.2, shuffle= False, random_state= 42)\r\n",
        "\r\n",
        "train_dataset = bert_stc_dataset(stcs= train_x, labels= train_y, tokenizer= tokenizer, max_length= max_length)\r\n",
        "test_dataset = bert_stc_dataset(stcs= test_x, labels= test_y, tokenizer= tokenizer, max_length= max_length)\r\n",
        "\r\n",
        "print('training stcs 總數: {}'.format(len(train_dataset)))\r\n",
        "train_dataloader = DataLoader(train_dataset, batch_size= batchsize, shuffle= True)\r\n",
        "test_dataloader = DataLoader(test_dataset, batch_size= batchsize, shuffle= False)\r\n",
        "\r\n",
        "num_epochs = 40\r\n",
        "num_iteration = len(train_dataloader)\r\n",
        "print('num_interation',num_iteration)\r\n",
        "total_iter = num_iteration * num_epochs\r\n",
        "optimizer = torch.optim.AdamW(model.parameters(), lr = 1e-4)\r\n",
        "scheduler = get_cosine_schedule_with_warmup(optimizer, num_warmup_steps=3000, num_training_steps=total_iter)\r\n",
        "# warmup_scheduler = warmup.ExponentialWarmup(optimizer, warmup_period=150)\r\n",
        "\r\n",
        "# ---------------訓練---------------\r\n",
        "# train_model = train(model= model, optimizer= optimizer, train_loader= train_dataloader, test_loader= 0, num_epochs= 5, device= device)"
      ],
      "execution_count": 15,
      "outputs": [
        {
          "output_type": "stream",
          "text": [
            "sentences總數: 1943\n",
            "labels總數: 1943\n",
            "sentences總數: 1943\n",
            "labels總數: 1943\n",
            "{'[PAD]': 0, 'B-ID': 1, 'B-clinical_event': 2, 'B-contact': 3, 'B-education': 4, 'B-family': 5, 'B-location': 6, 'B-med_exam': 7, 'B-money': 8, 'B-name': 9, 'B-organization': 10, 'B-profession': 11, 'B-time': 12, 'I-ID': 13, 'I-clinical_event': 14, 'I-contact': 15, 'I-education': 16, 'I-family': 17, 'I-location': 18, 'I-med_exam': 19, 'I-money': 20, 'I-name': 21, 'I-organization': 22, 'I-profession': 23, 'I-time': 24, 'O': 25}\n",
            "tags數: 26\n",
            "0|0.7639760192513666\n",
            "1|0.00011127957602481535\n",
            "2|6.954973501550959e-05\n",
            "3|0.00026428899305893646\n",
            "4|4.1729841009305755e-05\n",
            "5|0.00034774867507754794\n",
            "6|0.0022395014674994086\n",
            "7|0.00304627839367932\n",
            "8|0.0010849758662419497\n",
            "9|0.002267321361505613\n",
            "10|1.3909947003101918e-05\n",
            "11|0.00018082931104032492\n",
            "12|0.019835584426423334\n",
            "13|0.00020864920504652876\n",
            "14|0.00020864920504652876\n",
            "15|0.0010988858132450516\n",
            "16|4.1729841009305755e-05\n",
            "17|0.0003894785160868537\n",
            "18|0.00333838728074446\n",
            "19|0.00536923954319734\n",
            "20|0.002698529718601772\n",
            "21|0.0037835055848437216\n",
            "22|2.7819894006203837e-05\n",
            "23|0.0005563978801240767\n",
            "24|0.04371896343074933\n",
            "25|0.145080747242353\n"
          ],
          "name": "stdout"
        },
        {
          "output_type": "display_data",
          "data": {
            "image/png": "[encoded data removed]",
            "text/plain": [
              "<Figure size 432x288 with 1 Axes>"
            ]
          },
          "metadata": {
            "tags": [],
            "needs_background": "light"
          }
        },
        {
          "output_type": "stream",
          "text": [
            "max_stc_length 37\n",
            "training stcs 總數: 1554\n",
            "num_interation 49\n"
          ],
          "name": "stdout"
        }
      ]
    },
    {
      "cell_type": "markdown",
      "metadata": {
        "id": "5rPf2heKjCd7"
      },
      "source": [
        "# test function"
      ]
    },
    {
      "cell_type": "code",
      "metadata": {
        "id": "rfjiko8GjBZD"
      },
      "source": [
        "def test(model, test_dataloader, device):\r\n",
        "\r\n",
        "  preds_epoch = []\r\n",
        "  gts_epoch = []\r\n",
        "  epoch_loss = 0\r\n",
        "  iteration = 0\r\n",
        "\r\n",
        "  model.eval()\r\n",
        "\r\n",
        "  for idx, batch_dict in enumerate(test_dataloader):\r\n",
        "\r\n",
        "    # print('idx: ',idx+1)\r\n",
        "    input_ids = batch_dict['input_ids'].to(device)\r\n",
        "    attention_mask = batch_dict['attention_mask'].to(device)\r\n",
        "    labels = batch_dict['labels'].to(device)\r\n",
        "\r\n",
        "    with torch.no_grad():\r\n",
        "      loss, pred_labels = model(input_ids, attention_mask.bool(), labels)\r\n",
        "\r\n",
        "    # mask gt labels \r\n",
        "    labels = batch_dict['labels'].numpy()\r\n",
        "    masks = batch_dict['attention_mask'].numpy()\r\n",
        "\r\n",
        "    labels_nopad = []\r\n",
        "    for label , seq_mask in zip(labels, masks):\r\n",
        "\r\n",
        "      seq = [tag for tag, mask in zip(label, seq_mask) if mask == 1]\r\n",
        "      labels_nopad.append(seq)\r\n",
        "\r\n",
        "    # one dim array \r\n",
        "    preds= [tag for seq in pred_labels for tag in seq]\r\n",
        "    gts= [tag for seq in labels_nopad for tag in seq]\r\n",
        "\r\n",
        "    preds_epoch += preds\r\n",
        "    gts_epoch += gts\r\n",
        "\r\n",
        "    epoch_loss += loss.item()\r\n",
        "    iteration += 1\r\n",
        "\r\n",
        "  f1_macro = f1_score(y_true= gts_epoch, y_pred= preds_epoch, average= 'macro')\r\n",
        "  f1_micro = f1_score(y_true= gts_epoch, y_pred= preds_epoch, average= 'micro')\r\n",
        "  avg_loss = epoch_loss / iteration\r\n",
        "  \r\n",
        "  print('test_f1(macro, micro) ({:.2f},{:.2f}) | test_avg_loss {:.2f}'.format(f1_macro, f1_micro, avg_loss))\r\n",
        "\r\n",
        "  return f1_macro, f1_micro, avg_loss"
      ],
      "execution_count": 16,
      "outputs": []
    },
    {
      "cell_type": "markdown",
      "metadata": {
        "id": "FTZoeeJLtl9K"
      },
      "source": [
        "# 訓練"
      ]
    },
    {
      "cell_type": "code",
      "metadata": {
        "colab": {
          "base_uri": "https://localhost:8080/"
        },
        "id": "gyZYZVdJhxFa",
        "outputId": "e12185ce-a86b-4c82-87dc-90639f522ffd"
      },
      "source": [
        "train_loss = {}\r\n",
        "test_loss = {}\r\n",
        "train_f1 = {}\r\n",
        "test_f1 = {}\r\n",
        "\r\n",
        "for epoch in range(num_epochs):\r\n",
        "\r\n",
        "  preds_epoch = []\r\n",
        "  gts_epoch = []\r\n",
        "  epoch_loss = 0\r\n",
        "  iteration = 0\r\n",
        "\r\n",
        "  model.train()\r\n",
        "\r\n",
        "  for idx, batch_dict in enumerate(train_dataloader):\r\n",
        "\r\n",
        "    # print('idx: ',idx+1)\r\n",
        "    input_ids = batch_dict['input_ids'].to(device)\r\n",
        "    attention_mask = batch_dict['attention_mask'].to(device)\r\n",
        "    labels = batch_dict['labels'].to(device)\r\n",
        "\r\n",
        "    loss, pred_labels = model(input_ids, attention_mask.bool(), labels)\r\n",
        "\r\n",
        "    # loss = model.neg_log_likelihood(input_ids, attention_mask, labels)\r\n",
        "    loss.backward()\r\n",
        "    torch.nn.utils.clip_grad_norm_(model.parameters(), 5)\r\n",
        "\r\n",
        "    # if (idx+1) % 5 == 0:\r\n",
        "    optimizer.step()\r\n",
        "    scheduler.step()\r\n",
        "    # warmup_scheduler.dampen()\r\n",
        "    model.zero_grad()\r\n",
        "\r\n",
        "    # mask gt labels \r\n",
        "    labels = batch_dict['labels'].numpy()\r\n",
        "    masks = batch_dict['attention_mask'].numpy()\r\n",
        "    # masked_list = (labels*mask).numpy()\r\n",
        "\r\n",
        "    labels_nopad = []\r\n",
        "    for label , seq_mask in zip(labels, masks):\r\n",
        "\r\n",
        "      seq = [tag for tag, mask in zip(label, seq_mask) if mask == 1]\r\n",
        "      labels_nopad.append(seq)\r\n",
        "\r\n",
        "    # one dim array \r\n",
        "    preds= [tag for seq in pred_labels for tag in seq]\r\n",
        "    gts= [tag for seq in labels_nopad for tag in seq]\r\n",
        "\r\n",
        "    preds_epoch += preds\r\n",
        "    gts_epoch += gts\r\n",
        "\r\n",
        "    epoch_loss += loss.item()\r\n",
        "    iteration += 1\r\n",
        "\r\n",
        "    # print('pred_labels', pred_labels)\r\n",
        "    # # print('preds:', preds)\r\n",
        "    # print('gts:',gts)\r\n",
        "    # print(round(f1_score(y_true= gts, y_pred= preds, average= 'macro'),2))\r\n",
        "    # # print(f1_score(y_true= gts, y_pred= preds, average= 'micro'))\r\n",
        "    # print(round(loss.item(),2))\r\n",
        "\r\n",
        "    # print('idx:{} loss:{}'.format(idx, loss))\r\n",
        "\r\n",
        "  f1 = f1_score(y_true= gts_epoch, y_pred= preds_epoch, average= 'macro')\r\n",
        "  f1_micro = f1_score(y_true= gts_epoch, y_pred= preds_epoch, average= 'micro')\r\n",
        "  avg_loss = epoch_loss / iteration\r\n",
        "  \r\n",
        "\r\n",
        "  print('epoch {}/{} | train_f1(macro, micro) ({:.2f},{:.2f}) | train_epoch_avg_loss {:.2f}'.format(epoch+1, num_epochs, f1, f1_micro, avg_loss))\r\n",
        "\r\n",
        "  test_f1_macro, test_f1_micro, test_avg_loss = test(model= model, test_dataloader= test_dataloader, device= device)\r\n",
        "\r\n",
        "  train_loss[epoch+1] = avg_loss\r\n",
        "  test_loss[epoch+1] = test_avg_loss\r\n",
        "  train_f1[epoch+1] = f1\r\n",
        "  test_f1[epoch+1] = test_f1_macro\r\n"
      ],
      "execution_count": 18,
      "outputs": [
        {
          "output_type": "stream",
          "text": [
            "epoch 1/40 | train_f1(macro, micro) (0.02,0.17) | train_epoch_avg_loss 2.62\n",
            "test_f1(macro, micro) (0.02,0.20) | test_avg_loss 2.17\n",
            "epoch 2/40 | train_f1(macro, micro) (0.04,0.47) | train_epoch_avg_loss 1.92\n",
            "test_f1(macro, micro) (0.07,0.67) | test_avg_loss 1.53\n",
            "epoch 3/40 | train_f1(macro, micro) (0.06,0.65) | train_epoch_avg_loss 1.50\n",
            "test_f1(macro, micro) (0.07,0.68) | test_avg_loss 1.28\n",
            "epoch 4/40 | train_f1(macro, micro) (0.07,0.67) | train_epoch_avg_loss 1.27\n",
            "test_f1(macro, micro) (0.10,0.72) | test_avg_loss 1.05\n",
            "epoch 5/40 | train_f1(macro, micro) (0.12,0.74) | train_epoch_avg_loss 1.02\n",
            "test_f1(macro, micro) (0.16,0.81) | test_avg_loss 0.76\n",
            "epoch 6/40 | train_f1(macro, micro) (0.17,0.80) | train_epoch_avg_loss 0.80\n",
            "test_f1(macro, micro) (0.22,0.87) | test_avg_loss 0.58\n",
            "epoch 7/40 | train_f1(macro, micro) (0.21,0.85) | train_epoch_avg_loss 0.64\n",
            "test_f1(macro, micro) (0.28,0.90) | test_avg_loss 0.47\n",
            "epoch 8/40 | train_f1(macro, micro) (0.25,0.87) | train_epoch_avg_loss 0.53\n",
            "test_f1(macro, micro) (0.33,0.91) | test_avg_loss 0.38\n",
            "epoch 9/40 | train_f1(macro, micro) (0.31,0.90) | train_epoch_avg_loss 0.43\n",
            "test_f1(macro, micro) (0.46,0.93) | test_avg_loss 0.32\n",
            "epoch 10/40 | train_f1(macro, micro) (0.35,0.92) | train_epoch_avg_loss 0.35\n",
            "test_f1(macro, micro) (0.46,0.93) | test_avg_loss 0.31\n",
            "epoch 11/40 | train_f1(macro, micro) (0.39,0.93) | train_epoch_avg_loss 0.31\n",
            "test_f1(macro, micro) (0.46,0.93) | test_avg_loss 0.29\n",
            "epoch 12/40 | train_f1(macro, micro) (0.43,0.94) | train_epoch_avg_loss 0.25\n",
            "test_f1(macro, micro) (0.47,0.93) | test_avg_loss 0.28\n",
            "epoch 13/40 | train_f1(macro, micro) (0.48,0.95) | train_epoch_avg_loss 0.22\n",
            "test_f1(macro, micro) (0.50,0.94) | test_avg_loss 0.25\n",
            "epoch 14/40 | train_f1(macro, micro) (0.51,0.96) | train_epoch_avg_loss 0.19\n",
            "test_f1(macro, micro) (0.49,0.94) | test_avg_loss 0.26\n",
            "epoch 15/40 | train_f1(macro, micro) (0.52,0.96) | train_epoch_avg_loss 0.17\n",
            "test_f1(macro, micro) (0.54,0.95) | test_avg_loss 0.21\n",
            "epoch 16/40 | train_f1(macro, micro) (0.53,0.96) | train_epoch_avg_loss 0.16\n",
            "test_f1(macro, micro) (0.58,0.95) | test_avg_loss 0.24\n",
            "epoch 17/40 | train_f1(macro, micro) (0.60,0.97) | train_epoch_avg_loss 0.14\n",
            "test_f1(macro, micro) (0.52,0.95) | test_avg_loss 0.21\n",
            "epoch 18/40 | train_f1(macro, micro) (0.62,0.97) | train_epoch_avg_loss 0.12\n",
            "test_f1(macro, micro) (0.60,0.95) | test_avg_loss 0.23\n",
            "epoch 19/40 | train_f1(macro, micro) (0.60,0.97) | train_epoch_avg_loss 0.12\n",
            "test_f1(macro, micro) (0.54,0.95) | test_avg_loss 0.22\n",
            "epoch 20/40 | train_f1(macro, micro) (0.64,0.98) | train_epoch_avg_loss 0.10\n",
            "test_f1(macro, micro) (0.56,0.95) | test_avg_loss 0.20\n",
            "epoch 21/40 | train_f1(macro, micro) (0.66,0.98) | train_epoch_avg_loss 0.08\n",
            "test_f1(macro, micro) (0.51,0.95) | test_avg_loss 0.25\n",
            "epoch 22/40 | train_f1(macro, micro) (0.65,0.98) | train_epoch_avg_loss 0.09\n",
            "test_f1(macro, micro) (0.54,0.95) | test_avg_loss 0.23\n",
            "epoch 23/40 | train_f1(macro, micro) (0.72,0.98) | train_epoch_avg_loss 0.08\n",
            "test_f1(macro, micro) (0.59,0.95) | test_avg_loss 0.25\n",
            "epoch 24/40 | train_f1(macro, micro) (0.70,0.98) | train_epoch_avg_loss 0.08\n",
            "test_f1(macro, micro) (0.65,0.95) | test_avg_loss 0.24\n",
            "epoch 25/40 | train_f1(macro, micro) (0.75,0.98) | train_epoch_avg_loss 0.07\n",
            "test_f1(macro, micro) (0.60,0.95) | test_avg_loss 0.25\n",
            "epoch 26/40 | train_f1(macro, micro) (0.74,0.98) | train_epoch_avg_loss 0.06\n",
            "test_f1(macro, micro) (0.52,0.95) | test_avg_loss 0.22\n",
            "epoch 27/40 | train_f1(macro, micro) (0.71,0.98) | train_epoch_avg_loss 0.06\n",
            "test_f1(macro, micro) (0.65,0.95) | test_avg_loss 0.27\n",
            "epoch 28/40 | train_f1(macro, micro) (0.72,0.98) | train_epoch_avg_loss 0.07\n",
            "test_f1(macro, micro) (0.63,0.95) | test_avg_loss 0.25\n",
            "epoch 29/40 | train_f1(macro, micro) (0.74,0.98) | train_epoch_avg_loss 0.08\n",
            "test_f1(macro, micro) (0.57,0.94) | test_avg_loss 0.29\n",
            "epoch 30/40 | train_f1(macro, micro) (0.74,0.98) | train_epoch_avg_loss 0.06\n",
            "test_f1(macro, micro) (0.54,0.95) | test_avg_loss 0.33\n",
            "epoch 31/40 | train_f1(macro, micro) (0.74,0.98) | train_epoch_avg_loss 0.07\n",
            "test_f1(macro, micro) (0.75,0.95) | test_avg_loss 0.36\n",
            "epoch 32/40 | train_f1(macro, micro) (0.84,0.98) | train_epoch_avg_loss 0.07\n",
            "test_f1(macro, micro) (0.58,0.96) | test_avg_loss 0.22\n",
            "epoch 33/40 | train_f1(macro, micro) (0.77,0.98) | train_epoch_avg_loss 0.06\n",
            "test_f1(macro, micro) (0.65,0.95) | test_avg_loss 0.27\n",
            "epoch 34/40 | train_f1(macro, micro) (0.85,0.99) | train_epoch_avg_loss 0.06\n",
            "test_f1(macro, micro) (0.68,0.96) | test_avg_loss 0.21\n",
            "epoch 35/40 | train_f1(macro, micro) (0.83,0.99) | train_epoch_avg_loss 0.04\n",
            "test_f1(macro, micro) (0.59,0.95) | test_avg_loss 0.34\n",
            "epoch 36/40 | train_f1(macro, micro) (0.87,0.99) | train_epoch_avg_loss 0.04\n",
            "test_f1(macro, micro) (0.69,0.95) | test_avg_loss 0.31\n",
            "epoch 37/40 | train_f1(macro, micro) (0.86,0.99) | train_epoch_avg_loss 0.04\n",
            "test_f1(macro, micro) (0.66,0.95) | test_avg_loss 0.23\n",
            "epoch 38/40 | train_f1(macro, micro) (0.89,0.99) | train_epoch_avg_loss 0.04\n",
            "test_f1(macro, micro) (0.70,0.96) | test_avg_loss 0.23\n",
            "epoch 39/40 | train_f1(macro, micro) (0.93,0.99) | train_epoch_avg_loss 0.04\n",
            "test_f1(macro, micro) (0.67,0.95) | test_avg_loss 0.22\n",
            "epoch 40/40 | train_f1(macro, micro) (0.89,0.99) | train_epoch_avg_loss 0.05\n",
            "test_f1(macro, micro) (0.63,0.95) | test_avg_loss 0.25\n"
          ],
          "name": "stdout"
        }
      ]
    },
    {
      "cell_type": "code",
      "metadata": {
        "id": "_pWa4TQhw5PI"
      },
      "source": [
        "# torch.save(model, 'ner_model_batch32_wup3000_lstmhd256_lre-4_40epoch.pt')"
      ],
      "execution_count": null,
      "outputs": []
    },
    {
      "cell_type": "code",
      "metadata": {
        "id": "mAFcxDva2iGf",
        "colab": {
          "base_uri": "https://localhost:8080/",
          "height": 585
        },
        "outputId": "53075b34-35f8-4cb7-a267-a3c29feafb0c"
      },
      "source": [
        "fig, (ax1, ax2) = plt.subplots(nrows= 2, ncols= 1, figsize= (10,8), sharex= True)\r\n",
        "ax1.plot([*range(1, num_epochs+1)], list(train_loss.values()), label= 'train loss')\r\n",
        "ax1.plot([*range(1, num_epochs+1)], list(test_loss.values()), label= 'test loss')\r\n",
        "ax1.legend()\r\n",
        "\r\n",
        "ax2.plot([*range(1, num_epochs+1)], list(train_f1.values()), label= 'train f1 (macro)')\r\n",
        "ax2.plot([*range(1, num_epochs+1)], list(test_f1.values()), label= 'test f1 (macro)')\r\n",
        "ax2.legend()\r\n",
        "\r\n",
        "plt.tight_layout()\r\n",
        "plt.show()"
      ],
      "execution_count": 36,
      "outputs": [
        {
          "output_type": "display_data",
          "data": {
            "image/png": "[encoded data removed]",
            "text/plain": [
              "<Figure size 720x576 with 2 Axes>"
            ]
          },
          "metadata": {
            "tags": [],
            "needs_background": "light"
          }
        }
      ]
    },
    {
      "cell_type": "code",
      "metadata": {
        "id": "o1UTlctlqT8g"
      },
      "source": [
        ""
      ],
      "execution_count": null,
      "outputs": []
    }
  ]
}